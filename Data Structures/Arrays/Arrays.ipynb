{
 "cells": [
  {
   "cell_type": "code",
   "execution_count": 13,
   "id": "aa2fa35f",
   "metadata": {},
   "outputs": [],
   "source": [
    "class AshuList:\n",
    "    \n",
    "    def __init__(self, size):\n",
    "        import random\n",
    "        self.data = []\n",
    "        for index in range(size):\n",
    "            self.data.append(None)\n",
    "            \n",
    "    def get_actual_length(self):\n",
    "        count = 0\n",
    "        for i in range(len(self.data)):\n",
    "            if self.data[i] is not None:\n",
    "                count+=1\n",
    "            else:\n",
    "                break\n",
    "        \n",
    "        return count\n",
    "    def traverse(self, jump=0):\n",
    "        '''\n",
    "        Returns the updated traversed list with the jumps specified.\n",
    "\n",
    "        Parameters:\n",
    "                jump (int): Jump indexes during traversal\n",
    "\n",
    "        Returns:\n",
    "                new_list (List): List of traversed list elements\n",
    "        '''\n",
    "        counter = 0\n",
    "        new_list = []\n",
    "        for index in range(len(self.data)):\n",
    "            counter += 1\n",
    "            if counter > jump:\n",
    "                new_list.append(self.data[index])\n",
    "                counter=0\n",
    "        \n",
    "        return new_list\n",
    "    \n",
    "    def insert(self, index, value, shift=True):\n",
    "        '''\n",
    "        Returns the updated traversed list with added elements.\n",
    "\n",
    "        Parameters:\n",
    "                index (int): Index where you want to insert the value\n",
    "                value (int): Value which you want to insert\n",
    "                shift (bool): If index contains a value then shift all elements or not.\n",
    "\n",
    "        Returns:\n",
    "                new_list (List): List of traversed list elements\n",
    "        '''\n",
    "        \n",
    "        actual_length = self.get_actual_length()\n",
    "        \n",
    "        # Check if there is space to insert\n",
    "        if None not in self.data:\n",
    "            return \"No Place to insert/shift\"\n",
    "        \n",
    "        # When inserting at location far from last inserted.\n",
    "        if index > actual_length:\n",
    "            self.data[actual_length] = value\n",
    "            return self.data\n",
    "        \n",
    "        #Inserting at None\n",
    "        if self.data[index] is None:\n",
    "            self.data[index] = value\n",
    "            return self.data\n",
    "        else:\n",
    "            #Inserting at Not None\n",
    "            # When shifting is enabled\n",
    "            shift_start_point=actual_length-1\n",
    "            if shift==True:\n",
    "                if self.data[index] is not None:\n",
    "                     while shift_start_point>=index:\n",
    "                            \"\"\"Old Swapping code\"\"\"\n",
    "#                             self.data[shift_start_point], self.data[shift_start_point+1] = \\\n",
    "#                             self.data[shift_start_point-1], self.data[shift_start_point]\n",
    "                            \"\"\"Optimized Code\"\"\"\n",
    "                            self.data[shift_start_point+1] = self.data[shift_start_point]\n",
    "                            shift_start_point-=1\n",
    "\n",
    "                self.data[index]=value\n",
    "            else:\n",
    "            # When shifting is disabled\n",
    "                self.data[actual_length]=self.data[index]\n",
    "                self.data[index]=value\n",
    "            \n",
    "            return self.data\n",
    "    \n",
    "    def delete(self, index, shift=True):\n",
    "        '''\n",
    "        Returns the updated traversed list with deleted elements.\n",
    "\n",
    "        Parameters:\n",
    "                index (int): Index where you want to insert the value\n",
    "                shift (bool): If index contains a value then shift all elements or not.\n",
    "\n",
    "        Returns:\n",
    "                new_list (List): List of traversed list elements\n",
    "        '''\n",
    "        \n",
    "        actual_length = self.get_actual_length()\n",
    "        \n",
    "        #Deleting at not None\n",
    "        if self.data[index] is None:\n",
    "            del self.data[index]\n",
    "            return self.data\n",
    "        else:\n",
    "            # Deleting at Not None\n",
    "            # When shifting is enabled\n",
    "            shift_start_point=index\n",
    "            shift_stop_point=actual_length\n",
    "            if shift==True:\n",
    "                if self.data[index] is not None:\n",
    "                     while shift_start_point>=actual_length:\n",
    "                            \"\"\"Old Swapping code\"\"\"\n",
    "#                             self.data[shift_start_point-1], self.data[shift_start_point] = \\\n",
    "#                             self.data[shift_start_point], self.data[shift_start_point+1]\n",
    "                            \"\"\"Optimized code\"\"\"\n",
    "                            self.data[shift_start_point-1] = self.data[shift_start_point] \n",
    "                            shift_start_point+=1\n",
    "\n",
    "                del self.data[index]\n",
    "            else:\n",
    "            # When shifting is disabled\n",
    "                self.data[actual_length]=self.data[index]\n",
    "                del self.data[index]\n",
    "            \n",
    "            return self.data"
   ]
  },
  {
   "cell_type": "code",
   "execution_count": 14,
   "id": "b8afdcd6",
   "metadata": {},
   "outputs": [],
   "source": [
    "my_list = AshuList(10)"
   ]
  },
  {
   "cell_type": "code",
   "execution_count": 15,
   "id": "67002637",
   "metadata": {},
   "outputs": [
    {
     "name": "stdout",
     "output_type": "stream",
     "text": [
      "[None, None, None, None, None, None, None, None, None, None]\n"
     ]
    }
   ],
   "source": [
    "print(my_list.data)"
   ]
  },
  {
   "cell_type": "code",
   "execution_count": 16,
   "id": "5573ab4b",
   "metadata": {},
   "outputs": [
    {
     "name": "stdout",
     "output_type": "stream",
     "text": [
      "[None, None, None]\n"
     ]
    }
   ],
   "source": [
    "new_list = my_list.traverse(2)\n",
    "print(new_list)"
   ]
  },
  {
   "cell_type": "code",
   "execution_count": 17,
   "id": "9b93ced4",
   "metadata": {},
   "outputs": [
    {
     "name": "stdout",
     "output_type": "stream",
     "text": [
      "[23, None, None, None, None, None, None, None, None, None]\n",
      "[23, 12, None, None, None, None, None, None, None, None]\n",
      "[23, 12, 42, None, None, None, None, None, None, None]\n"
     ]
    }
   ],
   "source": [
    "new_list = my_list.insert(0, 23)\n",
    "print(new_list)\n",
    "new_list = my_list.insert(1, 12)\n",
    "print(new_list)\n",
    "new_list = my_list.insert(2, 42)\n",
    "print(new_list)\n",
    "\n"
   ]
  },
  {
   "cell_type": "code",
   "execution_count": 18,
   "id": "ecbecef6",
   "metadata": {},
   "outputs": [
    {
     "name": "stdout",
     "output_type": "stream",
     "text": [
      "[23, 12, 57, 42, None, None, None, None, None, None]\n"
     ]
    }
   ],
   "source": [
    "new_list = my_list.insert(2, 57)\n",
    "print(new_list)"
   ]
  },
  {
   "cell_type": "code",
   "execution_count": 19,
   "id": "fe40c91f",
   "metadata": {},
   "outputs": [
    {
     "name": "stdout",
     "output_type": "stream",
     "text": [
      "[23, 87, 12, 57, 42, None, None, None, None, None]\n"
     ]
    }
   ],
   "source": [
    "new_list = my_list.insert(1, 87)\n",
    "print(new_list)"
   ]
  },
  {
   "cell_type": "code",
   "execution_count": 20,
   "id": "41225fa0",
   "metadata": {},
   "outputs": [
    {
     "name": "stdout",
     "output_type": "stream",
     "text": [
      "[23, 87, 71, 57, 42, 12, None, None, None, None]\n"
     ]
    }
   ],
   "source": [
    "new_list = my_list.insert(2, 71, shift=False)\n",
    "print(new_list)"
   ]
  },
  {
   "cell_type": "code",
   "execution_count": 21,
   "id": "4db24db3",
   "metadata": {},
   "outputs": [
    {
     "name": "stdout",
     "output_type": "stream",
     "text": [
      "[23, 87, 71, 57, 42, 12, 13, None, None, None]\n"
     ]
    }
   ],
   "source": [
    "new_list = my_list.insert(9, 13)\n",
    "print(new_list)"
   ]
  },
  {
   "cell_type": "code",
   "execution_count": 22,
   "id": "d5b59c4b",
   "metadata": {},
   "outputs": [
    {
     "name": "stdout",
     "output_type": "stream",
     "text": [
      "[23, 87, 71, 57, 42, 12, 13, None, None]\n"
     ]
    }
   ],
   "source": [
    "new_list = my_list.delete(9)\n",
    "print(new_list)"
   ]
  },
  {
   "cell_type": "code",
   "execution_count": 23,
   "id": "0568f9c8",
   "metadata": {},
   "outputs": [
    {
     "name": "stdout",
     "output_type": "stream",
     "text": [
      "[23, 87, 71, 57, 42, 13, None, None]\n"
     ]
    }
   ],
   "source": [
    "new_list = my_list.delete(5)\n",
    "print(new_list)"
   ]
  },
  {
   "cell_type": "code",
   "execution_count": 24,
   "id": "edadfdf9",
   "metadata": {},
   "outputs": [
    {
     "name": "stdout",
     "output_type": "stream",
     "text": [
      "[23, 87, 71, 42, 13, None, None]\n"
     ]
    }
   ],
   "source": [
    "new_list = my_list.delete(3)\n",
    "print(new_list)"
   ]
  },
  {
   "cell_type": "code",
   "execution_count": 25,
   "id": "cb20bd2d",
   "metadata": {},
   "outputs": [
    {
     "name": "stdout",
     "output_type": "stream",
     "text": [
      "[23, 71, 42, 13, None, None]\n"
     ]
    }
   ],
   "source": [
    "new_list = my_list.delete(1)\n",
    "print(new_list)"
   ]
  },
  {
   "cell_type": "code",
   "execution_count": null,
   "id": "58988296",
   "metadata": {},
   "outputs": [],
   "source": []
  }
 ],
 "metadata": {
  "kernelspec": {
   "display_name": "Python 3",
   "language": "python",
   "name": "python3"
  },
  "language_info": {
   "codemirror_mode": {
    "name": "ipython",
    "version": 3
   },
   "file_extension": ".py",
   "mimetype": "text/x-python",
   "name": "python",
   "nbconvert_exporter": "python",
   "pygments_lexer": "ipython3",
   "version": "3.8.8"
  }
 },
 "nbformat": 4,
 "nbformat_minor": 5
}
