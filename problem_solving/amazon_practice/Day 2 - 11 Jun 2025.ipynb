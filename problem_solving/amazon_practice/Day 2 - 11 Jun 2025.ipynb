{
 "cells": [
  {
   "cell_type": "code",
   "execution_count": 40,
   "id": "66e725fd",
   "metadata": {},
   "outputs": [
    {
     "data": {
      "text/plain": [
       "'Given a string s, find the length of the longest substring without repeating characters'"
      ]
     },
     "execution_count": 40,
     "metadata": {},
     "output_type": "execute_result"
    }
   ],
   "source": [
    "\"\"\"Given a string s, find the length of the longest substring without repeating characters\"\"\"\n"
   ]
  },
  {
   "cell_type": "code",
   "execution_count": 45,
   "id": "33e4307d",
   "metadata": {},
   "outputs": [],
   "source": [
    "from collections import Counter\n",
    "def check_repeating_character(substring):\n",
    "    count = Counter(substring)\n",
    "    for ch, ch_count in count.items():\n",
    "        if ch_count > 1:\n",
    "            return True\n",
    "    \n",
    "    return False\n",
    "    \n",
    "\n",
    "def longest_unrepeatable_substring(s):\n",
    "    i = 0\n",
    "    \n",
    "    max_count = 0\n",
    "    for k in range(0, len(s)):\n",
    "        substring = s[i:k]\n",
    "        if not check_repeating_character(substring):\n",
    "            if max_count < len(substring):\n",
    "                max_count = len(substring)\n",
    "        else:\n",
    "            i += 1\n",
    "            \n",
    "    return max_count, substring"
   ]
  },
  {
   "cell_type": "code",
   "execution_count": 46,
   "id": "ce959cf3",
   "metadata": {},
   "outputs": [
    {
     "data": {
      "text/plain": [
       "(3, 'wke')"
      ]
     },
     "execution_count": 46,
     "metadata": {},
     "output_type": "execute_result"
    }
   ],
   "source": [
    "# s = \"abcabcbb\"\n",
    "# Output: 3  # \"abc\"\n",
    "\n",
    "# s = \"bbbbb\"\n",
    "# Output: 1  # \"b\"\n",
    "\n",
    "s = \"pwwkew\"\n",
    "#Output: 3  # \"wke\"\n",
    "\n",
    "longest_unrepeatable_substring(s)"
   ]
  },
  {
   "cell_type": "code",
   "execution_count": null,
   "id": "89f6db5a",
   "metadata": {},
   "outputs": [],
   "source": []
  },
  {
   "cell_type": "code",
   "execution_count": null,
   "id": "d35e8cd4",
   "metadata": {},
   "outputs": [],
   "source": []
  }
 ],
 "metadata": {
  "kernelspec": {
   "display_name": "Python 3",
   "language": "python",
   "name": "python3"
  },
  "language_info": {
   "codemirror_mode": {
    "name": "ipython",
    "version": 3
   },
   "file_extension": ".py",
   "mimetype": "text/x-python",
   "name": "python",
   "nbconvert_exporter": "python",
   "pygments_lexer": "ipython3",
   "version": "3.8.8"
  }
 },
 "nbformat": 4,
 "nbformat_minor": 5
}
