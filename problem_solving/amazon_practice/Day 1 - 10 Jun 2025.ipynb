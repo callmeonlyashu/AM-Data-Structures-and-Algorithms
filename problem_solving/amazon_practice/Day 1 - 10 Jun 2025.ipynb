{
 "cells": [
  {
   "cell_type": "code",
   "execution_count": 29,
   "id": "cd6b62c2",
   "metadata": {},
   "outputs": [
    {
     "name": "stdout",
     "output_type": "stream",
     "text": [
      "[0, 2]\n"
     ]
    }
   ],
   "source": [
    "\"\"\"\n",
    "Problem:\n",
    "Given an array of integers, return indices of the two numbers such that they add up to a specific target.\n",
    "\n",
    "Input: nums = [2, 7, 11, 15], target = 9\n",
    "Output: [0, 1]\n",
    "\n",
    "\"\"\"\n",
    "\n",
    "nums = [2, 7, 11, 15]\n",
    "target = 13\n",
    "def find_index(nums, target):\n",
    "    res_dict = {}\n",
    "    for index, num in enumerate(nums):\n",
    "        missing_number = target - num\n",
    "        if missing_number in res_dict:\n",
    "            return [res_dict[missing_number], index]\n",
    "        res_dict[num] = index\n",
    "\n",
    "\n",
    "indices = find_index(nums, target)\n",
    "print(indices)"
   ]
  },
  {
   "cell_type": "code",
   "execution_count": 38,
   "id": "595f1500",
   "metadata": {},
   "outputs": [
    {
     "data": {
      "text/plain": [
       "True"
      ]
     },
     "execution_count": 38,
     "metadata": {},
     "output_type": "execute_result"
    }
   ],
   "source": [
    "\"\"\"\n",
    "Problem:\n",
    "Determine if two strings are anagrams of each other.\n",
    "\n",
    "Input: s = \"listen\", t = \"silent\"\n",
    "Output: True\n",
    "\n",
    "\"\"\"\n",
    "\n",
    "s = \"listen\"\n",
    "t = \"silent\"\n",
    "\n",
    "# Approach 1\n",
    "def check_anagrams(s, t):\n",
    "    count = 0\n",
    "    for ch in s:\n",
    "        if ch in t:\n",
    "            count += 1\n",
    "            print(count)\n",
    "            \n",
    "    if count == len(s):\n",
    "        return True\n",
    "    else:\n",
    "        return False\n",
    "        \n",
    "    \n",
    "    if s==t:\n",
    "        return True\n",
    "    else:\n",
    "        return False\n",
    "    \n",
    "# Approach 2\n",
    "def check_anagrams(s, t):\n",
    "    s_list = list(s)\n",
    "    t_list = list(t)\n",
    "    s_list.sort()\n",
    "    t_list.sort()\n",
    "    \n",
    "    if s_list == t_list:\n",
    "        return True\n",
    "    else:\n",
    "        return False\n",
    "    \n",
    "check_anagrams(s, t)"
   ]
  },
  {
   "cell_type": "code",
   "execution_count": 44,
   "id": "3dea5c1e",
   "metadata": {},
   "outputs": [
    {
     "data": {
      "text/plain": [
       "39"
      ]
     },
     "execution_count": 44,
     "metadata": {},
     "output_type": "execute_result"
    }
   ],
   "source": [
    "\"\"\"\n",
    "Problem:\n",
    "Find the maximum sum of any contiguous subarray of size k.\n",
    "\n",
    "Input: arr = [1, 4, 2, 10, 23, 3, 1, 0, 20], k = 4\n",
    "Output: 39  ([4, 2, 10, 23])\n",
    "\"\"\"\n",
    "\n",
    "arr = [1, 4, 2, 10, 23, 3, 1, 0, 20]\n",
    "k = 4\n",
    "\n",
    "def largest_sum_contigous_array(arr, k):\n",
    "    i = 0\n",
    "    max_sum = 0\n",
    "    while i < len(arr):\n",
    "        curr_arr = arr[i:i+k]\n",
    "        if len(curr_arr) == k:\n",
    "            curr_sum = sum(curr_arr)\n",
    "            if curr_sum > max_sum:\n",
    "                max_sum = curr_sum\n",
    "        else:\n",
    "            break\n",
    "        i+=1\n",
    "    \n",
    "    return max_sum\n",
    "        \n",
    "largest_sum_contigous_array(arr, k)"
   ]
  },
  {
   "cell_type": "code",
   "execution_count": null,
   "id": "75753748",
   "metadata": {},
   "outputs": [],
   "source": []
  },
  {
   "cell_type": "code",
   "execution_count": null,
   "id": "85a2e81b",
   "metadata": {},
   "outputs": [],
   "source": []
  }
 ],
 "metadata": {
  "kernelspec": {
   "display_name": "Python 3",
   "language": "python",
   "name": "python3"
  },
  "language_info": {
   "codemirror_mode": {
    "name": "ipython",
    "version": 3
   },
   "file_extension": ".py",
   "mimetype": "text/x-python",
   "name": "python",
   "nbconvert_exporter": "python",
   "pygments_lexer": "ipython3",
   "version": "3.8.8"
  }
 },
 "nbformat": 4,
 "nbformat_minor": 5
}
