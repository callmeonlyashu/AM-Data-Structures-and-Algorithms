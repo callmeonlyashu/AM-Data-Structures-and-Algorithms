{
 "cells": [
  {
   "cell_type": "code",
   "execution_count": 1,
   "id": "f0019dc1",
   "metadata": {},
   "outputs": [],
   "source": [
    "arr1 = [1,3,9]\n",
    "arr2 = [2,4,7]\n",
    "\n",
    "def merge_sorted_lists(l1, l2):\n",
    "    merged = []\n",
    "    i = j = 0\n",
    "\n",
    "    while i < len(l1) and j < len(l2):\n",
    "        if l1[i] < l2[j]:\n",
    "            merged.append(l1[i])\n",
    "            i += 1\n",
    "        else:\n",
    "            merged.append(l2[j])\n",
    "            j += 1\n",
    "\n",
    "    # Append remaining elements (one of these will be non-empty)\n",
    "    merged.extend(l1[i:])\n",
    "    merged.extend(l2[j:])\n",
    "    \n",
    "    return merged"
   ]
  },
  {
   "cell_type": "code",
   "execution_count": 2,
   "id": "8a89344f",
   "metadata": {},
   "outputs": [
    {
     "name": "stdout",
     "output_type": "stream",
     "text": [
      "[1, 2, 3, 4, 7, 9]\n"
     ]
    }
   ],
   "source": [
    "print(merge_sorted_lists(arr1, arr2))"
   ]
  },
  {
   "cell_type": "code",
   "execution_count": null,
   "id": "7ad9054b",
   "metadata": {},
   "outputs": [],
   "source": []
  }
 ],
 "metadata": {
  "kernelspec": {
   "display_name": "Python 3",
   "language": "python",
   "name": "python3"
  },
  "language_info": {
   "codemirror_mode": {
    "name": "ipython",
    "version": 3
   },
   "file_extension": ".py",
   "mimetype": "text/x-python",
   "name": "python",
   "nbconvert_exporter": "python",
   "pygments_lexer": "ipython3",
   "version": "3.8.8"
  }
 },
 "nbformat": 4,
 "nbformat_minor": 5
}
