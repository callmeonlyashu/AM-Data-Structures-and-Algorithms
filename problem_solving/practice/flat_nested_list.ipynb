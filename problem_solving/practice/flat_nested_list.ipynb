{
 "cells": [
  {
   "cell_type": "code",
   "execution_count": 1,
   "id": "9aa56d95",
   "metadata": {},
   "outputs": [],
   "source": [
    "nested_list = [1,2,3,[4,5,6, [7,8,9, [11,12,13]]]]"
   ]
  },
  {
   "cell_type": "code",
   "execution_count": 6,
   "id": "13b9a67e",
   "metadata": {},
   "outputs": [],
   "source": [
    "def flat_list(nested_list, res=[]):\n",
    "    for lst in nested_list:\n",
    "        if isinstance(lst, list):\n",
    "            flat_list(lst, res)\n",
    "        else:\n",
    "            res.append(lst)\n",
    "    \n",
    "    return res"
   ]
  },
  {
   "cell_type": "code",
   "execution_count": 7,
   "id": "b64fb80b",
   "metadata": {},
   "outputs": [
    {
     "data": {
      "text/plain": [
       "[1, 2, 3, 4, 5, 6, 7, 8, 9, 11, 12, 13]"
      ]
     },
     "execution_count": 7,
     "metadata": {},
     "output_type": "execute_result"
    }
   ],
   "source": [
    "flat_list(nested_list, [])"
   ]
  },
  {
   "cell_type": "code",
   "execution_count": null,
   "id": "32449f7b",
   "metadata": {},
   "outputs": [],
   "source": []
  }
 ],
 "metadata": {
  "kernelspec": {
   "display_name": "Python 3",
   "language": "python",
   "name": "python3"
  },
  "language_info": {
   "codemirror_mode": {
    "name": "ipython",
    "version": 3
   },
   "file_extension": ".py",
   "mimetype": "text/x-python",
   "name": "python",
   "nbconvert_exporter": "python",
   "pygments_lexer": "ipython3",
   "version": "3.8.8"
  }
 },
 "nbformat": 4,
 "nbformat_minor": 5
}
