{
 "cells": [
  {
   "cell_type": "code",
   "execution_count": 1,
   "id": "b7dfe88b",
   "metadata": {},
   "outputs": [
    {
     "data": {
      "text/plain": [
       "'[[1,3],[2,6],[8,10],[15,18]]\\nOutput: [[1,6],[8,10],[15,18]]'"
      ]
     },
     "execution_count": 1,
     "metadata": {},
     "output_type": "execute_result"
    }
   ],
   "source": [
    "\"\"\"[[1,3],[2,6],[8,10],[15,18]]\n",
    "Output: [[1,6],[8,10],[15,18]]\"\"\""
   ]
  },
  {
   "cell_type": "code",
   "execution_count": 31,
   "id": "4147fe06",
   "metadata": {},
   "outputs": [],
   "source": [
    "inp = [[1,9],[2,6],[5,10],[15,18]]"
   ]
  },
  {
   "cell_type": "code",
   "execution_count": 41,
   "id": "428a4f2a",
   "metadata": {},
   "outputs": [
    {
     "name": "stdout",
     "output_type": "stream",
     "text": [
      "[[1, 10], [15, 18]]\n"
     ]
    }
   ],
   "source": [
    "# inp = [[1,3],[2,6],[8,10],[15,18]]\n",
    "inp = [[1,9],[2,6],[5,10],[15,18]]\n",
    "\n",
    "i = 0\n",
    "j = 1\n",
    "\n",
    "new_arr = []\n",
    "curr_min, curr_max = inp[i]   # track ongoing interval\n",
    "\n",
    "while j < len(inp):\n",
    "    if inp[j][0] <= curr_max:   # overlap\n",
    "        curr_max = max(curr_max, inp[j][1])   # just update max\n",
    "        \n",
    "    else:   \n",
    "        # no overlap → finalize the current interval\n",
    "        new_arr.append([curr_min, curr_max])\n",
    "        curr_min, curr_max = inp[j]   # start new interval\n",
    "    \n",
    "    j += 1\n",
    "\n",
    "# don’t forget the last interval\n",
    "new_arr.append([curr_min, curr_max])\n",
    "\n",
    "print(new_arr)"
   ]
  },
  {
   "cell_type": "code",
   "execution_count": null,
   "id": "016474fe",
   "metadata": {},
   "outputs": [],
   "source": []
  },
  {
   "cell_type": "code",
   "execution_count": null,
   "id": "179d6648",
   "metadata": {},
   "outputs": [],
   "source": []
  }
 ],
 "metadata": {
  "kernelspec": {
   "display_name": "Python 3",
   "language": "python",
   "name": "python3"
  },
  "language_info": {
   "codemirror_mode": {
    "name": "ipython",
    "version": 3
   },
   "file_extension": ".py",
   "mimetype": "text/x-python",
   "name": "python",
   "nbconvert_exporter": "python",
   "pygments_lexer": "ipython3",
   "version": "3.8.8"
  }
 },
 "nbformat": 4,
 "nbformat_minor": 5
}
