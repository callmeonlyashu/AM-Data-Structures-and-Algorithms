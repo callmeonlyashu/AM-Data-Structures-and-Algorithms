{
 "cells": [
  {
   "cell_type": "code",
   "execution_count": 73,
   "id": "c0390e7b",
   "metadata": {},
   "outputs": [
    {
     "name": "stdout",
     "output_type": "stream",
     "text": [
      "\n",
      "Final result: ['Four score', 'and seven', 'years ago our', 'fathers', 'brought forth', 'upon this', 'continent a', 'new nation,', 'conceived in', 'liberty and', 'dedicated to', 'the', 'proposition', 'that all men', 'are created', 'equal']\n",
      "Tests Passed\n"
     ]
    }
   ],
   "source": [
    "\n",
    "\n",
    "# Write a function that takes 2 arguments, the first one should be a text and the second one a number,\n",
    "# the function should return the first argument divide into multiple lines of text such that no\n",
    "# line of text is greater than N\n",
    "# characters and words are kept whole, where N represents the second argument.\n",
    "\n",
    "def multiple_lines(text, max_length):\n",
    "    word_array = text.split(\" \")\n",
    "    res = []\n",
    "    curr_line = \"\"\n",
    "    curr_len = 0\n",
    "\n",
    "    for word in word_array:\n",
    "#         print(f\"\\nProcessing word: '{word}'\")\n",
    "        # Determine if we need a space\n",
    "        space_needed = 1 if curr_line else 0\n",
    "#         print(f\"Current line before adding: '{curr_line}' (length={curr_len})\")\n",
    "\n",
    "        # Check if the current word can be added\n",
    "        if curr_len + len(word) + space_needed <= max_length:\n",
    "            if curr_line:\n",
    "                curr_line += \" \"\n",
    "            curr_line += word\n",
    "            curr_len += len(word) + space_needed\n",
    "#             print(f\"--> Added. New line: '{curr_line}' (length={curr_len})\")\n",
    "        else:\n",
    "            # Commit the current line and reset\n",
    "#             print(f\"--> Line full. Appending line: '{curr_line}'\")\n",
    "            res.append(curr_line)\n",
    "            curr_line = word\n",
    "            curr_len = len(word)\n",
    "#             print(f\"--> Starting new line with: '{curr_line}'\")\n",
    "\n",
    "    # Add the last line if anything is left\n",
    "    if curr_line:\n",
    "#         print(f\"\\nFinal line to append: '{curr_line}'\")\n",
    "        res.append(curr_line)\n",
    "\n",
    "    print(\"\\nFinal result:\", res)\n",
    "    return res\n",
    "\n",
    "\n",
    "# assert multiple_lines('etiam', 20) == ['etiam']\n",
    "assert multiple_lines('Four score and seven years ago our fathers brought forth upon this continent a new nation, conceived in liberty and dedicated to the proposition that all men are created equal', 13) == [\n",
    "    'Four score',\n",
    "    'and seven',\n",
    "    'years ago our',\n",
    "    'fathers',\n",
    "    'brought forth',\n",
    "    'upon this',\n",
    "    'continent a',\n",
    "    'new nation,',\n",
    "    'conceived in',\n",
    "    'liberty and',\n",
    "    'dedicated to',\n",
    "    'the',\n",
    "    'proposition',\n",
    "    'that all men',\n",
    "    'are created',\n",
    "    'equal',\n",
    "]\n",
    "\n",
    "print('Tests Passed')\n"
   ]
  },
  {
   "cell_type": "code",
   "execution_count": null,
   "id": "e8c07623",
   "metadata": {},
   "outputs": [],
   "source": []
  },
  {
   "cell_type": "code",
   "execution_count": null,
   "id": "b52c9904",
   "metadata": {},
   "outputs": [],
   "source": []
  }
 ],
 "metadata": {
  "kernelspec": {
   "display_name": "Python 3",
   "language": "python",
   "name": "python3"
  },
  "language_info": {
   "codemirror_mode": {
    "name": "ipython",
    "version": 3
   },
   "file_extension": ".py",
   "mimetype": "text/x-python",
   "name": "python",
   "nbconvert_exporter": "python",
   "pygments_lexer": "ipython3",
   "version": "3.8.8"
  }
 },
 "nbformat": 4,
 "nbformat_minor": 5
}
