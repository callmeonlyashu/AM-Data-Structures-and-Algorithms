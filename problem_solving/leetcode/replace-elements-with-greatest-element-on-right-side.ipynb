{
 "cells": [
  {
   "cell_type": "markdown",
   "id": "f43ab422",
   "metadata": {},
   "source": [
    "Link: https://leetcode.com/problems/replace-elements-with-greatest-element-on-right-side/"
   ]
  },
  {
   "cell_type": "code",
   "execution_count": 1,
   "id": "937fad8d",
   "metadata": {},
   "outputs": [],
   "source": [
    "from typing import List\n",
    "class Solution:\n",
    "    def replaceElements(self, arr: List[int]) -> List[int]:\n",
    "        i = len(arr) - 1\n",
    "        max_element = -1\n",
    "        while i >= 0:\n",
    "            temp = max_element\n",
    "            max_element = max(arr[i], max_element)\n",
    "            arr[i] = temp\n",
    "            i -= 1\n",
    "    \n",
    "        return arr\n"
   ]
  },
  {
   "cell_type": "code",
   "execution_count": null,
   "id": "eda7ad8c",
   "metadata": {},
   "outputs": [],
   "source": []
  }
 ],
 "metadata": {
  "kernelspec": {
   "display_name": "Python 3",
   "language": "python",
   "name": "python3"
  },
  "language_info": {
   "codemirror_mode": {
    "name": "ipython",
    "version": 3
   },
   "file_extension": ".py",
   "mimetype": "text/x-python",
   "name": "python",
   "nbconvert_exporter": "python",
   "pygments_lexer": "ipython3",
   "version": "3.8.8"
  }
 },
 "nbformat": 4,
 "nbformat_minor": 5
}
