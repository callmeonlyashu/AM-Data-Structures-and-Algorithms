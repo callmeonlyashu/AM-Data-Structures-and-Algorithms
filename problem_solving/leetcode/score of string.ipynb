{
 "cells": [
  {
   "cell_type": "markdown",
   "id": "7502a4ec",
   "metadata": {},
   "source": [
    "Link: https://leetcode.com/problems/score-of-a-string/"
   ]
  },
  {
   "cell_type": "code",
   "execution_count": 1,
   "id": "dd5c54b4",
   "metadata": {},
   "outputs": [],
   "source": [
    "class Solution:\n",
    "    def scoreOfString(self, s: str) -> int:\n",
    "        l=0\n",
    "        r=1\n",
    "\n",
    "        score = 0\n",
    "        while r < len(s):\n",
    "            score += abs(ord(s[l]) - ord(s[r]))\n",
    "            l+=1\n",
    "            r+=1\n",
    "        \n",
    "        return score"
   ]
  },
  {
   "cell_type": "code",
   "execution_count": null,
   "id": "ba3707bf",
   "metadata": {},
   "outputs": [],
   "source": []
  }
 ],
 "metadata": {
  "kernelspec": {
   "display_name": "Python 3",
   "language": "python",
   "name": "python3"
  },
  "language_info": {
   "codemirror_mode": {
    "name": "ipython",
    "version": 3
   },
   "file_extension": ".py",
   "mimetype": "text/x-python",
   "name": "python",
   "nbconvert_exporter": "python",
   "pygments_lexer": "ipython3",
   "version": "3.8.8"
  }
 },
 "nbformat": 4,
 "nbformat_minor": 5
}
