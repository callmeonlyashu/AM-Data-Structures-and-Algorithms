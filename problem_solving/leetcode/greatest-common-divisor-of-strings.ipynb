{
 "cells": [
  {
   "cell_type": "markdown",
   "id": "ece2de53",
   "metadata": {},
   "source": [
    "Link: https://leetcode.com/problems/greatest-common-divisor-of-strings/"
   ]
  },
  {
   "cell_type": "code",
   "execution_count": 1,
   "id": "4cd5fad5",
   "metadata": {},
   "outputs": [],
   "source": [
    "class Solution:\n",
    "    def gcdOfStrings(self, str1: str, str2: str) -> str:\n",
    "        i = 0\n",
    "\n",
    "        common_string = \"\"\n",
    "        all_strs = []\n",
    "        while i < len(str1) and i < len(str2):\n",
    "            if str1[i] == str2[i]:\n",
    "                common_string += str1[i]\n",
    "                all_strs.append(common_string)\n",
    "            else:\n",
    "                break\n",
    "\n",
    "            i += 1\n",
    "        \n",
    "        final_str = \"\"\n",
    "        for s in all_strs:\n",
    "            mul_num1 = len(str1) // len(s)\n",
    "            mul_num2 = len(str2) // len(s)\n",
    "            if s*mul_num1 == str1 and s*mul_num2 == str2:\n",
    "                final_str = s\n",
    "\n",
    "        return final_str \n"
   ]
  },
  {
   "cell_type": "code",
   "execution_count": null,
   "id": "8e8b0676",
   "metadata": {},
   "outputs": [],
   "source": [
    "class Solution:\n",
    "    def gcdOfStrings(self, str1: str, str2: str) -> str:\n",
    "        if str1 + str2 != str2 + str1:\n",
    "            return \"\"\n",
    "\n",
    "        g = gcd(len(str1), len(str2))\n",
    "        return str1[:g]"
   ]
  },
  {
   "cell_type": "code",
   "execution_count": null,
   "id": "0814a53c",
   "metadata": {},
   "outputs": [],
   "source": []
  }
 ],
 "metadata": {
  "kernelspec": {
   "display_name": "Python 3",
   "language": "python",
   "name": "python3"
  },
  "language_info": {
   "codemirror_mode": {
    "name": "ipython",
    "version": 3
   },
   "file_extension": ".py",
   "mimetype": "text/x-python",
   "name": "python",
   "nbconvert_exporter": "python",
   "pygments_lexer": "ipython3",
   "version": "3.8.8"
  }
 },
 "nbformat": 4,
 "nbformat_minor": 5
}
