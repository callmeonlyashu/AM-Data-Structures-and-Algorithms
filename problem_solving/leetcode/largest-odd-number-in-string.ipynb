{
 "cells": [
  {
   "cell_type": "markdown",
   "id": "34a3cf52",
   "metadata": {},
   "source": [
    "Link: https://leetcode.com/problems/largest-odd-number-in-string/"
   ]
  },
  {
   "cell_type": "code",
   "execution_count": 1,
   "id": "3ce50e2c",
   "metadata": {},
   "outputs": [],
   "source": [
    "class Solution:\n",
    "    def largestOddNumber(self, num: str) -> str:\n",
    "        odd_suffix = [\"1\",\"3\", \"5\", \"7\", \"9\"]\n",
    "\n",
    "        indices = []\n",
    "        for i in odd_suffix:\n",
    "            # Find the last element of odd suffix\n",
    "            indices.append(num.rfind(i))\n",
    "        \n",
    "        max_index = max(indices)\n",
    "        return num[:max_index+1]\n"
   ]
  },
  {
   "cell_type": "code",
   "execution_count": null,
   "id": "715eaf90",
   "metadata": {},
   "outputs": [],
   "source": []
  }
 ],
 "metadata": {
  "kernelspec": {
   "display_name": "Python 3",
   "language": "python",
   "name": "python3"
  },
  "language_info": {
   "codemirror_mode": {
    "name": "ipython",
    "version": 3
   },
   "file_extension": ".py",
   "mimetype": "text/x-python",
   "name": "python",
   "nbconvert_exporter": "python",
   "pygments_lexer": "ipython3",
   "version": "3.8.8"
  }
 },
 "nbformat": 4,
 "nbformat_minor": 5
}
