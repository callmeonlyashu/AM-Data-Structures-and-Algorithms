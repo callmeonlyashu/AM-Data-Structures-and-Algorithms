{
 "cells": [
  {
   "cell_type": "markdown",
   "id": "7a4d4494",
   "metadata": {},
   "source": [
    "Link: https://leetcode.com/problems/evaluate-reverse-polish-notation/"
   ]
  },
  {
   "cell_type": "code",
   "execution_count": 1,
   "id": "59e2e2a7",
   "metadata": {},
   "outputs": [],
   "source": [
    "from typing import List\n",
    "\n",
    "class Solution:\n",
    "    def evalRPN(self, tokens: List[str]) -> int:\n",
    "        operations = ['+', '-', '*', '/']\n",
    "        stack = []\n",
    "\n",
    "        for t in tokens:\n",
    "            # print(\"stack\", stack)\n",
    "            if t in operations:\n",
    "                num1 = stack.pop()\n",
    "                num2 = stack.pop()\n",
    "                if t == \"+\":\n",
    "                    operation_res = num2+num1\n",
    "                elif t == \"*\":\n",
    "                    operation_res = num2*num1\n",
    "                elif t == \"/\":\n",
    "                    operation_res = int(num2/num1)\n",
    "                elif t == \"-\":\n",
    "                    operation_res = num2-num1\n",
    "                # print(\"operation_res, t, num2, num1\", operation_res, t, num2, num1)\n",
    "                stack.append(operation_res)\n",
    "            else:\n",
    "                stack.append(int(t))\n",
    "\n",
    "        return stack[0]\n"
   ]
  },
  {
   "cell_type": "code",
   "execution_count": null,
   "id": "3898f271",
   "metadata": {},
   "outputs": [],
   "source": []
  }
 ],
 "metadata": {
  "kernelspec": {
   "display_name": "Python 3",
   "language": "python",
   "name": "python3"
  },
  "language_info": {
   "codemirror_mode": {
    "name": "ipython",
    "version": 3
   },
   "file_extension": ".py",
   "mimetype": "text/x-python",
   "name": "python",
   "nbconvert_exporter": "python",
   "pygments_lexer": "ipython3",
   "version": "3.8.8"
  }
 },
 "nbformat": 4,
 "nbformat_minor": 5
}
