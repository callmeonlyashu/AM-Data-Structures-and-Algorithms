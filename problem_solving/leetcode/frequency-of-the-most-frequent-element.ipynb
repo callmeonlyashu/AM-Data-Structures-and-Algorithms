{
 "cells": [
  {
   "cell_type": "markdown",
   "id": "02f33aa1",
   "metadata": {},
   "source": [
    "Link: https://leetcode.com/problems/frequency-of-the-most-frequent-element/description/"
   ]
  },
  {
   "cell_type": "code",
   "execution_count": 1,
   "id": "2b1b7340",
   "metadata": {},
   "outputs": [],
   "source": [
    "from typing import List\n",
    "class Solution:\n",
    "    def maxFrequency(self, nums: List[int], k: int) -> int:\n",
    "        nums.sort()\n",
    "        i = 0\n",
    "        j = 1\n",
    "\n",
    "        curr_total = nums[0]\n",
    "        max_length = 1\n",
    "\n",
    "        while j < len(nums):\n",
    "            curr_total += nums[j]\n",
    "            expected_total = nums[j] * (j - i + 1)\n",
    "\n",
    "            while (expected_total - curr_total) > k:\n",
    "                curr_total -= nums[i]\n",
    "                i += 1\n",
    "                expected_total = nums[j] * (j - i + 1)\n",
    "\n",
    "            max_length = max(max_length, (j - i + 1)) \n",
    "            j += 1\n",
    "        \n",
    "        return max_length\n",
    "        \n"
   ]
  },
  {
   "cell_type": "code",
   "execution_count": null,
   "id": "6d2e89e2",
   "metadata": {},
   "outputs": [],
   "source": []
  }
 ],
 "metadata": {
  "kernelspec": {
   "display_name": "Python 3",
   "language": "python",
   "name": "python3"
  },
  "language_info": {
   "codemirror_mode": {
    "name": "ipython",
    "version": 3
   },
   "file_extension": ".py",
   "mimetype": "text/x-python",
   "name": "python",
   "nbconvert_exporter": "python",
   "pygments_lexer": "ipython3",
   "version": "3.8.8"
  }
 },
 "nbformat": 4,
 "nbformat_minor": 5
}
