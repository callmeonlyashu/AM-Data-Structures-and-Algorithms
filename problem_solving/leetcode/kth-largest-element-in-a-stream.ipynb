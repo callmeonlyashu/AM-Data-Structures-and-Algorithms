{
 "cells": [
  {
   "cell_type": "markdown",
   "id": "d8b4ed4c",
   "metadata": {},
   "source": [
    "Link: https://leetcode.com/problems/kth-largest-element-in-a-stream/"
   ]
  },
  {
   "cell_type": "code",
   "execution_count": 1,
   "id": "c17e1baa",
   "metadata": {},
   "outputs": [],
   "source": [
    "from typing import List\n",
    "\n",
    "class KthLargest:\n",
    "\n",
    "    def __init__(self, k: int, nums: List[int]):\n",
    "        self.k = k\n",
    "        self.nums = nums\n",
    "        # self.nums.sort(reverse=True) \n",
    "\n",
    "    def add(self, val: int) -> int:\n",
    "        self.nums.append(val)\n",
    "        self.nums.sort(reverse=True)\n",
    "        # print(f\"self.nums\", self.nums)\n",
    "        if len(self.nums):\n",
    "            return self.nums[self.k-1]\n",
    "        else:\n",
    "            return None\n",
    "\n",
    "\n",
    "# Your KthLargest object will be instantiated and called as such:\n",
    "# obj = KthLargest(k, nums)\n",
    "# param_1 = obj.add(val)"
   ]
  },
  {
   "cell_type": "code",
   "execution_count": null,
   "id": "e8521f21",
   "metadata": {},
   "outputs": [],
   "source": []
  }
 ],
 "metadata": {
  "kernelspec": {
   "display_name": "Python 3",
   "language": "python",
   "name": "python3"
  },
  "language_info": {
   "codemirror_mode": {
    "name": "ipython",
    "version": 3
   },
   "file_extension": ".py",
   "mimetype": "text/x-python",
   "name": "python",
   "nbconvert_exporter": "python",
   "pygments_lexer": "ipython3",
   "version": "3.8.8"
  }
 },
 "nbformat": 4,
 "nbformat_minor": 5
}
