{
 "cells": [
  {
   "cell_type": "markdown",
   "id": "3684f926",
   "metadata": {},
   "source": [
    "Link: https://leetcode.com/problems/binary-tree-inorder-traversal/"
   ]
  },
  {
   "cell_type": "code",
   "execution_count": 5,
   "id": "a736220f",
   "metadata": {},
   "outputs": [],
   "source": [
    "from typing import List, Optional\n",
    "# Definition for a binary tree node.\n",
    "class TreeNode:\n",
    "    def __init__(self, val=0, left=None, right=None):\n",
    "        self.val = val\n",
    "        self.left = left\n",
    "        self.right = right\n",
    "class Solution:\n",
    "    def inorderTraversal(self, root: Optional[TreeNode]) -> List[int]:\n",
    "        \n",
    "        res = []\n",
    "        def inorder(node):\n",
    "            if not node:\n",
    "                return\n",
    "            \n",
    "            inorder(node.left)\n",
    "            res.append(node.val)\n",
    "            inorder(node.right)\n",
    "\n",
    "        inorder(root)\n",
    "        return res"
   ]
  },
  {
   "cell_type": "code",
   "execution_count": null,
   "id": "f05a106e",
   "metadata": {},
   "outputs": [],
   "source": []
  }
 ],
 "metadata": {
  "kernelspec": {
   "display_name": "Python 3",
   "language": "python",
   "name": "python3"
  },
  "language_info": {
   "codemirror_mode": {
    "name": "ipython",
    "version": 3
   },
   "file_extension": ".py",
   "mimetype": "text/x-python",
   "name": "python",
   "nbconvert_exporter": "python",
   "pygments_lexer": "ipython3",
   "version": "3.8.8"
  }
 },
 "nbformat": 4,
 "nbformat_minor": 5
}
