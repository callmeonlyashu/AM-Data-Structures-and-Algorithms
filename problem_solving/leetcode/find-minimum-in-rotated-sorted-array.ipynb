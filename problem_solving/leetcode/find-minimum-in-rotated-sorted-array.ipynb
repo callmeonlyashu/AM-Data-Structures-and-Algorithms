{
 "cells": [
  {
   "cell_type": "markdown",
   "id": "16c70692",
   "metadata": {},
   "source": [
    "Link: https://leetcode.com/problems/find-minimum-in-rotated-sorted-array/"
   ]
  },
  {
   "cell_type": "code",
   "execution_count": 29,
   "id": "97405787",
   "metadata": {},
   "outputs": [
    {
     "name": "stdout",
     "output_type": "stream",
     "text": [
      "RESULT: 0\n",
      "RESULT: 1\n",
      "RESULT: 11\n"
     ]
    },
    {
     "data": {
      "text/plain": [
       "11"
      ]
     },
     "execution_count": 29,
     "metadata": {},
     "output_type": "execute_result"
    }
   ],
   "source": [
    "from typing import List\n",
    "class Solution:\n",
    "    def findMin(self, nums: List[int]) -> int:\n",
    "        \"\"\"\n",
    "        Hint 1\n",
    "            Array was originally in ascending order. Now that the array is rotated, \n",
    "            there would be a point in the array where there is a small deflection \n",
    "            from the increasing sequence. eg. The array would be something like [4, 5, 6, 7, 0, 1, 2].\n",
    "        Hint 2\n",
    "            You can divide the search space into two and see which direction to go. \n",
    "            Can you think of an algorithm which has O(logN) search complexity?\n",
    "        Hint 3\n",
    "            All the elements to the left of inflection point > first element of the array.\n",
    "            All the elements to the right of inflection point < first element of the array.\n",
    "        \"\"\"\n",
    "        \n",
    "        \n",
    "        l = 0\n",
    "        r = len(nums)-1\n",
    "        minimum = nums[0] # Since the max range is from -5000 to 5000\n",
    "        while l < r:\n",
    "#             print(\"here\")\n",
    "            mid = (l+r)//2\n",
    "            minimum = min(minimum, nums[mid])\n",
    "#             print(f\"nums[mid]: {nums[mid]}, minimum: {minimum}\")\n",
    "            if nums[r] <= nums[mid]:\n",
    "                l = mid+1\n",
    "            else:\n",
    "                r = mid\n",
    "        print(f\"RESULT: {minimum}\")\n",
    "        return minimum\n",
    "        \n",
    "\n",
    "\n",
    "s = Solution()\n",
    "s.findMin([4, 5, 6, 7, 0, 1, 2])\n",
    "s.findMin([3,4,5,1,2])\n",
    "s.findMin([11,13,15,17])"
   ]
  },
  {
   "cell_type": "code",
   "execution_count": null,
   "id": "97531af5",
   "metadata": {},
   "outputs": [],
   "source": []
  }
 ],
 "metadata": {
  "kernelspec": {
   "display_name": "Python 3",
   "language": "python",
   "name": "python3"
  },
  "language_info": {
   "codemirror_mode": {
    "name": "ipython",
    "version": 3
   },
   "file_extension": ".py",
   "mimetype": "text/x-python",
   "name": "python",
   "nbconvert_exporter": "python",
   "pygments_lexer": "ipython3",
   "version": "3.8.8"
  }
 },
 "nbformat": 4,
 "nbformat_minor": 5
}
