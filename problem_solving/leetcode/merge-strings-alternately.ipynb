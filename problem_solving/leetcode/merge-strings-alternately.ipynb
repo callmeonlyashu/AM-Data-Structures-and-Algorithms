{
 "cells": [
  {
   "cell_type": "markdown",
   "id": "ba1ac959",
   "metadata": {},
   "source": [
    "Link: https://leetcode.com/problems/merge-strings-alternately/"
   ]
  },
  {
   "cell_type": "code",
   "execution_count": null,
   "id": "0c565c33",
   "metadata": {},
   "outputs": [],
   "source": [
    "class Solution:\n",
    "    def mergeAlternately(self, word1: str, word2: str) -> str:\n",
    "        i = 0\n",
    "        j = 0\n",
    "\n",
    "        merged_word = \"\"\n",
    "        while i < len(word1) and j < len(word2):\n",
    "            merged_word += word1[i] + word2[j]\n",
    "            i += 1\n",
    "            j += 1\n",
    "\n",
    "        if i < len(word1):\n",
    "            merged_word += word1[i:]\n",
    "        \n",
    "        if j < len(word2):\n",
    "            merged_word += word2[j:]\n",
    "        \n",
    "        return merged_word"
   ]
  }
 ],
 "metadata": {
  "kernelspec": {
   "display_name": "Python 3",
   "language": "python",
   "name": "python3"
  },
  "language_info": {
   "codemirror_mode": {
    "name": "ipython",
    "version": 3
   },
   "file_extension": ".py",
   "mimetype": "text/x-python",
   "name": "python",
   "nbconvert_exporter": "python",
   "pygments_lexer": "ipython3",
   "version": "3.8.8"
  }
 },
 "nbformat": 4,
 "nbformat_minor": 5
}
