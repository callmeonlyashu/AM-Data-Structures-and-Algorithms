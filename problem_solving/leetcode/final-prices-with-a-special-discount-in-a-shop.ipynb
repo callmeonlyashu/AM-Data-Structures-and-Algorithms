{
 "cells": [
  {
   "cell_type": "markdown",
   "id": "245bc267",
   "metadata": {},
   "source": [
    "Link: https://leetcode.com/problems/final-prices-with-a-special-discount-in-a-shop/"
   ]
  },
  {
   "cell_type": "code",
   "execution_count": 1,
   "id": "7b8c0af4",
   "metadata": {},
   "outputs": [],
   "source": [
    "from typing import List\n",
    "\n",
    "class Solution:\n",
    "    def finalPrices(self, prices: List[int]) -> List[int]:\n",
    "        \n",
    "        discount_prices = []\n",
    "        for p in range(len(prices)):\n",
    "            curr_price = prices[p]\n",
    "            i = p + 1\n",
    "            discount = 0\n",
    "            while i < len(prices):\n",
    "                if curr_price >= prices[i]:\n",
    "                    discount = prices[i]\n",
    "                    break\n",
    "                \n",
    "                i += 1\n",
    "        \n",
    "            discount_prices.append(curr_price - discount)\n",
    "\n",
    "        return discount_prices\n",
    "\n"
   ]
  },
  {
   "cell_type": "code",
   "execution_count": null,
   "id": "3457ff4e",
   "metadata": {},
   "outputs": [],
   "source": []
  }
 ],
 "metadata": {
  "kernelspec": {
   "display_name": "Python 3",
   "language": "python",
   "name": "python3"
  },
  "language_info": {
   "codemirror_mode": {
    "name": "ipython",
    "version": 3
   },
   "file_extension": ".py",
   "mimetype": "text/x-python",
   "name": "python",
   "nbconvert_exporter": "python",
   "pygments_lexer": "ipython3",
   "version": "3.8.8"
  }
 },
 "nbformat": 4,
 "nbformat_minor": 5
}
