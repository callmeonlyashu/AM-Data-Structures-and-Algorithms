{
 "cells": [
  {
   "cell_type": "markdown",
   "id": "a9420d18",
   "metadata": {},
   "source": [
    "Link: https://leetcode.com/problems/maximum-subarray/"
   ]
  },
  {
   "cell_type": "code",
   "execution_count": null,
   "id": "48d0d27a",
   "metadata": {},
   "outputs": [],
   "source": [
    "from typing import List\n",
    "class Solution:\n",
    "    def maxSubArray(self, nums: List[int]) -> int:\n",
    "        nums_length = len(nums)\n",
    "\n",
    "        if len(nums) == 1:\n",
    "            return nums[0]\n",
    "\n",
    "        max_sum = float(\"-inf\")\n",
    "\n",
    "        left, right = 0, 0\n",
    "        curr_sum = 0\n",
    "        while right < nums_length:\n",
    "            if curr_sum < 0:\n",
    "                curr_sum = nums[right]\n",
    "                left = right\n",
    "            else:\n",
    "                curr_sum += nums[right]\n",
    "            if curr_sum > max_sum:\n",
    "                max_sum = curr_sum\n",
    "            right += 1\n",
    "        \n",
    "        return max_sum\n"
   ]
  }
 ],
 "metadata": {
  "kernelspec": {
   "display_name": "Python 3",
   "language": "python",
   "name": "python3"
  },
  "language_info": {
   "codemirror_mode": {
    "name": "ipython",
    "version": 3
   },
   "file_extension": ".py",
   "mimetype": "text/x-python",
   "name": "python",
   "nbconvert_exporter": "python",
   "pygments_lexer": "ipython3",
   "version": "3.8.8"
  }
 },
 "nbformat": 4,
 "nbformat_minor": 5
}
