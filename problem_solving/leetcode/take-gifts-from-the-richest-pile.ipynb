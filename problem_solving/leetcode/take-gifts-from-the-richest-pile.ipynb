{
 "cells": [
  {
   "cell_type": "markdown",
   "id": "a1eee5a3",
   "metadata": {},
   "source": [
    "Link: https://leetcode.com/problems/take-gifts-from-the-richest-pile/"
   ]
  },
  {
   "cell_type": "code",
   "execution_count": 2,
   "id": "f396da7d",
   "metadata": {},
   "outputs": [],
   "source": [
    "import heapq\n",
    "import math\n",
    "from typing import List\n",
    "\n",
    "class Solution:\n",
    "    def pickGifts(self, gifts: List[int], k: int) -> int:\n",
    "        gifts = [-g for g in gifts]\n",
    "        heapq.heapify(gifts)\n",
    "\n",
    "        for _ in range(k):\n",
    "            curr_max = -heapq.heappop(gifts)\n",
    "            new_val = math.floor(math.sqrt(curr_max))\n",
    "            # print(\"-new_val, curr_max\", -new_val, curr_max)\n",
    "            heapq.heappush(gifts, -new_val)\n",
    "        \n",
    "        pgifts = [-g for g in gifts]\n",
    "        return sum(pgifts)\n",
    "\n"
   ]
  },
  {
   "cell_type": "code",
   "execution_count": null,
   "id": "b90df1d8",
   "metadata": {},
   "outputs": [],
   "source": []
  }
 ],
 "metadata": {
  "kernelspec": {
   "display_name": "Python 3",
   "language": "python",
   "name": "python3"
  },
  "language_info": {
   "codemirror_mode": {
    "name": "ipython",
    "version": 3
   },
   "file_extension": ".py",
   "mimetype": "text/x-python",
   "name": "python",
   "nbconvert_exporter": "python",
   "pygments_lexer": "ipython3",
   "version": "3.8.8"
  }
 },
 "nbformat": 4,
 "nbformat_minor": 5
}
