{
 "cells": [
  {
   "cell_type": "markdown",
   "id": "cbd2d1b9",
   "metadata": {},
   "source": [
    "Link: https://leetcode.com/problems/combination-sum/description/"
   ]
  },
  {
   "cell_type": "code",
   "execution_count": null,
   "id": "6fa75424",
   "metadata": {},
   "outputs": [],
   "source": [
    "class Solution:\n",
    "    def combinationSum(self, candidates: List[int], target: int) -> List[List[int]]:\n",
    "        res = []\n",
    "\n",
    "        def backtracking(i, curr, total):\n",
    "            if total == target:\n",
    "                res.append(curr.copy())\n",
    "                return\n",
    "            \n",
    "            if i >= len(candidates) or total > target:\n",
    "                return\n",
    "            \n",
    "            curr.append(candidates[i])\n",
    "            backtracking(i, curr, total+candidates[i])\n",
    "            curr.pop()\n",
    "            backtracking(i+1, curr, total)\n",
    "        \n",
    "        backtracking(0, [], 0)\n",
    "        return res"
   ]
  }
 ],
 "metadata": {
  "kernelspec": {
   "display_name": "Python 3",
   "language": "python",
   "name": "python3"
  },
  "language_info": {
   "codemirror_mode": {
    "name": "ipython",
    "version": 3
   },
   "file_extension": ".py",
   "mimetype": "text/x-python",
   "name": "python",
   "nbconvert_exporter": "python",
   "pygments_lexer": "ipython3",
   "version": "3.8.8"
  }
 },
 "nbformat": 4,
 "nbformat_minor": 5
}
