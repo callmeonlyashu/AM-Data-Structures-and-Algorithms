{
 "cells": [
  {
   "cell_type": "markdown",
   "id": "9594ef87",
   "metadata": {},
   "source": [
    "Link: https://leetcode.com/problems/implement-stack-using-queues/"
   ]
  },
  {
   "cell_type": "code",
   "execution_count": 10,
   "id": "2baf78de",
   "metadata": {},
   "outputs": [],
   "source": [
    "class MyQueue:\n",
    "    def __init__(self):\n",
    "        self.queue = []\n",
    "    \n",
    "    def push(self, value):\n",
    "        self.queue.append(value)\n",
    "    \n",
    "    def pop(self):\n",
    "        element = None\n",
    "        if len(self.queue):\n",
    "            element = self.queue[0]\n",
    "            del self.queue[0]\n",
    "        \n",
    "        return element\n",
    "\n",
    "    def peek(self):\n",
    "        element = None\n",
    "        if len(self.queue):\n",
    "            return self.queue[0]\n",
    "\n",
    "    def size(self):\n",
    "        return len(self.queue)\n",
    "\n",
    "    def is_empty(self):\n",
    "        return not len(self.queue)\n",
    "\n",
    "class MyStack:\n",
    "\n",
    "    def __init__(self):\n",
    "        self.stack = MyQueue()\n",
    "\n",
    "    def push(self, x: int) -> None:\n",
    "        tmp_queue = MyQueue()\n",
    "\n",
    "        tmp_queue.push(x)\n",
    "        \n",
    "        while not self.stack.is_empty():\n",
    "            tmp_queue.push(self.stack.pop())\n",
    "\n",
    "        while not tmp_queue.is_empty():\n",
    "            self.stack.push(tmp_queue.pop())\n",
    "\n",
    "\n",
    "    def pop(self) -> int:\n",
    "        popped_element = self.stack.pop()\n",
    "        \n",
    "        return popped_element\n",
    "\n",
    "\n",
    "    def top(self) -> int:\n",
    "        return self.stack.peek() if not self.stack.is_empty() else None\n",
    "        \n",
    "\n",
    "    def empty(self) -> bool:\n",
    "        return self.stack.is_empty()\n",
    "\n",
    "\n",
    "# Your MyStack object will be instantiated and called as such:\n",
    "# obj = MyStack()\n",
    "# obj.push(x)\n",
    "# param_2 = obj.pop()\n",
    "# param_3 = obj.top()\n",
    "# param_4 = obj.empty()"
   ]
  },
  {
   "cell_type": "code",
   "execution_count": null,
   "id": "f6813c7c",
   "metadata": {},
   "outputs": [],
   "source": []
  }
 ],
 "metadata": {
  "kernelspec": {
   "display_name": "Python 3",
   "language": "python",
   "name": "python3"
  },
  "language_info": {
   "codemirror_mode": {
    "name": "ipython",
    "version": 3
   },
   "file_extension": ".py",
   "mimetype": "text/x-python",
   "name": "python",
   "nbconvert_exporter": "python",
   "pygments_lexer": "ipython3",
   "version": "3.8.8"
  }
 },
 "nbformat": 4,
 "nbformat_minor": 5
}
