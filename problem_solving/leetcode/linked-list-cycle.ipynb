{
 "cells": [
  {
   "cell_type": "markdown",
   "id": "6466a6b6",
   "metadata": {},
   "source": [
    "Link: https://leetcode.com/problems/linked-list-cycle/description/"
   ]
  },
  {
   "cell_type": "code",
   "execution_count": 6,
   "id": "1d86b946",
   "metadata": {},
   "outputs": [
    {
     "name": "stdout",
     "output_type": "stream",
     "text": [
      "3 -> 2 -> 0 -> -4 -> None\n"
     ]
    }
   ],
   "source": [
    "# Definition for singly-linked list.\n",
    "from typing import Optional\n",
    "\n",
    "class ListNode:\n",
    "    def __init__(self, x):\n",
    "        self.val = x\n",
    "        self.next = None\n",
    "    \n",
    "    def __repr__(self):\n",
    "        return f\"{self.val} -> {self.next}\"\n",
    "    \n",
    "# Method to convert list to LinkedList.\n",
    "def convert_to_linked_list(arr):\n",
    "    head = ListNode(arr[0])\n",
    "    curr_node = head\n",
    "    \n",
    "    for i in arr[1:]:\n",
    "        curr_node.next = ListNode(i)\n",
    "        curr_node = curr_node.next\n",
    "    \n",
    "    return head\n",
    "\n",
    "class Solution:\n",
    "    def hasCycle(self, head: Optional[ListNode]) -> bool:\n",
    "        # Hash Table Approach\n",
    "        curr_node = head\n",
    "        old_paths = set()\n",
    "        while True:\n",
    "            if curr_node in old_paths:\n",
    "                return True\n",
    "            \n",
    "            if curr_node is None or curr_node.next is None:\n",
    "                return False\n",
    "            \n",
    "            old_paths.add(curr_node)\n",
    "            curr_node = curr_node.next\n",
    "        \n",
    "        # Tortoise and Hare Approach\n",
    "        fast, slow = head, head\n",
    "        while fast and fast.next:\n",
    "            slow = slow.next\n",
    "            fast = fast.next.next\n",
    "            if fast == slow:\n",
    "                return True\n",
    "        return False\n",
    "            \n",
    "    \n",
    "\n",
    "s = Solution()\n",
    "llist = convert_to_linked_list([3,2,0,-4])\n",
    "print(llist)"
   ]
  },
  {
   "cell_type": "code",
   "execution_count": null,
   "id": "57b69767",
   "metadata": {},
   "outputs": [],
   "source": []
  }
 ],
 "metadata": {
  "kernelspec": {
   "display_name": "Python 3",
   "language": "python",
   "name": "python3"
  },
  "language_info": {
   "codemirror_mode": {
    "name": "ipython",
    "version": 3
   },
   "file_extension": ".py",
   "mimetype": "text/x-python",
   "name": "python",
   "nbconvert_exporter": "python",
   "pygments_lexer": "ipython3",
   "version": "3.8.8"
  }
 },
 "nbformat": 4,
 "nbformat_minor": 5
}
