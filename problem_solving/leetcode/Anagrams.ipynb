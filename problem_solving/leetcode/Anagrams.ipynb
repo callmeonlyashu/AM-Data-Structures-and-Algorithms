{
 "cells": [
  {
   "cell_type": "markdown",
   "id": "43a35edb",
   "metadata": {},
   "source": [
    "Link: https://leetcode.com/problems/valid-anagram/"
   ]
  },
  {
   "cell_type": "code",
   "execution_count": null,
   "id": "a3da0598",
   "metadata": {},
   "outputs": [],
   "source": [
    "    def isAnagram(self, s: str, t: str) -> bool:\n",
    "        # Anagrams should have equal length.\n",
    "        if len(s) != len(t):\n",
    "            return False\n",
    "        \n",
    "        # For only one element, direct comparison is enough\n",
    "        if len(s) == len(t) == 1 and s == t:\n",
    "            return True\n",
    "        \n",
    "        # Approach one, convert to List, sort it and then compare\n",
    "        list_s = list(s)\n",
    "        list_t = list(t)\n",
    "\n",
    "        list_s.sort()\n",
    "        list_t.sort()\n",
    "\n",
    "        if list_s == list_t:\n",
    "            return True\n",
    "        else:\n",
    "            return False"
   ]
  }
 ],
 "metadata": {
  "kernelspec": {
   "display_name": "Python 3",
   "language": "python",
   "name": "python3"
  },
  "language_info": {
   "codemirror_mode": {
    "name": "ipython",
    "version": 3
   },
   "file_extension": ".py",
   "mimetype": "text/x-python",
   "name": "python",
   "nbconvert_exporter": "python",
   "pygments_lexer": "ipython3",
   "version": "3.8.8"
  }
 },
 "nbformat": 4,
 "nbformat_minor": 5
}
