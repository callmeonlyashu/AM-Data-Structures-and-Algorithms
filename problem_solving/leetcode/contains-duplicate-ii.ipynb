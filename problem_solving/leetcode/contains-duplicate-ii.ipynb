{
 "cells": [
  {
   "cell_type": "markdown",
   "id": "9c407375",
   "metadata": {},
   "source": [
    "Link: https://leetcode.com/problems/contains-duplicate-ii/"
   ]
  },
  {
   "cell_type": "code",
   "execution_count": 1,
   "id": "a3906ef4",
   "metadata": {},
   "outputs": [],
   "source": [
    "from typing import List\n",
    "\n",
    "class Solution:\n",
    "    def containsNearbyDuplicate(self, nums: List[int], k: int) -> bool:\n",
    "        i, j = 0, k\n",
    "\n",
    "        nums_subset = set(nums[i:j+1])\n",
    "        actual_count = nums[i:j+1]\n",
    "\n",
    "        if k >= len(nums):\n",
    "            return len(nums_subset) != len(actual_count)\n",
    "\n",
    "        while j < len(nums):\n",
    "            if len(nums_subset) != len(actual_count):\n",
    "                return True\n",
    "            else:\n",
    "                nums_subset.remove(nums[i])\n",
    "                actual_count.remove(nums[i])\n",
    "                i += 1\n",
    "                j += 1\n",
    "                if j < len(nums):\n",
    "                    nums_subset.add(nums[j])\n",
    "                    actual_count.append(nums[j])\n",
    "        \n",
    "        return False"
   ]
  },
  {
   "cell_type": "code",
   "execution_count": 2,
   "id": "5f2df53a",
   "metadata": {},
   "outputs": [],
   "source": [
    "# Optimal\n",
    "\n",
    "class Solution:\n",
    "    def containsNearbyDuplicate(self, nums: List[int], k: int) -> bool:\n",
    "        i, j = 0, k\n",
    "\n",
    "        nums_subset = set(nums[i:j+1])\n",
    "\n",
    "        if len(nums) == 1:\n",
    "            return False\n",
    "\n",
    "        if k >= len(nums):\n",
    "            return len(nums_subset) != len(nums)\n",
    "\n",
    "        while j < len(nums):\n",
    "            actual_count = abs(i-j) + 1\n",
    "            if len(nums_subset) != actual_count:\n",
    "                return True\n",
    "            else:\n",
    "                nums_subset.remove(nums[i])\n",
    "                i += 1\n",
    "                j += 1\n",
    "                if j < len(nums):\n",
    "                    nums_subset.add(nums[j])\n",
    "        \n",
    "        return False"
   ]
  },
  {
   "cell_type": "code",
   "execution_count": null,
   "id": "048d4d52",
   "metadata": {},
   "outputs": [],
   "source": []
  },
  {
   "cell_type": "code",
   "execution_count": null,
   "id": "133dfe87",
   "metadata": {},
   "outputs": [],
   "source": []
  }
 ],
 "metadata": {
  "kernelspec": {
   "display_name": "Python 3",
   "language": "python",
   "name": "python3"
  },
  "language_info": {
   "codemirror_mode": {
    "name": "ipython",
    "version": 3
   },
   "file_extension": ".py",
   "mimetype": "text/x-python",
   "name": "python",
   "nbconvert_exporter": "python",
   "pygments_lexer": "ipython3",
   "version": "3.8.8"
  }
 },
 "nbformat": 4,
 "nbformat_minor": 5
}
