{
 "cells": [
  {
   "cell_type": "markdown",
   "id": "eeb72ae0",
   "metadata": {},
   "source": [
    "Link: https://leetcode.com/problems/intersection-of-two-linked-lists/"
   ]
  },
  {
   "cell_type": "code",
   "execution_count": 1,
   "id": "f2142973",
   "metadata": {},
   "outputs": [],
   "source": [
    "from typing import Optional\n",
    "\n",
    "# Definition for singly-linked list.\n",
    "class ListNode:\n",
    "    def __init__(self, x):\n",
    "        self.val = x\n",
    "        self.next = None\n",
    "\n",
    "    def __str__(self):\n",
    "        return f\"{self.val} -> {self.next}\"\n",
    "\n",
    "class Solution:\n",
    "    def getIntersectionNode(self, headA: ListNode, headB: ListNode) -> Optional[ListNode]:\n",
    "\n",
    "        nodeSet = set()\n",
    "        cur = headA\n",
    "        while cur:\n",
    "            nodeSet.add(cur)\n",
    "            cur = cur.next\n",
    "\n",
    "        cur = headB\n",
    "        while cur:\n",
    "            if cur in nodeSet:\n",
    "                return cur\n",
    "            cur = cur.next\n",
    "\n",
    "        return None\n",
    "        "
   ]
  },
  {
   "cell_type": "code",
   "execution_count": null,
   "id": "08229cb7",
   "metadata": {},
   "outputs": [],
   "source": []
  }
 ],
 "metadata": {
  "kernelspec": {
   "display_name": "Python 3",
   "language": "python",
   "name": "python3"
  },
  "language_info": {
   "codemirror_mode": {
    "name": "ipython",
    "version": 3
   },
   "file_extension": ".py",
   "mimetype": "text/x-python",
   "name": "python",
   "nbconvert_exporter": "python",
   "pygments_lexer": "ipython3",
   "version": "3.8.8"
  }
 },
 "nbformat": 4,
 "nbformat_minor": 5
}
