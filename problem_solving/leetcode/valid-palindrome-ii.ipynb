{
 "cells": [
  {
   "cell_type": "markdown",
   "id": "8248bec7",
   "metadata": {},
   "source": [
    "Link: https://leetcode.com/problems/valid-palindrome-ii/"
   ]
  },
  {
   "cell_type": "code",
   "execution_count": null,
   "id": "573eb560",
   "metadata": {},
   "outputs": [],
   "source": [
    "class Solution:\n",
    "    def validPalindrome(self, s: str) -> bool:   \n",
    "        if not len(s):\n",
    "            return False\n",
    "        \n",
    "        if len(s) in [1,2]:\n",
    "            return True\n",
    "\n",
    "        i, j = 0, len(s)-1\n",
    "        while i <= j:\n",
    "            if s[i] == s[j]:\n",
    "                pass\n",
    "            else:\n",
    "                skipL = s[i + 1 : j + 1]\n",
    "                skipR = s[i : j]\n",
    "                return skipL == skipL[::-1] or skipR == skipR[::-1]\n",
    "            i += 1\n",
    "            j -= 1\n",
    "        return True\n",
    "\n"
   ]
  }
 ],
 "metadata": {
  "kernelspec": {
   "display_name": "Python 3",
   "language": "python",
   "name": "python3"
  },
  "language_info": {
   "codemirror_mode": {
    "name": "ipython",
    "version": 3
   },
   "file_extension": ".py",
   "mimetype": "text/x-python",
   "name": "python",
   "nbconvert_exporter": "python",
   "pygments_lexer": "ipython3",
   "version": "3.8.8"
  }
 },
 "nbformat": 4,
 "nbformat_minor": 5
}
