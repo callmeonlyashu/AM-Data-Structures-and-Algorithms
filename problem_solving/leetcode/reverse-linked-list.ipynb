{
 "cells": [
  {
   "cell_type": "markdown",
   "id": "da0c0541",
   "metadata": {},
   "source": [
    "Link: https://leetcode.com/problems/reverse-linked-list/"
   ]
  },
  {
   "cell_type": "code",
   "execution_count": 73,
   "id": "94377a1d",
   "metadata": {},
   "outputs": [
    {
     "name": "stdout",
     "output_type": "stream",
     "text": [
      "curr_node: 1 -> 2 -> 3 -> 4 -> 5 -> None\n"
     ]
    },
    {
     "data": {
      "text/plain": [
       "5 -> 4 -> 3 -> 2 -> 1 -> None"
      ]
     },
     "execution_count": 73,
     "metadata": {},
     "output_type": "execute_result"
    }
   ],
   "source": [
    "from typing import Optional\n",
    "# Definition for singly-linked list.\n",
    "class ListNode:\n",
    "    def __init__(self, val=0, next=None):\n",
    "        self.val = val\n",
    "        self.next = next\n",
    "        \n",
    "    def __repr__(self):\n",
    "        return f\"{self.val} -> {self.next}\"\n",
    "        \n",
    "class Solution:\n",
    "    def convert_list_linked_list(self, arr):\n",
    "        head = ListNode(val=arr[0])\n",
    "        curr_node = head\n",
    "        for el in arr[1:]:\n",
    "            curr_node.next = ListNode(el)\n",
    "            curr_node = curr_node.next\n",
    "        \n",
    "        print(f\"curr_node: {head}\")\n",
    "        \n",
    "        return head\n",
    "        \n",
    "    def reverseList(self, head: Optional[ListNode]) -> Optional[ListNode]:\n",
    "        \n",
    "        if head is None:\n",
    "            return head\n",
    "        \n",
    "        curr_node = head\n",
    "        res_node = ListNode(curr_node.val)\n",
    "        while curr_node.next:\n",
    "            next_node = curr_node.next\n",
    "            \n",
    "            # Get the new node with next node setup\n",
    "            new_node = ListNode(next_node.val)\n",
    "            new_node.next = res_node\n",
    "\n",
    "            curr_node = curr_node.next\n",
    "            res_node = new_node\n",
    "            \n",
    "        return res_node\n",
    "\n",
    "s = Solution()\n",
    "llist = s.convert_list_linked_list([1,2,3,4,5])\n",
    "s.reverseList(llist)"
   ]
  },
  {
   "cell_type": "code",
   "execution_count": null,
   "id": "bbfe030d",
   "metadata": {},
   "outputs": [],
   "source": []
  }
 ],
 "metadata": {
  "kernelspec": {
   "display_name": "Python 3",
   "language": "python",
   "name": "python3"
  },
  "language_info": {
   "codemirror_mode": {
    "name": "ipython",
    "version": 3
   },
   "file_extension": ".py",
   "mimetype": "text/x-python",
   "name": "python",
   "nbconvert_exporter": "python",
   "pygments_lexer": "ipython3",
   "version": "3.8.8"
  }
 },
 "nbformat": 4,
 "nbformat_minor": 5
}
