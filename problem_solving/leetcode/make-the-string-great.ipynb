{
 "cells": [
  {
   "cell_type": "markdown",
   "id": "4f55e7c0",
   "metadata": {},
   "source": [
    "Link: https://leetcode.com/problems/make-the-string-great/"
   ]
  },
  {
   "cell_type": "code",
   "execution_count": null,
   "id": "6ef6e59a",
   "metadata": {},
   "outputs": [],
   "source": [
    "class Solution:\n",
    "    def makeGood(self, s: str) -> str:\n",
    "        stack = []\n",
    "\n",
    "        def bad_substr(str1, str2):\n",
    "            return str1.lower() == str2.lower() \\\n",
    "            and ((str1.isupper() and str2.islower()) \\\n",
    "            or (str1.islower() and str2.isupper()) )\n",
    "\n",
    "        for i in range(len(s)):\n",
    "            last_element = \"\"\n",
    "            if len(stack):\n",
    "                last_element = stack[-1]\n",
    "            \n",
    "            if bad_substr(last_element, s[i]):\n",
    "                del stack[-1]\n",
    "            else:\n",
    "                stack.append(s[i])\n",
    "\n",
    "        return \"\".join(stack)\n",
    "\n"
   ]
  }
 ],
 "metadata": {
  "kernelspec": {
   "display_name": "Python 3",
   "language": "python",
   "name": "python3"
  },
  "language_info": {
   "codemirror_mode": {
    "name": "ipython",
    "version": 3
   },
   "file_extension": ".py",
   "mimetype": "text/x-python",
   "name": "python",
   "nbconvert_exporter": "python",
   "pygments_lexer": "ipython3",
   "version": "3.8.8"
  }
 },
 "nbformat": 4,
 "nbformat_minor": 5
}
