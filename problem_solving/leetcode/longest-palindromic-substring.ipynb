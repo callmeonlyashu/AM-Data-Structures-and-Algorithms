{
 "cells": [
  {
   "cell_type": "markdown",
   "id": "387a0008",
   "metadata": {},
   "source": [
    "Link: https://leetcode.com/problems/longest-palindromic-substring/"
   ]
  },
  {
   "cell_type": "code",
   "execution_count": null,
   "id": "64f122bc",
   "metadata": {},
   "outputs": [],
   "source": [
    "class Solution:\n",
    "    def longestPalindrome(self, s: str) -> str:\n",
    "        max_str = ''\n",
    "        if len(s) == 1:\n",
    "            return s\n",
    "\n",
    "        for i in range(len(s)):\n",
    "            sub = s[i]\n",
    "            if self.is_palindrome(s[i]) and len(max_str) < len(s[i]):\n",
    "                max_str = s[i]\n",
    "            for j in range(i+1, len(s)):\n",
    "                sub = sub+s[j]\n",
    "                if self.is_palindrome(sub) and len(max_str) < len(sub):\n",
    "                    max_str = sub\n",
    "        return max_str\n",
    "    \n",
    "    def is_palindrome(self, string):\n",
    "        return string == string[::-1]\n",
    "        "
   ]
  }
 ],
 "metadata": {
  "kernelspec": {
   "display_name": "Python 3",
   "language": "python",
   "name": "python3"
  },
  "language_info": {
   "codemirror_mode": {
    "name": "ipython",
    "version": 3
   },
   "file_extension": ".py",
   "mimetype": "text/x-python",
   "name": "python",
   "nbconvert_exporter": "python",
   "pygments_lexer": "ipython3",
   "version": "3.8.8"
  }
 },
 "nbformat": 4,
 "nbformat_minor": 5
}
