{
 "cells": [
  {
   "cell_type": "markdown",
   "id": "fae0bead",
   "metadata": {},
   "source": [
    "Link: https://leetcode.com/problems/combinations/"
   ]
  },
  {
   "cell_type": "code",
   "execution_count": 1,
   "id": "a2a79cef",
   "metadata": {},
   "outputs": [],
   "source": [
    "from typing import List\n",
    "class Solution:\n",
    "    def combine(self, n: int, k: int) -> List[List[int]]:\n",
    "        subsets = []\n",
    "\n",
    "        def dfs(i, sets):\n",
    "            if i >= n:\n",
    "                return None\n",
    "\n",
    "            sets.append(i+1)\n",
    "            if len(sets.copy()) == k:\n",
    "                subsets.append(sets.copy())\n",
    "            dfs(i+1, sets)\n",
    "            sets.pop()\n",
    "            dfs(i+1, sets)\n",
    "\n",
    "        dfs(0, [])\n",
    "        return subsets"
   ]
  },
  {
   "cell_type": "code",
   "execution_count": null,
   "id": "e0a38e90",
   "metadata": {},
   "outputs": [],
   "source": []
  }
 ],
 "metadata": {
  "kernelspec": {
   "display_name": "Python 3",
   "language": "python",
   "name": "python3"
  },
  "language_info": {
   "codemirror_mode": {
    "name": "ipython",
    "version": 3
   },
   "file_extension": ".py",
   "mimetype": "text/x-python",
   "name": "python",
   "nbconvert_exporter": "python",
   "pygments_lexer": "ipython3",
   "version": "3.8.8"
  }
 },
 "nbformat": 4,
 "nbformat_minor": 5
}
