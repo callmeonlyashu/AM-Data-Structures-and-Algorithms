{
 "cells": [
  {
   "cell_type": "markdown",
   "id": "7508a5fa",
   "metadata": {},
   "source": [
    "Link: https://leetcode.com/problems/calculate-money-in-leetcode-bank/"
   ]
  },
  {
   "cell_type": "code",
   "execution_count": 1,
   "id": "bb9ccdd4",
   "metadata": {},
   "outputs": [],
   "source": [
    "class Solution:\n",
    "    def totalMoney(self, n: int) -> int:\n",
    "        weeks, extra_days = n // 7, n % 7\n",
    "\n",
    "        res = 0\n",
    "        if weeks > 0:\n",
    "            res += weeks/2 * (2*28 + (weeks - 1)*7)\n",
    "            \n",
    "        start = (weeks+1)\n",
    "        for i in range(start, start+extra_days):\n",
    "            res += i\n",
    "        \n",
    "        return int(res)\n",
    "\n",
    "\n"
   ]
  },
  {
   "cell_type": "code",
   "execution_count": null,
   "id": "ba6c42a6",
   "metadata": {},
   "outputs": [],
   "source": []
  }
 ],
 "metadata": {
  "kernelspec": {
   "display_name": "Python 3",
   "language": "python",
   "name": "python3"
  },
  "language_info": {
   "codemirror_mode": {
    "name": "ipython",
    "version": 3
   },
   "file_extension": ".py",
   "mimetype": "text/x-python",
   "name": "python",
   "nbconvert_exporter": "python",
   "pygments_lexer": "ipython3",
   "version": "3.8.8"
  }
 },
 "nbformat": 4,
 "nbformat_minor": 5
}
