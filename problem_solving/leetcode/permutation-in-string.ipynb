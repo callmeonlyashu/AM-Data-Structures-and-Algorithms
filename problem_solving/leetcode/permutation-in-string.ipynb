{
 "cells": [
  {
   "cell_type": "markdown",
   "id": "f935ee0d",
   "metadata": {},
   "source": [
    "Link: https://leetcode.com/problems/permutation-in-string/"
   ]
  },
  {
   "cell_type": "code",
   "execution_count": 2,
   "id": "5533422e",
   "metadata": {},
   "outputs": [],
   "source": [
    "class Solution:\n",
    "    def checkInclusion(self, s1: str, s2: str) -> bool:\n",
    "        i = 0\n",
    "        j = len(s1)\n",
    "\n",
    "        s1 = list(s1)\n",
    "        s1.sort()\n",
    "\n",
    "        while j <= len(s2):\n",
    "            curr_sub = list(s2[i:j])\n",
    "            curr_sub.sort()\n",
    "            if curr_sub == s1:\n",
    "                return True\n",
    "\n",
    "            i += 1\n",
    "            j += 1\n",
    "        \n",
    "        return False\n"
   ]
  },
  {
   "cell_type": "code",
   "execution_count": null,
   "id": "7fd8ac74",
   "metadata": {},
   "outputs": [],
   "source": []
  }
 ],
 "metadata": {
  "kernelspec": {
   "display_name": "Python 3",
   "language": "python",
   "name": "python3"
  },
  "language_info": {
   "codemirror_mode": {
    "name": "ipython",
    "version": 3
   },
   "file_extension": ".py",
   "mimetype": "text/x-python",
   "name": "python",
   "nbconvert_exporter": "python",
   "pygments_lexer": "ipython3",
   "version": "3.8.8"
  }
 },
 "nbformat": 4,
 "nbformat_minor": 5
}
