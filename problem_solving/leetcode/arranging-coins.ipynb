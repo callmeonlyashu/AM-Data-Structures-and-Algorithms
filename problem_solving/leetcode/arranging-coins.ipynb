{
 "cells": [
  {
   "cell_type": "markdown",
   "id": "094008e7",
   "metadata": {},
   "source": [
    "Link: https://leetcode.com/problems/arranging-coins/"
   ]
  },
  {
   "cell_type": "code",
   "execution_count": 1,
   "id": "e98d4689",
   "metadata": {},
   "outputs": [],
   "source": [
    "class Solution:\n",
    "    def arrangeCoins(self, n: int) -> int:\n",
    "        # total_coins = 0\n",
    "\n",
    "        # steps = 0\n",
    "        # for i in range(1, n+1):\n",
    "        #     total_coins += i\n",
    "        #     if total_coins <= n:\n",
    "        #         steps += 1\n",
    "        #     else:\n",
    "        #         break\n",
    "        \n",
    "        # return steps\n",
    "        l, r = 1, n\n",
    "        res = 0\n",
    "\n",
    "        while l <= r:\n",
    "            mid = (l + r) // 2\n",
    "            coins = (mid * (mid + 1)) // 2\n",
    "            if coins > n:\n",
    "                r = mid - 1\n",
    "            else:\n",
    "                l = mid + 1\n",
    "                res = max(res, mid)\n",
    "\n",
    "        return res"
   ]
  },
  {
   "cell_type": "code",
   "execution_count": null,
   "id": "0a842be7",
   "metadata": {},
   "outputs": [],
   "source": []
  }
 ],
 "metadata": {
  "kernelspec": {
   "display_name": "Python 3",
   "language": "python",
   "name": "python3"
  },
  "language_info": {
   "codemirror_mode": {
    "name": "ipython",
    "version": 3
   },
   "file_extension": ".py",
   "mimetype": "text/x-python",
   "name": "python",
   "nbconvert_exporter": "python",
   "pygments_lexer": "ipython3",
   "version": "3.8.8"
  }
 },
 "nbformat": 4,
 "nbformat_minor": 5
}
