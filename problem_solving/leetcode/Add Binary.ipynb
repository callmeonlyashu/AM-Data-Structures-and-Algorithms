{
 "cells": [
  {
   "cell_type": "markdown",
   "id": "e5c7cb52",
   "metadata": {},
   "source": [
    "Link: https://leetcode.com/problems/add-binary/description/"
   ]
  },
  {
   "cell_type": "code",
   "execution_count": 32,
   "id": "23683fc9",
   "metadata": {},
   "outputs": [
    {
     "name": "stdout",
     "output_type": "stream",
     "text": [
      "4\n",
      "21\n",
      "100\n",
      "10101\n"
     ]
    }
   ],
   "source": [
    "\"\"\"\n",
    "Given two binary strings a and b, return their sum as a binary string.\n",
    "\n",
    " \n",
    "\n",
    "Example 1:\n",
    "\n",
    "Input: a = \"11\", b = \"1\"\n",
    "Output: \"100\"\n",
    "Example 2:\n",
    "\n",
    "Input: a = \"1010\", b = \"1011\"\n",
    "Output: \"10101\"\n",
    "\"\"\"\n",
    "\n",
    "def addBinary(a: str, b: str) -> str:\n",
    "    if a == \"0\" and b == \"0\":\n",
    "        return \"0\"\n",
    "    \n",
    "    if a == \"0\":\n",
    "        return b\n",
    "    \n",
    "    if b == \"0\":\n",
    "        return a\n",
    "    \n",
    "    # Convert the params to decimal\n",
    "    a_decimal = 0\n",
    "    for i, bin_a in enumerate(a[::-1]):\n",
    "        a_decimal += int(bin_a)*(2**i)\n",
    "        \n",
    "    b_decimal = 0\n",
    "    for i, bin_b in enumerate(b[::-1]):\n",
    "        b_decimal += int(bin_b)*(2**i)\n",
    "        \n",
    "    \n",
    "    # Now, add them up\n",
    "    decimal_sum = a_decimal + b_decimal\n",
    "    print(decimal_sum)\n",
    "    \n",
    "    \n",
    "    # Convert back to binary\n",
    "    bin_sum = \"\"\n",
    "    while decimal_sum > 0:\n",
    "        bin_sum += str(decimal_sum % 2)\n",
    "        decimal_sum = decimal_sum // 2\n",
    "    \n",
    "    return bin_sum[::-1]\n",
    "    \n",
    "    \n",
    "s1 = addBinary(\"11\", \"1\")\n",
    "s2 = addBinary(\"1010\", \"1011\")\n",
    "\n",
    "print(s1)\n",
    "print(s2)\n",
    "    "
   ]
  },
  {
   "cell_type": "code",
   "execution_count": null,
   "id": "8cec96ae",
   "metadata": {},
   "outputs": [],
   "source": []
  },
  {
   "cell_type": "code",
   "execution_count": null,
   "id": "f7cdfce9",
   "metadata": {},
   "outputs": [],
   "source": []
  }
 ],
 "metadata": {
  "kernelspec": {
   "display_name": "Python 3",
   "language": "python",
   "name": "python3"
  },
  "language_info": {
   "codemirror_mode": {
    "name": "ipython",
    "version": 3
   },
   "file_extension": ".py",
   "mimetype": "text/x-python",
   "name": "python",
   "nbconvert_exporter": "python",
   "pygments_lexer": "ipython3",
   "version": "3.8.8"
  }
 },
 "nbformat": 4,
 "nbformat_minor": 5
}
