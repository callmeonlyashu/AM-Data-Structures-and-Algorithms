{
 "cells": [
  {
   "cell_type": "markdown",
   "id": "aa36c6c7",
   "metadata": {},
   "source": [
    "Link: https://leetcode.com/problems/same-tree/description/"
   ]
  },
  {
   "cell_type": "code",
   "execution_count": null,
   "id": "c8b22f9d",
   "metadata": {},
   "outputs": [],
   "source": [
    "# Definition for a binary tree node.\n",
    "# class TreeNode:\n",
    "#     def __init__(self, val=0, left=None, right=None):\n",
    "#         self.val = val\n",
    "#         self.left = left\n",
    "#         self.right = right\n",
    "class Solution:\n",
    "    def isSameTree(self, p: Optional[TreeNode], q: Optional[TreeNode]) -> bool:\n",
    "\n",
    "        # def check_same(p, q, node_status):\n",
    "        #     if node_status is False:\n",
    "        #         return False\n",
    "            \n",
    "        #     if p and (not q):\n",
    "        #         node_status = False\n",
    "        #         return False\n",
    "    \n",
    "        #     if q and (not p):\n",
    "        #         node_status = False\n",
    "        #         return False\n",
    "    \n",
    "        #     if (not p) and (not q):\n",
    "        #         return True\n",
    "    \n",
    "        #     if p.val != q.val:\n",
    "        #         node_status = False\n",
    "        #         return False\n",
    "    \n",
    "        #     node_status = check_same(p.left, q.left, node_status)\n",
    "        #     node_status = check_same(p.right, q.right, node_status)\n",
    "        #     return node_status\n",
    "            \n",
    "        # return check_same(p, q, True)\n",
    "        \n",
    "        if not p and not q:\n",
    "            return True\n",
    "        if not p or not q:\n",
    "            return False\n",
    "        if p.val != q.val:\n",
    "            return False\n",
    "        \n",
    "        return self.isSameTree(p.left, q.left) and self.isSameTree(p.right, q.right)\n",
    "        \n",
    "        "
   ]
  }
 ],
 "metadata": {
  "kernelspec": {
   "display_name": "Python 3",
   "language": "python",
   "name": "python3"
  },
  "language_info": {
   "codemirror_mode": {
    "name": "ipython",
    "version": 3
   },
   "file_extension": ".py",
   "mimetype": "text/x-python",
   "name": "python",
   "nbconvert_exporter": "python",
   "pygments_lexer": "ipython3",
   "version": "3.8.8"
  }
 },
 "nbformat": 4,
 "nbformat_minor": 5
}
