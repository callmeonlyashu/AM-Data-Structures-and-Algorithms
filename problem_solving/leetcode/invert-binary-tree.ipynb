{
 "cells": [
  {
   "cell_type": "markdown",
   "id": "260ee292",
   "metadata": {},
   "source": [
    "Link: https://leetcode.com/problems/invert-binary-tree/"
   ]
  },
  {
   "cell_type": "code",
   "execution_count": null,
   "id": "6a16da23",
   "metadata": {},
   "outputs": [],
   "source": [
    "# Definition for a binary tree node.\n",
    "# class TreeNode:\n",
    "#     def __init__(self, val=0, left=None, right=None):\n",
    "#         self.val = val\n",
    "#         self.left = left\n",
    "#         self.right = right\n",
    "class Solution:\n",
    "    def invertTree(self, root: Optional[TreeNode]) -> Optional[TreeNode]:\n",
    "        # if root is None:\n",
    "        #     return root\n",
    "\n",
    "        # left_tree = root\n",
    "        # right_tree = root\n",
    "        # while left_tree and right_tree:\n",
    "        #     left_tree.left, left_tree.right = left_tree.right, left_tree.left\n",
    "        #     if right_tree != root:\n",
    "        #         right_tree.left, right_tree.right = right_tree.right, right_tree.left\n",
    "        #     left_tree = left_tree.left\n",
    "        #     right_tree = right_tree.right\n",
    "        \n",
    "        # return root\n",
    "\n",
    "        if root is None:\n",
    "            return root\n",
    "        \n",
    "        root.left, root.right = root.right, root.left\n",
    "\n",
    "        self.invertTree(root.left)\n",
    "        self.invertTree(root.right)\n",
    "\n",
    "        return root"
   ]
  }
 ],
 "metadata": {
  "kernelspec": {
   "display_name": "Python 3",
   "language": "python",
   "name": "python3"
  },
  "language_info": {
   "codemirror_mode": {
    "name": "ipython",
    "version": 3
   },
   "file_extension": ".py",
   "mimetype": "text/x-python",
   "name": "python",
   "nbconvert_exporter": "python",
   "pygments_lexer": "ipython3",
   "version": "3.8.8"
  }
 },
 "nbformat": 4,
 "nbformat_minor": 5
}
