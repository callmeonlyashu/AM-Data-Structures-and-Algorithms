{
 "cells": [
  {
   "cell_type": "markdown",
   "id": "dcd7ea37",
   "metadata": {},
   "source": [
    "Link: https://leetcode.com/problems/baseball-game/description/"
   ]
  },
  {
   "cell_type": "code",
   "execution_count": 1,
   "id": "0af53442",
   "metadata": {},
   "outputs": [],
   "source": [
    "from typing import List\n",
    "class Solution:\n",
    "    def calPoints(self, operations: List[str]) -> int:\n",
    "        res = []\n",
    "\n",
    "        def check_number_sign(s):\n",
    "            try:\n",
    "                num = float(s)\n",
    "                return num\n",
    "            except ValueError:\n",
    "                return None\n",
    "\n",
    "        for op in operations:\n",
    "            if check_number_sign(op):\n",
    "                res.append(int(op))\n",
    "            elif op == \"C\":\n",
    "                res.pop()\n",
    "            elif op == \"D\":\n",
    "                new_score = 2 * res[-1]\n",
    "                res.append(int(new_score))\n",
    "            elif op == \"+\":\n",
    "                new_score = sum([int(r) for r in res[-2:]])\n",
    "                res.append(int(new_score))\n",
    "\n",
    "        if len(res):\n",
    "            return sum(res)\n",
    "        else:\n",
    "            return 0"
   ]
  },
  {
   "cell_type": "code",
   "execution_count": null,
   "id": "c516e88e",
   "metadata": {},
   "outputs": [],
   "source": []
  }
 ],
 "metadata": {
  "kernelspec": {
   "display_name": "Python 3",
   "language": "python",
   "name": "python3"
  },
  "language_info": {
   "codemirror_mode": {
    "name": "ipython",
    "version": 3
   },
   "file_extension": ".py",
   "mimetype": "text/x-python",
   "name": "python",
   "nbconvert_exporter": "python",
   "pygments_lexer": "ipython3",
   "version": "3.8.8"
  }
 },
 "nbformat": 4,
 "nbformat_minor": 5
}
