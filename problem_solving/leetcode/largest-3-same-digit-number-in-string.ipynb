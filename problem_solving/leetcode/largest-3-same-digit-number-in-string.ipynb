{
 "cells": [
  {
   "cell_type": "markdown",
   "id": "bba72a08",
   "metadata": {},
   "source": [
    "Link: https://leetcode.com/problems/largest-3-same-digit-number-in-string/"
   ]
  },
  {
   "cell_type": "code",
   "execution_count": 1,
   "id": "6c5d6f60",
   "metadata": {},
   "outputs": [],
   "source": [
    "class Solution:\n",
    "    def largestGoodInteger(self, num: str) -> str:\n",
    "        left = 0\n",
    "        right = 3\n",
    "        \n",
    "        good_int = 0\n",
    "        while right <= len(num):\n",
    "            substr = num[left:right]\n",
    "            # print(\"substr\", substr)\n",
    "            if len(set(substr)) == 1:\n",
    "                # Means there is only one digit in substr\n",
    "                # print(f\"{int(good_int)} <= {int(substr)}\")\n",
    "                if int(good_int) <= int(substr):\n",
    "                    good_int = substr\n",
    "\n",
    "            left += 1\n",
    "            right += 1\n",
    "            \n",
    "        return str(good_int) if good_int != 0 else \"\""
   ]
  },
  {
   "cell_type": "code",
   "execution_count": null,
   "id": "580a6d85",
   "metadata": {},
   "outputs": [],
   "source": []
  }
 ],
 "metadata": {
  "kernelspec": {
   "display_name": "Python 3",
   "language": "python",
   "name": "python3"
  },
  "language_info": {
   "codemirror_mode": {
    "name": "ipython",
    "version": 3
   },
   "file_extension": ".py",
   "mimetype": "text/x-python",
   "name": "python",
   "nbconvert_exporter": "python",
   "pygments_lexer": "ipython3",
   "version": "3.8.8"
  }
 },
 "nbformat": 4,
 "nbformat_minor": 5
}
