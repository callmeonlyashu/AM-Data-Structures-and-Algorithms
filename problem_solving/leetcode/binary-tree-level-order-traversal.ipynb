{
 "cells": [
  {
   "cell_type": "markdown",
   "id": "2a12351f",
   "metadata": {},
   "source": [
    "link: https://leetcode.com/problems/binary-tree-level-order-traversal/description/"
   ]
  },
  {
   "cell_type": "code",
   "execution_count": null,
   "id": "a9e4ef58",
   "metadata": {},
   "outputs": [],
   "source": [
    "# Definition for a binary tree node.\n",
    "# class TreeNode:\n",
    "#     def __init__(self, val=0, left=None, right=None):\n",
    "#         self.val = val\n",
    "#         self.left = left\n",
    "#         self.right = right\n",
    "\n",
    "from collections import deque\n",
    "\n",
    "\n",
    "class Solution:\n",
    "    def levelOrder(self, root: Optional[TreeNode]) -> List[List[int]]:\n",
    "\n",
    "        q = deque()\n",
    "        q.append(root)\n",
    "\n",
    "        res = []\n",
    "        while q:\n",
    "            lvl_nodes = []\n",
    "            q1 = deque()\n",
    "            for node in q:\n",
    "                if node:\n",
    "                    lvl_nodes.append(node.val)\n",
    "                    q1.append(node.left)\n",
    "                    q1.append(node.right)\n",
    "\n",
    "            q = q1\n",
    "\n",
    "            if lvl_nodes:\n",
    "                res.append(lvl_nodes)\n",
    "        return res\n"
   ]
  }
 ],
 "metadata": {
  "kernelspec": {
   "display_name": "Python 3",
   "language": "python",
   "name": "python3"
  },
  "language_info": {
   "codemirror_mode": {
    "name": "ipython",
    "version": 3
   },
   "file_extension": ".py",
   "mimetype": "text/x-python",
   "name": "python",
   "nbconvert_exporter": "python",
   "pygments_lexer": "ipython3",
   "version": "3.8.8"
  }
 },
 "nbformat": 4,
 "nbformat_minor": 5
}
