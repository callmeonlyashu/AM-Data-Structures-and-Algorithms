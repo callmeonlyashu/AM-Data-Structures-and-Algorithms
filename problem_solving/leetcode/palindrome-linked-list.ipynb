{
 "cells": [
  {
   "cell_type": "markdown",
   "id": "b04e0313",
   "metadata": {},
   "source": [
    "Link: https://leetcode.com/problems/palindrome-linked-list/"
   ]
  },
  {
   "cell_type": "code",
   "execution_count": 1,
   "id": "72f9af7e",
   "metadata": {},
   "outputs": [],
   "source": [
    "from typing import Optional\n",
    "\n",
    "\n",
    "# Definition for singly-linked list.\n",
    "class ListNode:\n",
    "    def __init__(self, val=0, next=None):\n",
    "        self.val = val\n",
    "        self.next = next\n",
    "\n",
    "    def __repr__(self):\n",
    "        return f\"{self.val} -> {self.next}\"\n",
    "\n",
    "class Solution:\n",
    "    def isPalindrome(self, head: Optional[ListNode]) -> bool:\n",
    "        # rev_head = head.copy()\n",
    "        rev_head = None\n",
    "        curr_node = head\n",
    "        while curr_node:\n",
    "            new_node = ListNode(curr_node.val)\n",
    "            new_node.next = rev_head\n",
    "            rev_head = new_node\n",
    "            curr_node = curr_node.next\n",
    "\n",
    "        cur_node = head\n",
    "        rev_cur_node = rev_head\n",
    "\n",
    "        while cur_node and rev_cur_node:\n",
    "            if cur_node.val != rev_cur_node.val:\n",
    "                return False\n",
    "            cur_node = cur_node.next\n",
    "            rev_cur_node = rev_cur_node.next\n",
    "        \n",
    "        return True\n"
   ]
  },
  {
   "cell_type": "code",
   "execution_count": null,
   "id": "13ec7d3a",
   "metadata": {},
   "outputs": [],
   "source": []
  }
 ],
 "metadata": {
  "kernelspec": {
   "display_name": "Python 3",
   "language": "python",
   "name": "python3"
  },
  "language_info": {
   "codemirror_mode": {
    "name": "ipython",
    "version": 3
   },
   "file_extension": ".py",
   "mimetype": "text/x-python",
   "name": "python",
   "nbconvert_exporter": "python",
   "pygments_lexer": "ipython3",
   "version": "3.8.8"
  }
 },
 "nbformat": 4,
 "nbformat_minor": 5
}
