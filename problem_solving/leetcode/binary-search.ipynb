{
 "cells": [
  {
   "cell_type": "markdown",
   "id": "9a506cba",
   "metadata": {},
   "source": [
    "Link: https://leetcode.com/problems/binary-search/"
   ]
  },
  {
   "cell_type": "code",
   "execution_count": null,
   "id": "5576a031",
   "metadata": {},
   "outputs": [],
   "source": [
    "from typing import list\n",
    "class Solution:\n",
    "    def search(self, nums: List[int], target: int) -> int:\n",
    "        \n",
    "        def bs(arr, target):\n",
    "            if not len(arr):\n",
    "                return -1\n",
    "\n",
    "            if len(arr) == 1:\n",
    "                if arr[0] == target:\n",
    "                    return 0\n",
    "                else:\n",
    "                    return -1\n",
    "\n",
    "            mid = len(arr) // 2\n",
    "            if arr[mid] == target:\n",
    "                return nums.index(target)\n",
    "\n",
    "            if target < arr[mid]:\n",
    "                return bs(arr[:mid], target)\n",
    "            else:\n",
    "                return bs(arr[mid:], target)\n",
    "\n",
    "        return bs(nums, target)\n"
   ]
  }
 ],
 "metadata": {
  "kernelspec": {
   "display_name": "Python 3",
   "language": "python",
   "name": "python3"
  },
  "language_info": {
   "codemirror_mode": {
    "name": "ipython",
    "version": 3
   },
   "file_extension": ".py",
   "mimetype": "text/x-python",
   "name": "python",
   "nbconvert_exporter": "python",
   "pygments_lexer": "ipython3",
   "version": "3.8.8"
  }
 },
 "nbformat": 4,
 "nbformat_minor": 5
}
