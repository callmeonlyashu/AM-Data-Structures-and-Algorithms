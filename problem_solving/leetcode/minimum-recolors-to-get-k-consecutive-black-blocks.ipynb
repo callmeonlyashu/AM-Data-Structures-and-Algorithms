{
 "cells": [
  {
   "cell_type": "markdown",
   "id": "39229e76",
   "metadata": {},
   "source": [
    "Link: https://leetcode.com/problems/minimum-recolors-to-get-k-consecutive-black-blocks/description/"
   ]
  },
  {
   "cell_type": "code",
   "execution_count": 1,
   "id": "8e637a3c",
   "metadata": {},
   "outputs": [],
   "source": [
    "from collections import Counter\n",
    "class Solution:\n",
    "    def minimumRecolors(self, blocks: str, k: int) -> int:\n",
    "        i = 0\n",
    "        j = k\n",
    "\n",
    "        # print(\"STRING Length\", len(blocks))\n",
    "\n",
    "        if k >= len(blocks):\n",
    "            cur_win_cnt = dict(Counter(blocks))\n",
    "            w_count = cur_win_cnt.get(\"W\", 0)\n",
    "            return w_count\n",
    "\n",
    "        min_op = float(\"inf\")\n",
    "        while j <= len(blocks):\n",
    "            cur_window = blocks[i:j]\n",
    "            cur_win_cnt = dict(Counter(cur_window))\n",
    "            # print(\"cur_win_cnt\", cur_win_cnt)\n",
    "            w_count = cur_win_cnt.get(\"W\", 0)\n",
    "            min_op = min(min_op, w_count)\n",
    "\n",
    "            j += 1\n",
    "            i += 1\n",
    "        \n",
    "        return min_op\n"
   ]
  },
  {
   "cell_type": "code",
   "execution_count": null,
   "id": "50285a7f",
   "metadata": {},
   "outputs": [],
   "source": []
  }
 ],
 "metadata": {
  "kernelspec": {
   "display_name": "Python 3",
   "language": "python",
   "name": "python3"
  },
  "language_info": {
   "codemirror_mode": {
    "name": "ipython",
    "version": 3
   },
   "file_extension": ".py",
   "mimetype": "text/x-python",
   "name": "python",
   "nbconvert_exporter": "python",
   "pygments_lexer": "ipython3",
   "version": "3.8.8"
  }
 },
 "nbformat": 4,
 "nbformat_minor": 5
}
