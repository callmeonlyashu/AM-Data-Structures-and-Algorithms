{
 "cells": [
  {
   "cell_type": "markdown",
   "id": "403bd8b3",
   "metadata": {},
   "source": [
    "Link: https://leetcode.com/problems/count-odd-numbers-in-an-interval-range/"
   ]
  },
  {
   "cell_type": "code",
   "execution_count": 1,
   "id": "84afbda9",
   "metadata": {},
   "outputs": [],
   "source": [
    "class Solution:\n",
    "    def countOdds(self, low: int, high: int) -> int:\n",
    "        diff = high - low\n",
    "        if low % 2 != 0 or high % 2 != 0:\n",
    "            return (diff // 2) + 1\n",
    "        else:\n",
    "            return (diff//2)"
   ]
  },
  {
   "cell_type": "code",
   "execution_count": null,
   "id": "63474bd0",
   "metadata": {},
   "outputs": [],
   "source": []
  }
 ],
 "metadata": {
  "kernelspec": {
   "display_name": "Python 3",
   "language": "python",
   "name": "python3"
  },
  "language_info": {
   "codemirror_mode": {
    "name": "ipython",
    "version": 3
   },
   "file_extension": ".py",
   "mimetype": "text/x-python",
   "name": "python",
   "nbconvert_exporter": "python",
   "pygments_lexer": "ipython3",
   "version": "3.8.8"
  }
 },
 "nbformat": 4,
 "nbformat_minor": 5
}
