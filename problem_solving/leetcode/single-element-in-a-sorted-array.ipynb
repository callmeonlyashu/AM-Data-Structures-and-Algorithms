{
 "cells": [
  {
   "cell_type": "markdown",
   "id": "59c31b8c",
   "metadata": {},
   "source": [
    "Link: https://leetcode.com/problems/single-element-in-a-sorted-array/"
   ]
  },
  {
   "cell_type": "code",
   "execution_count": 2,
   "id": "685727b5",
   "metadata": {},
   "outputs": [],
   "source": [
    "# Using Stack\n",
    "\n",
    "from typing import List\n",
    "class Solution:\n",
    "    def singleNonDuplicate(self, nums: List[int]) -> int:\n",
    "        stack = []\n",
    "\n",
    "        for n in nums:\n",
    "            if n not in stack:\n",
    "                stack.append(n)\n",
    "            else:\n",
    "                stack.pop()\n",
    "        \n",
    "        return stack[0]"
   ]
  },
  {
   "cell_type": "code",
   "execution_count": 3,
   "id": "aaf77162",
   "metadata": {},
   "outputs": [],
   "source": [
    "# Binary Search Approach\n",
    "\n",
    "class Solution:\n",
    "    def singleNonDuplicate(self, nums: List[int]) -> int:\n",
    "        # stack = []\n",
    "\n",
    "        # for n in nums:\n",
    "        #     if n not in stack:\n",
    "        #         stack.append(n)\n",
    "        #     else:\n",
    "        #         stack.pop()\n",
    "        \n",
    "        # return stack[0]\n",
    "\n",
    "        l, r = 0, len(nums) - 1\n",
    "\n",
    "        while l < r:\n",
    "            m = int((l + r) / 2)\n",
    "            # Align m to the first element of a pair\n",
    "            if m % 2 == 1:\n",
    "                m -= 1\n",
    "\n",
    "            if nums[m] == nums[m + 1]:\n",
    "                l = m + 2\n",
    "            else:\n",
    "                r = m\n",
    "\n",
    "        return nums[l]"
   ]
  },
  {
   "cell_type": "code",
   "execution_count": null,
   "id": "3f0adc57",
   "metadata": {},
   "outputs": [],
   "source": []
  }
 ],
 "metadata": {
  "kernelspec": {
   "display_name": "Python 3",
   "language": "python",
   "name": "python3"
  },
  "language_info": {
   "codemirror_mode": {
    "name": "ipython",
    "version": 3
   },
   "file_extension": ".py",
   "mimetype": "text/x-python",
   "name": "python",
   "nbconvert_exporter": "python",
   "pygments_lexer": "ipython3",
   "version": "3.8.8"
  }
 },
 "nbformat": 4,
 "nbformat_minor": 5
}
