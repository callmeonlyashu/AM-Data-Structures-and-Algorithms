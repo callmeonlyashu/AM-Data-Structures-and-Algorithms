{
 "cells": [
  {
   "cell_type": "markdown",
   "id": "1d42ea0d",
   "metadata": {},
   "source": [
    "Link: https://leetcode.com/problems/minimum-difference-between-highest-and-lowest-of-k-scores/"
   ]
  },
  {
   "cell_type": "code",
   "execution_count": 3,
   "id": "6441759d",
   "metadata": {},
   "outputs": [],
   "source": [
    "from typing import List\n",
    "class Solution:\n",
    "    def minimumDifference(self, nums: List[int], k: int) -> int:\n",
    "        # Base Validation case\n",
    "        if len(nums) <= 1:\n",
    "            return 0\n",
    "\n",
    "        # Sort the array first to easily get the minimum value\n",
    "        nums.sort(reverse=True)\n",
    "\n",
    "        i = 0\n",
    "        j = k\n",
    "\n",
    "        # print(\"nums\", nums)\n",
    "        min_diff = float(\"inf\")\n",
    "        while j <= len(nums):\n",
    "            nums_window = nums[i:j]\n",
    "            curr_diff = nums_window[0] - nums_window[-1]\n",
    "            min_diff = min(min_diff, curr_diff)\n",
    "            # print(\"curr_diff: %s, min_diff: %s\", curr_diff, min_diff)\n",
    "\n",
    "            i += 1\n",
    "            j += 1\n",
    "        \n",
    "        return min_diff\n"
   ]
  },
  {
   "cell_type": "code",
   "execution_count": null,
   "id": "08e9f326",
   "metadata": {},
   "outputs": [],
   "source": []
  }
 ],
 "metadata": {
  "kernelspec": {
   "display_name": "Python 3",
   "language": "python",
   "name": "python3"
  },
  "language_info": {
   "codemirror_mode": {
    "name": "ipython",
    "version": 3
   },
   "file_extension": ".py",
   "mimetype": "text/x-python",
   "name": "python",
   "nbconvert_exporter": "python",
   "pygments_lexer": "ipython3",
   "version": "3.8.8"
  }
 },
 "nbformat": 4,
 "nbformat_minor": 5
}
