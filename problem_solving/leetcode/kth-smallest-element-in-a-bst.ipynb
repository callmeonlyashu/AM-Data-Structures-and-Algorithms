{
 "cells": [
  {
   "cell_type": "markdown",
   "id": "0f91469d",
   "metadata": {},
   "source": [
    "Link: https://leetcode.com/problems/kth-smallest-element-in-a-bst/"
   ]
  },
  {
   "cell_type": "code",
   "execution_count": null,
   "id": "700f5258",
   "metadata": {},
   "outputs": [],
   "source": [
    "# Definition for a binary tree node.\n",
    "# class TreeNode:\n",
    "#     def __init__(self, val=0, left=None, right=None):\n",
    "#         self.val = val\n",
    "#         self.left = left\n",
    "#         self.right = right\n",
    "class Solution:\n",
    "    def kthSmallest(self, root: Optional[TreeNode], k: int) -> int:\n",
    "        def inOrderTraversal(node, ele = []):\n",
    "            if node is not None:\n",
    "                ele = inOrderTraversal(node.left, ele)\n",
    "                ele.append(node.val)\n",
    "                inOrderTraversal(node.right, ele)\n",
    "\n",
    "            return ele\n",
    "\n",
    "        ele = inOrderTraversal(root, [])\n",
    "        return ele[k-1]\n"
   ]
  }
 ],
 "metadata": {
  "kernelspec": {
   "display_name": "Python 3",
   "language": "python",
   "name": "python3"
  },
  "language_info": {
   "codemirror_mode": {
    "name": "ipython",
    "version": 3
   },
   "file_extension": ".py",
   "mimetype": "text/x-python",
   "name": "python",
   "nbconvert_exporter": "python",
   "pygments_lexer": "ipython3",
   "version": "3.8.8"
  }
 },
 "nbformat": 4,
 "nbformat_minor": 5
}
