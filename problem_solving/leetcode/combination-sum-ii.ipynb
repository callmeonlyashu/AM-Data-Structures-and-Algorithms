{
 "cells": [
  {
   "cell_type": "markdown",
   "id": "83c86e61",
   "metadata": {},
   "source": [
    "Link: https://leetcode.com/problems/combination-sum-ii/"
   ]
  },
  {
   "cell_type": "code",
   "execution_count": 1,
   "id": "4d397aa8",
   "metadata": {},
   "outputs": [],
   "source": [
    "from typing import List\n",
    "class Solution:\n",
    "    def combinationSum2(self, candidates: List[int], target: int) -> List[List[int]]:\n",
    "        res = []\n",
    "        subseq = []\n",
    "\n",
    "        candidates.sort()\n",
    "        def dfs(i, total=0):\n",
    "            curr_subset = subseq.copy()\n",
    "            # curr_subset.sort()\n",
    "            if total == target:\n",
    "                res.append(curr_subset)\n",
    "                return\n",
    "\n",
    "            if total > target or i == len(candidates):\n",
    "                return\n",
    "            \n",
    "            subseq.append(candidates[i])\n",
    "            dfs(i+1, total+candidates[i])\n",
    "            subseq.pop()\n",
    "\n",
    "            while i + 1 < len(candidates) and candidates[i] == candidates[i+1]:\n",
    "                i += 1\n",
    "            dfs(i+1, total)\n",
    "        \n",
    "        dfs(0)\n",
    "        return res\n"
   ]
  },
  {
   "cell_type": "code",
   "execution_count": null,
   "id": "7d50dd0e",
   "metadata": {},
   "outputs": [],
   "source": []
  }
 ],
 "metadata": {
  "kernelspec": {
   "display_name": "Python 3",
   "language": "python",
   "name": "python3"
  },
  "language_info": {
   "codemirror_mode": {
    "name": "ipython",
    "version": 3
   },
   "file_extension": ".py",
   "mimetype": "text/x-python",
   "name": "python",
   "nbconvert_exporter": "python",
   "pygments_lexer": "ipython3",
   "version": "3.8.8"
  }
 },
 "nbformat": 4,
 "nbformat_minor": 5
}
