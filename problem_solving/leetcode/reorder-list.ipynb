{
 "cells": [
  {
   "cell_type": "markdown",
   "id": "a15cbd44",
   "metadata": {},
   "source": [
    "Link: https://leetcode.com/problems/reorder-list/"
   ]
  },
  {
   "cell_type": "code",
   "execution_count": 159,
   "id": "993a6388",
   "metadata": {},
   "outputs": [
    {
     "name": "stdout",
     "output_type": "stream",
     "text": [
      "head: 1 -> 4 -> 2 -> 3 -> None\n",
      "head: 1 -> 5 -> 2 -> 4 -> 3 -> None\n"
     ]
    }
   ],
   "source": [
    "from typing import Optional\n",
    "\n",
    "# Definition for singly-linked list.\n",
    "class ListNode:\n",
    "    def __init__(self, val=0, next=None):\n",
    "        self.val = val\n",
    "        self.next = next\n",
    "        \n",
    "    def __repr__(self):\n",
    "        return f\"{self.val} -> {self.next}\"\n",
    "    \n",
    "def convert_to_linkedlist(arr):\n",
    "    llst = ListNode(arr[0])\n",
    "    curr_node = llst\n",
    "    for i in arr[1:]:\n",
    "        curr_node.next = ListNode(i)\n",
    "        curr_node = curr_node.next\n",
    "    \n",
    "    return llst\n",
    "    \n",
    "class Solution:\n",
    "    def reorderList(self, head: Optional[ListNode]) -> None:\n",
    "        \"\"\"\n",
    "        Do not return anything, modify head in-place instead.\n",
    "        \"\"\"\n",
    "        def reverse_head(head):\n",
    "            curr_node = head\n",
    "            \n",
    "            rev_head = None\n",
    "            while curr_node:\n",
    "                new_node = ListNode(curr_node.val)\n",
    "                new_node.next = rev_head\n",
    "                rev_head = new_node\n",
    "                curr_node = curr_node.next\n",
    "            return rev_head\n",
    "        \n",
    "        # Split the list into half using slow and fast pointers.\n",
    "        fast, slow = head.next, head\n",
    "        while fast and fast.next:\n",
    "            slow = slow.next\n",
    "            fast = fast.next.next\n",
    "        \n",
    "        # Reverse the second half\n",
    "        second_half = slow.next\n",
    "        slow.next = None\n",
    "        rev_sec_half = reverse_head(second_half)\n",
    "        \n",
    "        # Merge the first and second half one by one\n",
    "        first = head\n",
    "        while rev_sec_half:\n",
    "            tmp1 = first.next\n",
    "            tmp2 = rev_sec_half.next\n",
    "\n",
    "            first.next = rev_sec_half\n",
    "            rev_sec_half.next = tmp1\n",
    "\n",
    "            first = tmp1\n",
    "            rev_sec_half = tmp2\n",
    "                                        \n",
    "s = Solution()\n",
    "s.reorderList(convert_to_linkedlist([1,2,3,4]))\n",
    "s.reorderList(convert_to_linkedlist([1,2,3,4,5]))\n",
    "        "
   ]
  },
  {
   "cell_type": "code",
   "execution_count": null,
   "id": "33d57f05",
   "metadata": {},
   "outputs": [],
   "source": []
  }
 ],
 "metadata": {
  "kernelspec": {
   "display_name": "Python 3",
   "language": "python",
   "name": "python3"
  },
  "language_info": {
   "codemirror_mode": {
    "name": "ipython",
    "version": 3
   },
   "file_extension": ".py",
   "mimetype": "text/x-python",
   "name": "python",
   "nbconvert_exporter": "python",
   "pygments_lexer": "ipython3",
   "version": "3.8.8"
  }
 },
 "nbformat": 4,
 "nbformat_minor": 5
}
