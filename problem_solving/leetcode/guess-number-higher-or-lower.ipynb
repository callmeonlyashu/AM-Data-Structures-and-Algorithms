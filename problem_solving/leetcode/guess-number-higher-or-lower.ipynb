{
 "cells": [
  {
   "cell_type": "markdown",
   "id": "4a02a708",
   "metadata": {},
   "source": [
    "Link: https://leetcode.com/problems/guess-number-higher-or-lower"
   ]
  },
  {
   "cell_type": "code",
   "execution_count": 1,
   "id": "39353e58",
   "metadata": {},
   "outputs": [],
   "source": [
    "# The guess API is already defined for you.\n",
    "# @param num, your guess\n",
    "# @return -1 if num is higher than the picked number\n",
    "#          1 if num is lower than the picked number\n",
    "#          otherwise return 0\n",
    "# def guess(num: int) -> int:\n",
    "\n",
    "class Solution:\n",
    "    def guessNumber(self, n: int) -> int:\n",
    "        l, r = 1, n\n",
    "        while True:\n",
    "            m = (l + r) // 2\n",
    "            res = guess(m)\n",
    "            if res > 0:\n",
    "                l = m + 1\n",
    "            elif res < 0:\n",
    "                r = m - 1\n",
    "            else:\n",
    "                return m\n"
   ]
  },
  {
   "cell_type": "code",
   "execution_count": null,
   "id": "69d5d4ce",
   "metadata": {},
   "outputs": [],
   "source": []
  }
 ],
 "metadata": {
  "kernelspec": {
   "display_name": "Python 3",
   "language": "python",
   "name": "python3"
  },
  "language_info": {
   "codemirror_mode": {
    "name": "ipython",
    "version": 3
   },
   "file_extension": ".py",
   "mimetype": "text/x-python",
   "name": "python",
   "nbconvert_exporter": "python",
   "pygments_lexer": "ipython3",
   "version": "3.8.8"
  }
 },
 "nbformat": 4,
 "nbformat_minor": 5
}
