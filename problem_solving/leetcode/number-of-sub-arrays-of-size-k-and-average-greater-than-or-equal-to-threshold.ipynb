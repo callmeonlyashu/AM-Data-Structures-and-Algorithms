{
 "cells": [
  {
   "cell_type": "markdown",
   "id": "ad046d48",
   "metadata": {},
   "source": [
    "Link: https://leetcode.com/problems/number-of-sub-arrays-of-size-k-and-average-greater-than-or-equal-to-threshold/"
   ]
  },
  {
   "cell_type": "code",
   "execution_count": 1,
   "id": "f0535c22",
   "metadata": {},
   "outputs": [],
   "source": [
    "from typing import List\n",
    "\n",
    "class Solution:\n",
    "    def numOfSubarrays(self, arr: List[int], k: int, threshold: int) -> int:\n",
    "        left = 0\n",
    "        right = k\n",
    "        sub_cnt = 0\n",
    "\n",
    "        curr_sum = sum(arr[left:right])\n",
    "\n",
    "        avg = curr_sum / k\n",
    "        if avg >= threshold:\n",
    "            sub_cnt += 1\n",
    "\n",
    "        while right < len(arr):\n",
    "\n",
    "            if right < len(arr):\n",
    "                curr_sum -= arr[left]\n",
    "                curr_sum += arr[right]\n",
    "            \n",
    "            left += 1\n",
    "            right += 1\n",
    "        \n",
    "            avg = curr_sum / k\n",
    "            if avg >= threshold:\n",
    "                sub_cnt += 1\n",
    "                \n",
    "        return sub_cnt"
   ]
  },
  {
   "cell_type": "code",
   "execution_count": null,
   "id": "12f3bbff",
   "metadata": {},
   "outputs": [],
   "source": []
  }
 ],
 "metadata": {
  "kernelspec": {
   "display_name": "Python 3",
   "language": "python",
   "name": "python3"
  },
  "language_info": {
   "codemirror_mode": {
    "name": "ipython",
    "version": 3
   },
   "file_extension": ".py",
   "mimetype": "text/x-python",
   "name": "python",
   "nbconvert_exporter": "python",
   "pygments_lexer": "ipython3",
   "version": "3.8.8"
  }
 },
 "nbformat": 4,
 "nbformat_minor": 5
}
