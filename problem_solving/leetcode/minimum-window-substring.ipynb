{
 "cells": [
  {
   "cell_type": "markdown",
   "id": "11b5b518",
   "metadata": {},
   "source": [
    "Link: https://leetcode.com/problems/minimum-window-substring/description/"
   ]
  },
  {
   "cell_type": "code",
   "execution_count": 63,
   "id": "210a5835",
   "metadata": {},
   "outputs": [
    {
     "name": "stdout",
     "output_type": "stream",
     "text": [
      "sub_str: 1, all_exists: False, window_counts: defaultdict(<class 'int'>, {})\n",
      "sub_str: 0, all_exists: False, window_counts: defaultdict(<class 'int'>, {'A': 1})\n",
      "sub_str: -1, all_exists: False, window_counts: defaultdict(<class 'int'>, {'A': 1, 'D': 1})\n",
      "sub_str: -2, all_exists: False, window_counts: defaultdict(<class 'int'>, {'A': 1, 'D': 1, 'O': 1})\n",
      "sub_str: -3, all_exists: False, window_counts: defaultdict(<class 'int'>, {'A': 1, 'D': 1, 'O': 1, 'B': 1})\n",
      "sub_str: -4, all_exists: False, window_counts: defaultdict(<class 'int'>, {'A': 1, 'D': 1, 'O': 1, 'B': 1, 'E': 1})\n",
      "sub_str: -5, all_exists: True, window_counts: defaultdict(<class 'int'>, {'A': 1, 'D': 1, 'O': 1, 'B': 1, 'E': 1, 'C': 1})\n",
      "sub_str: -4, all_exists: True, window_counts: defaultdict(<class 'int'>, {'A': 1, 'D': 1, 'O': 0, 'B': 1, 'E': 1, 'C': 1})\n",
      "sub_str: -3, all_exists: True, window_counts: defaultdict(<class 'int'>, {'A': 1, 'D': 1, 'O': -1, 'B': 1, 'E': 1, 'C': 1})\n",
      "sub_str: -2, all_exists: True, window_counts: defaultdict(<class 'int'>, {'A': 1, 'D': 1, 'O': -2, 'B': 1, 'E': 1, 'C': 1})\n",
      "sub_str: -1, all_exists: True, window_counts: defaultdict(<class 'int'>, {'A': 1, 'D': 1, 'O': -3, 'B': 1, 'E': 1, 'C': 1})\n",
      "sub_str: 0, all_exists: True, window_counts: defaultdict(<class 'int'>, {'A': 1, 'D': 1, 'O': -4, 'B': 1, 'E': 1, 'C': 1})\n",
      "sub_str: 1, all_exists: True, window_counts: defaultdict(<class 'int'>, {'A': 1, 'D': 1, 'O': -5, 'B': 1, 'E': 1, 'C': 1})\n",
      "sub_str: 2, all_exists: True, window_counts: defaultdict(<class 'int'>, {'A': 1, 'D': 1, 'O': -6, 'B': 1, 'E': 1, 'C': 1})\n",
      "sub_str: 3, all_exists: True, window_counts: defaultdict(<class 'int'>, {'A': 1, 'D': 1, 'O': -7, 'B': 1, 'E': 1, 'C': 1})\n",
      "sub_str: 4, all_exists: True, window_counts: defaultdict(<class 'int'>, {'A': 1, 'D': 1, 'O': -8, 'B': 1, 'E': 1, 'C': 1})\n",
      "sub_str: 5, all_exists: True, window_counts: defaultdict(<class 'int'>, {'A': 1, 'D': 1, 'O': -9, 'B': 1, 'E': 1, 'C': 1})\n",
      "sub_str: 6, all_exists: True, window_counts: defaultdict(<class 'int'>, {'A': 1, 'D': 1, 'O': -10, 'B': 1, 'E': 1, 'C': 1})\n",
      "sub_str: 7, all_exists: True, window_counts: defaultdict(<class 'int'>, {'A': 1, 'D': 1, 'O': -11, 'B': 1, 'E': 1, 'C': 1})\n"
     ]
    },
    {
     "data": {
      "text/plain": [
       "'O'"
      ]
     },
     "execution_count": 63,
     "metadata": {},
     "output_type": "execute_result"
    }
   ],
   "source": [
    "\"\"\"\n",
    "Hint:\n",
    "\n",
    "Hint 1\n",
    "Use two pointers to create a window of letters in s, which would have all the characters from t.\n",
    "Hint 2\n",
    "Expand the right pointer until all the characters of t are covered.\n",
    "Hint 3\n",
    "Once all the characters are covered, move the left pointer and ensure that all the characters are still covered to minimize the subarray size.\n",
    "Hint 4\n",
    "Continue expanding the right and left pointers until you reach the end of s.\n",
    "\"\"\"\n",
    "from collections import Counter\n",
    "class Solution:\n",
    "    def minWindow(self, s: str, t: str) -> str:\n",
    "        s_length = len(s)\n",
    "        if s_length < len(t):\n",
    "            return \"\"\n",
    "        \n",
    "        if s == t:\n",
    "            return s\n",
    "                    \n",
    "        i = 0\n",
    "        j = 0\n",
    "        \n",
    "        t_counter = dict(Counter(t))\n",
    "#         print(f\"t_counter: {t_counter}\")\n",
    "        def check_all_t_exists(substr):\n",
    "            counter_substr = dict(Counter(substr))\n",
    "#             print(f\"counter_substr: {counter_substr}\")\n",
    "            for ch, cnt in t_counter.items():\n",
    "                if ch not in counter_substr:\n",
    "                    return False\n",
    "                if ch in counter_substr and counter_substr[ch] < cnt:\n",
    "                    return False\n",
    "            \n",
    "            return True\n",
    "            \n",
    "        \n",
    "        sub_str = \"\"\n",
    "        min_str = \"$$\"*s_length\n",
    "        while i < s_length and j < s_length:\n",
    "            sub_str = s[i:j+1]\n",
    "            all_exists = check_all_t_exists(sub_str)\n",
    "            # print(f\"sub_str: {sub_str} all_exists: {all_exists} \")\n",
    "            if all_exists:\n",
    "                if len(min_str) > len(sub_str):\n",
    "                    min_str = sub_str\n",
    "#                 min_str = min(len(min_str), len(sub_str))\n",
    "                i+=1\n",
    "            else:\n",
    "                j+=1\n",
    "\n",
    "        if min_str == \"$$\"*s_length:\n",
    "            return \"\"\n",
    "        return min_str\n",
    "            \n",
    "    \n",
    "s = Solution()\n",
    "s.minWindow(\"ADOBECODEBANC\", \"ABC\")\n",
    "# s.minWindow(\"a\", \"a\")\n",
    "# s.minWindow(\"a\", \"aa\")\n",
    "# s.minWindow(\"ab\", \"a\")\n",
    "# s.minWindow(\"bbaa\", \"bba\")\n",
    "# s.minWindow(\"acbbaca\", \"aba\")\n",
    "# s.minWindow(\"cabwefgewcwaefgcf\", \"cae\")\n",
    "# s.minWindow(\"ab\", \"A\")\n",
    "# s.minWindow(\"abc\", \"ac\")\n"
   ]
  },
  {
   "cell_type": "code",
   "execution_count": 66,
   "id": "af07b361",
   "metadata": {},
   "outputs": [
    {
     "data": {
      "text/plain": [
       "'abc'"
      ]
     },
     "execution_count": 66,
     "metadata": {},
     "output_type": "execute_result"
    }
   ],
   "source": [
    "from collections import Counter, defaultdict\n",
    "\n",
    "class Solution:\n",
    "    def minWindow(self, s: str, t: str) -> str:\n",
    "        s_length = len(s)\n",
    "        \n",
    "        if s_length < len(t):\n",
    "            return \"\"\n",
    "        \n",
    "        if s == t:\n",
    "            return s\n",
    "        \n",
    "        i = 0\n",
    "        j = 0\n",
    "        \n",
    "        t_counter = Counter(t)\n",
    "        window_counts = defaultdict(int)\n",
    "        \n",
    "        required = len(t_counter)\n",
    "        formed = 0\n",
    "        \n",
    "        min_len = float('inf')\n",
    "        min_start = 0  # start index of min substring\n",
    "        \n",
    "        while j < s_length:\n",
    "            char = s[j]\n",
    "            window_counts[char] += 1\n",
    "            \n",
    "            # Check if current char meets required frequency\n",
    "            if char in t_counter and window_counts[char] == t_counter[char]:\n",
    "                formed += 1\n",
    "            \n",
    "            # Try to shrink window from the left\n",
    "            while i <= j and formed == required:\n",
    "                window_len = j - i + 1\n",
    "                if window_len < min_len:\n",
    "                    min_len = window_len\n",
    "                    min_start = i\n",
    "\n",
    "                left_char = s[i]\n",
    "                window_counts[left_char] -= 1\n",
    "                if left_char in t_counter and window_counts[left_char] < t_counter[left_char]:\n",
    "                    formed -= 1\n",
    "                i += 1\n",
    "            \n",
    "            j += 1\n",
    "        \n",
    "        if min_len == float('inf'):\n",
    "            return \"\"\n",
    "        return s[min_start:min_start + min_len]\n",
    "\n",
    "    \n",
    "s = Solution()\n",
    "s.minWindow(\"ADOBECODEBANC\", \"ABC\")\n",
    "s.minWindow(\"a\", \"a\")\n",
    "s.minWindow(\"a\", \"aa\")\n",
    "s.minWindow(\"ab\", \"a\")\n",
    "s.minWindow(\"bbaa\", \"bba\")\n",
    "s.minWindow(\"acbbaca\", \"aba\")\n",
    "s.minWindow(\"cabwefgewcwaefgcf\", \"cae\")\n",
    "s.minWindow(\"ab\", \"A\")\n",
    "s.minWindow(\"abc\", \"ac\")"
   ]
  },
  {
   "cell_type": "code",
   "execution_count": null,
   "id": "2c274a49",
   "metadata": {},
   "outputs": [],
   "source": []
  }
 ],
 "metadata": {
  "kernelspec": {
   "display_name": "Python 3",
   "language": "python",
   "name": "python3"
  },
  "language_info": {
   "codemirror_mode": {
    "name": "ipython",
    "version": 3
   },
   "file_extension": ".py",
   "mimetype": "text/x-python",
   "name": "python",
   "nbconvert_exporter": "python",
   "pygments_lexer": "ipython3",
   "version": "3.8.8"
  }
 },
 "nbformat": 4,
 "nbformat_minor": 5
}
