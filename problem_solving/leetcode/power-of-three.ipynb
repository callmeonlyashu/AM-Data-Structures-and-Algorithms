{
 "cells": [
  {
   "cell_type": "markdown",
   "id": "f976a858",
   "metadata": {},
   "source": [
    "Link: https://leetcode.com/problems/power-of-three/"
   ]
  },
  {
   "cell_type": "code",
   "execution_count": null,
   "id": "74fc4fbe",
   "metadata": {},
   "outputs": [],
   "source": [
    "class Solution:\n",
    "    def isPowerOfThree(self, n: int) -> bool:\n",
    "        if n == 0:\n",
    "            return False\n",
    "\n",
    "        if n == 1:\n",
    "            # 3 power 0 is 1\n",
    "            return True\n",
    "        \n",
    "        while True:\n",
    "            rem = n % 3\n",
    "            if n == 3:\n",
    "                return True\n",
    "\n",
    "            if rem < 3 and rem != 0:\n",
    "                return False                \n",
    "            \n",
    "            n = n // 3"
   ]
  }
 ],
 "metadata": {
  "kernelspec": {
   "display_name": "Python 3",
   "language": "python",
   "name": "python3"
  },
  "language_info": {
   "codemirror_mode": {
    "name": "ipython",
    "version": 3
   },
   "file_extension": ".py",
   "mimetype": "text/x-python",
   "name": "python",
   "nbconvert_exporter": "python",
   "pygments_lexer": "ipython3",
   "version": "3.8.8"
  }
 },
 "nbformat": 4,
 "nbformat_minor": 5
}
