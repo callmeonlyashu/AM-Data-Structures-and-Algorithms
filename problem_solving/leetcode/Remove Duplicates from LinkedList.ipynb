{
 "cells": [
  {
   "cell_type": "code",
   "execution_count": null,
   "id": "788debad",
   "metadata": {},
   "outputs": [],
   "source": [
    "\"\"\"\n",
    "Link: https://leetcode.com/problems/remove-duplicates-from-sorted-list/description/\n",
    "\"\"\""
   ]
  },
  {
   "cell_type": "code",
   "execution_count": null,
   "id": "0f2c875d",
   "metadata": {},
   "outputs": [],
   "source": [
    "# Definition for singly-linked list.\n",
    "class ListNode:\n",
    "    def __init__(self, val=0, next=None):\n",
    "        self.val = val\n",
    "        self.next = next\n",
    "        \n",
    "    def __repr__(self):\n",
    "        linked_repr = \"\"\n",
    "        llist = self\n",
    "        while llist.next:\n",
    "            linked_repr += str(llist.val) + \"->\"\n",
    "            llist = llist.next\n",
    "        \n",
    "        linked_repr += str(llist.val) + \"->\"\n",
    "        return linked_repr\n",
    "    \n",
    "class Solution:\n",
    "    def deleteDuplicates(self, head):\n",
    "        current = head\n",
    "        \n",
    "        # Empty Lists\n",
    "        if current is None:\n",
    "            return None\n",
    "        \n",
    "        while current.next is not None:\n",
    "            if current.val == current.next.val:\n",
    "                current.next = current.next.next\n",
    "            else:\n",
    "                current = current.next\n",
    "            \n",
    "        return head\n",
    "\n",
    "s = Solution()\n",
    "    \n",
    "# # Test 1: Empty list\n",
    "assert linked_to_list(s.deleteDuplicates(list_to_linked([]))) == []\n",
    "\n",
    "# # Test 2: No duplicates\n",
    "assert linked_to_list(s.deleteDuplicates(list_to_linked([1, 2, 3]))) == [1, 2, 3]\n",
    "\n",
    "# # Test 3: Consecutive duplicates\n",
    "assert linked_to_list(s.deleteDuplicates(list_to_linked([1, 1, 2]))) == [1, 2]\n",
    "\n",
    "# # Test 3.a: Consecutive duplicates - 2\n",
    "assert linked_to_list(s.deleteDuplicates(list_to_linked([1, 1, 1, 1, 1, 2]))) == [1, 2]\n",
    "\n",
    "# # Test 4: Multiple duplicate values\n",
    "assert linked_to_list(s.deleteDuplicates(list_to_linked([1, 1, 2, 3, 3]))) == [1, 2, 3]\n",
    "\n",
    "# # Test 5: All values are the same\n",
    "assert linked_to_list(s.deleteDuplicates(list_to_linked([2, 2, 2, 2]))) == [2]\n",
    "\n",
    "print(\"All Test Cases Passed\")"
   ]
  }
 ],
 "metadata": {
  "kernelspec": {
   "display_name": "Python 3",
   "language": "python",
   "name": "python3"
  },
  "language_info": {
   "codemirror_mode": {
    "name": "ipython",
    "version": 3
   },
   "file_extension": ".py",
   "mimetype": "text/x-python",
   "name": "python",
   "nbconvert_exporter": "python",
   "pygments_lexer": "ipython3",
   "version": "3.8.8"
  }
 },
 "nbformat": 4,
 "nbformat_minor": 5
}
