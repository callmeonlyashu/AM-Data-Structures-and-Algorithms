{
 "cells": [
  {
   "cell_type": "markdown",
   "id": "b1cacb00",
   "metadata": {},
   "source": [
    "Link: https://leetcode.com/problems/power-of-four/"
   ]
  },
  {
   "cell_type": "code",
   "execution_count": 1,
   "id": "11608482",
   "metadata": {},
   "outputs": [],
   "source": [
    "class Solution:\n",
    "    def isPowerOfFour(self, n: int) -> bool:\n",
    "        # cnt = 0\n",
    "\n",
    "        # while True:\n",
    "        #     cur_val = 4**cnt\n",
    "\n",
    "        #     if cur_val == n:\n",
    "        #         return True\n",
    "        #     elif cur_val > n:\n",
    "        #         return False\n",
    "            \n",
    "        #     cnt += 1\n",
    "        return n > 0 and (n & (n - 1)) == 0 and (n & 0xAAAAAAAA) == 0\n",
    "\n",
    "        \n",
    "\n",
    "                "
   ]
  },
  {
   "cell_type": "code",
   "execution_count": null,
   "id": "4b979463",
   "metadata": {},
   "outputs": [],
   "source": []
  }
 ],
 "metadata": {
  "kernelspec": {
   "display_name": "Python 3",
   "language": "python",
   "name": "python3"
  },
  "language_info": {
   "codemirror_mode": {
    "name": "ipython",
    "version": 3
   },
   "file_extension": ".py",
   "mimetype": "text/x-python",
   "name": "python",
   "nbconvert_exporter": "python",
   "pygments_lexer": "ipython3",
   "version": "3.8.8"
  }
 },
 "nbformat": 4,
 "nbformat_minor": 5
}
