{
 "cells": [
  {
   "cell_type": "markdown",
   "id": "9582b422",
   "metadata": {},
   "source": [
    "Link: https://leetcode.com/problems/crawler-log-folder/submissions/1728874171/"
   ]
  },
  {
   "cell_type": "code",
   "execution_count": null,
   "id": "832167d0",
   "metadata": {},
   "outputs": [],
   "source": [
    "from typing import List\n",
    "class Solution:\n",
    "    def minOperations(self, logs: List[str]) -> int:\n",
    "        res_count = 0 \n",
    "        for l in logs:\n",
    "            if l == \"../\":\n",
    "                if res_count != 0:\n",
    "                    # Remvove the last visited folder.\n",
    "                    res_count -= 1\n",
    "                else:\n",
    "                    # Do Nothing as we are in main Folder itself.\n",
    "                    pass\n",
    "            elif l == \"./\":\n",
    "                pass\n",
    "            else:\n",
    "                res_count += 1\n",
    "        return res_count\n"
   ]
  }
 ],
 "metadata": {
  "kernelspec": {
   "display_name": "Python 3",
   "language": "python",
   "name": "python3"
  },
  "language_info": {
   "codemirror_mode": {
    "name": "ipython",
    "version": 3
   },
   "file_extension": ".py",
   "mimetype": "text/x-python",
   "name": "python",
   "nbconvert_exporter": "python",
   "pygments_lexer": "ipython3",
   "version": "3.8.8"
  }
 },
 "nbformat": 4,
 "nbformat_minor": 5
}
