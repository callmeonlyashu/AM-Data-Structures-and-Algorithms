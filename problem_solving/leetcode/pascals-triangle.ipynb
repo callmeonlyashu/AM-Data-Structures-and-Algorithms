{
 "cells": [
  {
   "cell_type": "markdown",
   "id": "881bbfda",
   "metadata": {},
   "source": [
    "Link: https://leetcode.com/problems/pascals-triangle/"
   ]
  },
  {
   "cell_type": "code",
   "execution_count": null,
   "id": "4f8858cf",
   "metadata": {},
   "outputs": [],
   "source": [
    "from typing import List\n",
    "\n",
    "class Solution:\n",
    "    def generate(self, numRows: int) -> List[List[int]]:\n",
    "\n",
    "        curr_arr = [1]\n",
    "        res = [[1]]\n",
    "        for numR in range(numRows-1):\n",
    "            prev_ind = -1\n",
    "            next_ind = 0\n",
    "\n",
    "            row = []\n",
    "            while prev_ind < len(curr_arr):\n",
    "                if prev_ind == -1:\n",
    "                    prev_val = 0\n",
    "                else:\n",
    "                    prev_val = curr_arr[prev_ind]\n",
    "                \n",
    "                if next_ind >= len(curr_arr):\n",
    "                    next_val = 0\n",
    "                else:\n",
    "                    next_val = curr_arr[next_ind]\n",
    "\n",
    "                row.append(prev_val+next_val)\n",
    "\n",
    "                prev_ind += 1\n",
    "                next_ind += 1\n",
    "            \n",
    "            curr_arr = row\n",
    "            res.append(row)\n",
    "        \n",
    "        return res\n",
    "        \n",
    "\n",
    "            "
   ]
  }
 ],
 "metadata": {
  "kernelspec": {
   "display_name": "Python 3",
   "language": "python",
   "name": "python3"
  },
  "language_info": {
   "codemirror_mode": {
    "name": "ipython",
    "version": 3
   },
   "file_extension": ".py",
   "mimetype": "text/x-python",
   "name": "python",
   "nbconvert_exporter": "python",
   "pygments_lexer": "ipython3",
   "version": "3.8.8"
  }
 },
 "nbformat": 4,
 "nbformat_minor": 5
}
