{
 "cells": [
  {
   "cell_type": "markdown",
   "id": "5dfecbcf",
   "metadata": {},
   "source": [
    "Link: https://leetcode.com/problems/validate-binary-search-tree/"
   ]
  },
  {
   "cell_type": "code",
   "execution_count": null,
   "id": "2e4a526f",
   "metadata": {},
   "outputs": [],
   "source": [
    "# Definition for a binary tree node.\n",
    "# class TreeNode:\n",
    "#     def __init__(self, val=0, left=None, right=None):\n",
    "#         self.val = val\n",
    "#         self.left = left\n",
    "#         self.right = right\n",
    "class Solution:\n",
    "    def isValidBST(self, root: Optional[TreeNode]) -> bool:\n",
    "        def valid(node, left, right):\n",
    "            if not node:\n",
    "                return True\n",
    "            \n",
    "            if not (left < node.val < right):\n",
    "                return False\n",
    "\n",
    "            return valid(node.left, left, node.val) and  valid(node.right, node.val, right) \n",
    "        return valid(root, float(\"-inf\"), float(\"inf\"))\n",
    "        # if not root:\n",
    "        #     return False\n",
    "\n",
    "        # if not root.left and not root.right:\n",
    "        #     return True\n",
    "\n",
    "        # def subtreeBST(root):\n",
    "        #     if root:\n",
    "        #         if (root.left and root.left.val < root.val) and (root.right and root.val < root.right.val):\n",
    "        #             return True\n",
    "        #         if (root.left and root.left.val < root.val) and (not root.right):\n",
    "        #             return True\n",
    "        #         if (not root.left) and (root.right and root.val < root.right.val):\n",
    "        #             return True\n",
    "            \n",
    "        #         return subtreeBST(root.left) and subtreeBST(root.right)\n",
    "        #     return False\n",
    "        # # if root:\n",
    "        # #     if (root.left and root.left.val < root.val) and (root.right and root.val < root.right.val):\n",
    "        # #         return True\n",
    "        \n",
    "        # #     return self.isValidBST(root.left) and self.isValidBST(root.right)\n",
    "\n",
    "        # return subtreeBST(root)"
   ]
  }
 ],
 "metadata": {
  "kernelspec": {
   "display_name": "Python 3",
   "language": "python",
   "name": "python3"
  },
  "language_info": {
   "codemirror_mode": {
    "name": "ipython",
    "version": 3
   },
   "file_extension": ".py",
   "mimetype": "text/x-python",
   "name": "python",
   "nbconvert_exporter": "python",
   "pygments_lexer": "ipython3",
   "version": "3.8.8"
  }
 },
 "nbformat": 4,
 "nbformat_minor": 5
}
