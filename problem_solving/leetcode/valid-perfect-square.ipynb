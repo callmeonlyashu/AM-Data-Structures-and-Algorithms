{
 "cells": [
  {
   "cell_type": "markdown",
   "id": "5a5e3ff1",
   "metadata": {},
   "source": [
    "Link: https://leetcode.com/problems/valid-perfect-square/"
   ]
  },
  {
   "cell_type": "code",
   "execution_count": null,
   "id": "00339322",
   "metadata": {},
   "outputs": [],
   "source": [
    "class Solution:\n",
    "    def isPerfectSquare(self, num: int) -> bool:\n",
    "        # # Check till num//2 only.\n",
    "\n",
    "        # if num == 1:\n",
    "        #     return True\n",
    "\n",
    "        # for i in range(1, (num//2)+1):\n",
    "        #     cur_sq = i**2\n",
    "        #     if cur_sq == num:\n",
    "        #         return True\n",
    "\n",
    "        #     if cur_sq > num:\n",
    "        #         return False\n",
    "\n",
    "        # return False\n",
    "\n",
    "        l, r = 0, num\n",
    "        mid = (l + r) // 2\n",
    "\n",
    "        while l <= r:\n",
    "\n",
    "            cur_sq = mid ** 2\n",
    "            if cur_sq == num:\n",
    "                return True\n",
    "            \n",
    "            elif cur_sq < num:\n",
    "                l = mid + 1\n",
    "            elif cur_sq > num:\n",
    "                r = mid - 1\n",
    "\n",
    "            mid = (l + r) // 2\n",
    "\n",
    "        return False"
   ]
  }
 ],
 "metadata": {
  "kernelspec": {
   "display_name": "Python 3",
   "language": "python",
   "name": "python3"
  },
  "language_info": {
   "codemirror_mode": {
    "name": "ipython",
    "version": 3
   },
   "file_extension": ".py",
   "mimetype": "text/x-python",
   "name": "python",
   "nbconvert_exporter": "python",
   "pygments_lexer": "ipython3",
   "version": "3.8.8"
  }
 },
 "nbformat": 4,
 "nbformat_minor": 5
}
