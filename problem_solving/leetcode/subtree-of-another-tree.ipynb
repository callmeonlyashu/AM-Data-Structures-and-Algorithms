{
 "cells": [
  {
   "cell_type": "markdown",
   "id": "345e0285",
   "metadata": {},
   "source": [
    "Link: https://leetcode.com/problems/subtree-of-another-tree/"
   ]
  },
  {
   "cell_type": "code",
   "execution_count": null,
   "id": "3e86a741",
   "metadata": {},
   "outputs": [],
   "source": [
    "# Definition for a binary tree node.\n",
    "# class TreeNode:\n",
    "#     def __init__(self, val=0, left=None, right=None):\n",
    "#         self.val = val\n",
    "#         self.left = left\n",
    "#         self.right = right\n",
    "class Solution:\n",
    "    def isSubtree(self, root: Optional[TreeNode], subRoot: Optional[TreeNode]) -> bool:\n",
    "        def check_equal(p, q):\n",
    "            if (not p) and (not q):\n",
    "                return True\n",
    "            if ((not p) and q) or (p and (not q)):\n",
    "                return False\n",
    "\n",
    "            if p.val != q.val:\n",
    "                return False\n",
    "            \n",
    "            return check_equal(p.left, q.left) \\\n",
    "            and check_equal(p.right, q.right)\n",
    "\n",
    "        identical = check_equal(root, subRoot)\n",
    "        if identical:\n",
    "            return True\n",
    "\n",
    "        is_left_subtree = is_right_subtree = False\n",
    "        if root:\n",
    "            is_left_subtree = self.isSubtree(root.left, subRoot)\n",
    "            is_right_subtree = self.isSubtree(root.right, subRoot)\n",
    "\n",
    "        return is_left_subtree or is_right_subtree\n"
   ]
  }
 ],
 "metadata": {
  "kernelspec": {
   "display_name": "Python 3",
   "language": "python",
   "name": "python3"
  },
  "language_info": {
   "codemirror_mode": {
    "name": "ipython",
    "version": 3
   },
   "file_extension": ".py",
   "mimetype": "text/x-python",
   "name": "python",
   "nbconvert_exporter": "python",
   "pygments_lexer": "ipython3",
   "version": "3.8.8"
  }
 },
 "nbformat": 4,
 "nbformat_minor": 5
}
