{
 "cells": [
  {
   "cell_type": "markdown",
   "id": "a9b3fc28",
   "metadata": {},
   "source": [
    "#### https://leetcode.com/problems/sqrtx/"
   ]
  },
  {
   "cell_type": "code",
   "execution_count": 85,
   "id": "396167e8",
   "metadata": {},
   "outputs": [],
   "source": [
    "class Solution:\n",
    "    def mySqrt(self, x: int) -> int:\n",
    "        if x in [0, 1]:\n",
    "            return x\n",
    "        \n",
    "        sqrt = 0\n",
    "        for i in range(0, (x//2)+1):\n",
    "            next_number = i+1\n",
    "            if i**2 <= x < next_number**2:\n",
    "                sqrt = i\n",
    "                break\n",
    "        return sqrt"
   ]
  },
  {
   "cell_type": "code",
   "execution_count": 86,
   "id": "26b4e078",
   "metadata": {},
   "outputs": [
    {
     "name": "stdout",
     "output_type": "stream",
     "text": [
      "result: 1\n"
     ]
    }
   ],
   "source": [
    "s = Solution()\n",
    "print(\"result: {}\".format(s.mySqrt(1)))\n"
   ]
  },
  {
   "cell_type": "code",
   "execution_count": null,
   "id": "e364a65a",
   "metadata": {},
   "outputs": [],
   "source": []
  },
  {
   "cell_type": "code",
   "execution_count": null,
   "id": "5fafb9d7",
   "metadata": {},
   "outputs": [],
   "source": []
  }
 ],
 "metadata": {
  "kernelspec": {
   "display_name": "Python 3",
   "language": "python",
   "name": "python3"
  },
  "language_info": {
   "codemirror_mode": {
    "name": "ipython",
    "version": 3
   },
   "file_extension": ".py",
   "mimetype": "text/x-python",
   "name": "python",
   "nbconvert_exporter": "python",
   "pygments_lexer": "ipython3",
   "version": "3.8.8"
  }
 },
 "nbformat": 4,
 "nbformat_minor": 5
}
