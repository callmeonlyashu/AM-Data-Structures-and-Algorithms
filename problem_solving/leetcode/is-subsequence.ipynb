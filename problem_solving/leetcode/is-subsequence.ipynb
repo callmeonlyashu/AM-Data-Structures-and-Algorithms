{
 "cells": [
  {
   "cell_type": "markdown",
   "id": "c556dd26",
   "metadata": {},
   "source": [
    "Link: https://leetcode.com/problems/is-subsequence/"
   ]
  },
  {
   "cell_type": "code",
   "execution_count": null,
   "id": "277ff8c1",
   "metadata": {},
   "outputs": [],
   "source": [
    "class Solution:\n",
    "    def isSubsequence(self, s: str, t: str) -> bool:\n",
    "        i = 0\n",
    "        j = 0\n",
    "\n",
    "        if not len(s):\n",
    "            return True\n",
    "        \n",
    "        if not len(t):\n",
    "            return False\n",
    "\n",
    "        while j < len(t):\n",
    "            if i == len(s):\n",
    "                break\n",
    "\n",
    "            if s[i] == t[j]:\n",
    "                i += 1\n",
    "                j += 1\n",
    "            else:\n",
    "                j += 1\n",
    "\n",
    "        if i == len(s):\n",
    "            return True\n",
    "        else:\n",
    "            return False"
   ]
  }
 ],
 "metadata": {
  "kernelspec": {
   "display_name": "Python 3",
   "language": "python",
   "name": "python3"
  },
  "language_info": {
   "codemirror_mode": {
    "name": "ipython",
    "version": 3
   },
   "file_extension": ".py",
   "mimetype": "text/x-python",
   "name": "python",
   "nbconvert_exporter": "python",
   "pygments_lexer": "ipython3",
   "version": "3.8.8"
  }
 },
 "nbformat": 4,
 "nbformat_minor": 5
}
