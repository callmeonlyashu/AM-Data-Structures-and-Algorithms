{
 "cells": [
  {
   "cell_type": "markdown",
   "id": "691516a8",
   "metadata": {},
   "source": [
    "Link: https://leetcode.com/problems/number-of-1-bits/description/"
   ]
  },
  {
   "cell_type": "code",
   "execution_count": null,
   "id": "afe77a1f",
   "metadata": {},
   "outputs": [],
   "source": [
    "class Solution:\n",
    "    def hammingWeight(self, n: int) -> int:\n",
    "        # hweight = 0\n",
    "        # while n > 0:\n",
    "        #     print(f\"n: {n}\")\n",
    "        #     rem = n % 2\n",
    "        #     n = n // 2\n",
    "\n",
    "        #     if rem == 1:\n",
    "        #         hweight += 1\n",
    "        \n",
    "        # return hweight\n",
    "\n",
    "        hweight = 0\n",
    "        while n > 0:\n",
    "            hweight += n % 2\n",
    "            n = n >> 1\n",
    "        return hweight\n",
    "        \n",
    "\n",
    "\n"
   ]
  }
 ],
 "metadata": {
  "kernelspec": {
   "display_name": "Python 3",
   "language": "python",
   "name": "python3"
  },
  "language_info": {
   "codemirror_mode": {
    "name": "ipython",
    "version": 3
   },
   "file_extension": ".py",
   "mimetype": "text/x-python",
   "name": "python",
   "nbconvert_exporter": "python",
   "pygments_lexer": "ipython3",
   "version": "3.8.8"
  }
 },
 "nbformat": 4,
 "nbformat_minor": 5
}
