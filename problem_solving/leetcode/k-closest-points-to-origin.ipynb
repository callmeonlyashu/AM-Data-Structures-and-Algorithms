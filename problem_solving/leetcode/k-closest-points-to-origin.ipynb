{
 "cells": [
  {
   "cell_type": "markdown",
   "id": "51db901e",
   "metadata": {},
   "source": [
    "Link: https://leetcode.com/problems/k-closest-points-to-origin"
   ]
  },
  {
   "cell_type": "code",
   "execution_count": 2,
   "id": "584a0b2b",
   "metadata": {},
   "outputs": [],
   "source": [
    "from typing import List\n",
    "import heapq\n",
    "\n",
    "\n",
    "class Solution:\n",
    "    def kClosest(self, points: List[List[int]], k: int) -> List[List[int]]:\n",
    "\n",
    "        distances = []\n",
    "        for n in points:\n",
    "            # √(x1 - x2)2 + (y1 - y2)2 will become (x2)2 + (y2)2 as x1, y1 is origin\n",
    "            curr_distance = math.sqrt((n[1] ** 2) + (n[0] ** 2))\n",
    "            heapq.heappush(distances, (curr_distance, n))\n",
    "\n",
    "        res = []\n",
    "        for _ in range(k):\n",
    "            dist, pnt = heapq.heappop(distances)\n",
    "            # print(\"distances, dist, pnt \", distances, dist, pnt)\n",
    "            if len(res) < k:\n",
    "                res.append(pnt)\n",
    "\n",
    "        return res"
   ]
  },
  {
   "cell_type": "code",
   "execution_count": null,
   "id": "23353913",
   "metadata": {},
   "outputs": [],
   "source": []
  }
 ],
 "metadata": {
  "kernelspec": {
   "display_name": "Python 3",
   "language": "python",
   "name": "python3"
  },
  "language_info": {
   "codemirror_mode": {
    "name": "ipython",
    "version": 3
   },
   "file_extension": ".py",
   "mimetype": "text/x-python",
   "name": "python",
   "nbconvert_exporter": "python",
   "pygments_lexer": "ipython3",
   "version": "3.8.8"
  }
 },
 "nbformat": 4,
 "nbformat_minor": 5
}
