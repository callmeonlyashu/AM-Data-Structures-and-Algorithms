{
 "cells": [
  {
   "cell_type": "markdown",
   "id": "fb446e79",
   "metadata": {},
   "source": [
    "Link: https://leetcode.com/problems/last-stone-weight/"
   ]
  },
  {
   "cell_type": "code",
   "execution_count": 1,
   "id": "20fcc9b5",
   "metadata": {},
   "outputs": [],
   "source": [
    "from typing import List\n",
    "\n",
    "class Solution:\n",
    "    def lastStoneWeight(self, stones: List[int]) -> int:\n",
    "        i = 0\n",
    "        j = 1\n",
    "\n",
    "        if len(stones) == 1:\n",
    "            return stones[0]\n",
    "        if not stones:\n",
    "            return 0\n",
    "\n",
    "        curr_weight = 0\n",
    "        while j < len(stones):\n",
    "            stones.sort()\n",
    "            curr_weight = stones.pop() - stones.pop()\n",
    "            if curr_weight != 0:\n",
    "                stones.append(curr_weight)\n",
    "\n",
    "            # print(f\"stones, curr_weight, \",stones, curr_weight)\n",
    "        \n",
    "        return stones[0] if stones else 0\n",
    "            \n"
   ]
  },
  {
   "cell_type": "code",
   "execution_count": null,
   "id": "9daff408",
   "metadata": {},
   "outputs": [],
   "source": []
  }
 ],
 "metadata": {
  "kernelspec": {
   "display_name": "Python 3",
   "language": "python",
   "name": "python3"
  },
  "language_info": {
   "codemirror_mode": {
    "name": "ipython",
    "version": 3
   },
   "file_extension": ".py",
   "mimetype": "text/x-python",
   "name": "python",
   "nbconvert_exporter": "python",
   "pygments_lexer": "ipython3",
   "version": "3.8.8"
  }
 },
 "nbformat": 4,
 "nbformat_minor": 5
}
