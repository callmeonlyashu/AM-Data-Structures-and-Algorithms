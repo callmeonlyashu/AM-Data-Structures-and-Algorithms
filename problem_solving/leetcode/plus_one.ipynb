{
 "cells": [
  {
   "cell_type": "markdown",
   "id": "88259642",
   "metadata": {},
   "source": [
    "## https://leetcode.com/problems/plus-one/"
   ]
  },
  {
   "cell_type": "code",
   "execution_count": 22,
   "id": "b403b49a",
   "metadata": {},
   "outputs": [],
   "source": [
    "class Solution:\n",
    "    def plusOne(self, digits):\n",
    "        actual_number = self.actual_number(digits)\n",
    "        new_number = actual_number + 1\n",
    "        \n",
    "        result = self.split_to_digits(new_number)\n",
    "            \n",
    "        return result\n",
    "        \n",
    "    def actual_number(self, digits):\n",
    "        number = 0\n",
    "        length = len(digits) - 1\n",
    "        for d in digits:\n",
    "            number += d*(10**(length))\n",
    "            length -= 1\n",
    "        return number\n",
    "    \n",
    "    def split_to_digits(self, actual_number):\n",
    "        number = []\n",
    "        while actual_number > 0:\n",
    "            number.append(actual_number % 10)\n",
    "            actual_number = actual_number // 10\n",
    "            \n",
    "        return number[::-1]"
   ]
  },
  {
   "cell_type": "code",
   "execution_count": 23,
   "id": "d68b0f8a",
   "metadata": {},
   "outputs": [
    {
     "name": "stdout",
     "output_type": "stream",
     "text": [
      "[1, 2, 4]\n"
     ]
    },
    {
     "data": {
      "text/plain": [
       "[]"
      ]
     },
     "execution_count": 23,
     "metadata": {},
     "output_type": "execute_result"
    }
   ],
   "source": [
    "digits = [1,2,3]\n",
    "s = Solution()\n",
    "s.plusOne(digits)"
   ]
  },
  {
   "cell_type": "code",
   "execution_count": null,
   "id": "3fb6abc3",
   "metadata": {},
   "outputs": [],
   "source": []
  }
 ],
 "metadata": {
  "kernelspec": {
   "display_name": "Python 3",
   "language": "python",
   "name": "python3"
  },
  "language_info": {
   "codemirror_mode": {
    "name": "ipython",
    "version": 3
   },
   "file_extension": ".py",
   "mimetype": "text/x-python",
   "name": "python",
   "nbconvert_exporter": "python",
   "pygments_lexer": "ipython3",
   "version": "3.8.8"
  }
 },
 "nbformat": 4,
 "nbformat_minor": 5
}
