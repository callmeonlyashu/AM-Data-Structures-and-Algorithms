{
 "cells": [
  {
   "cell_type": "markdown",
   "id": "7f347fef",
   "metadata": {},
   "source": [
    "Link: https://leetcode.com/problems/top-k-frequent-elements/description/"
   ]
  },
  {
   "cell_type": "code",
   "execution_count": 11,
   "id": "54063c81",
   "metadata": {},
   "outputs": [],
   "source": [
    "from typing import List\n",
    "from collections import Counter\n",
    "\n",
    "class Solution:\n",
    "    def topKFrequent(self, nums: List[int], k: int) -> List[int]:\n",
    "        # Approach one: Use Counter from collections\n",
    "        elemt_counter = Counter(nums)\n",
    "        sorted_dict = {k: v for k, v in sorted(elemt_counter.items(), key=lambda item: item[1], reverse=True)}\n",
    "        \n",
    "        res = list(sorted_dict.keys())[:k]\n",
    "        return res\n",
    "\n",
    "        # Second approach is first create your own dictionary\n",
    "        # like in Counter and then repeat other steps\n",
    "            \n",
    "            "
   ]
  },
  {
   "cell_type": "code",
   "execution_count": 12,
   "id": "9eec9e8f",
   "metadata": {},
   "outputs": [
    {
     "name": "stdout",
     "output_type": "stream",
     "text": [
      "Counter({1: 3, 2: 2, 3: 1})\n",
      "{1: 3, 2: 2, 3: 1}\n"
     ]
    },
    {
     "data": {
      "text/plain": [
       "[1, 2]"
      ]
     },
     "execution_count": 12,
     "metadata": {},
     "output_type": "execute_result"
    }
   ],
   "source": [
    "s = Solution()\n",
    "s.topKFrequent(nums=[1,1,1,2,2,3], k=2)"
   ]
  },
  {
   "cell_type": "code",
   "execution_count": null,
   "id": "7b188a3b",
   "metadata": {},
   "outputs": [],
   "source": []
  }
 ],
 "metadata": {
  "kernelspec": {
   "display_name": "Python 3",
   "language": "python",
   "name": "python3"
  },
  "language_info": {
   "codemirror_mode": {
    "name": "ipython",
    "version": 3
   },
   "file_extension": ".py",
   "mimetype": "text/x-python",
   "name": "python",
   "nbconvert_exporter": "python",
   "pygments_lexer": "ipython3",
   "version": "3.8.8"
  }
 },
 "nbformat": 4,
 "nbformat_minor": 5
}
