{
 "cells": [
  {
   "cell_type": "markdown",
   "id": "59c0400a",
   "metadata": {},
   "source": [
    "Link: https://leetcode.com/problems/maximum-69-number/"
   ]
  },
  {
   "cell_type": "code",
   "execution_count": 1,
   "id": "d0b1f830",
   "metadata": {},
   "outputs": [],
   "source": [
    "class Solution:\n",
    "    def maximum69Number (self, num: int) -> int:\n",
    "        digits_arranged = list(str(num))\n",
    "        # digits_arranged = [int(n for n in st_nums]\n",
    "        # digits_arranged.sort(reverse=True)\n",
    "\n",
    "        # print(\"digits_arranged\", digits_arranged)\n",
    "\n",
    "        for i in range(len(digits_arranged)):\n",
    "            if digits_arranged[i] == \"6\":\n",
    "                digits_arranged[i] = \"9\"\n",
    "                break\n",
    "\n",
    "        # print(\"digits updated\", digits_arranged)\n",
    "        new_num = \"\".join(digits_arranged)\n",
    "        return int(new_num)\n",
    "\n",
    "\n",
    "\n"
   ]
  },
  {
   "cell_type": "code",
   "execution_count": null,
   "id": "9f0a0cbb",
   "metadata": {},
   "outputs": [],
   "source": []
  }
 ],
 "metadata": {
  "kernelspec": {
   "display_name": "Python 3",
   "language": "python",
   "name": "python3"
  },
  "language_info": {
   "codemirror_mode": {
    "name": "ipython",
    "version": 3
   },
   "file_extension": ".py",
   "mimetype": "text/x-python",
   "name": "python",
   "nbconvert_exporter": "python",
   "pygments_lexer": "ipython3",
   "version": "3.8.8"
  }
 },
 "nbformat": 4,
 "nbformat_minor": 5
}
