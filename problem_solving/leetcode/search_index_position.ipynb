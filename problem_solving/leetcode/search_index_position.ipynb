{
 "cells": [
  {
   "cell_type": "markdown",
   "id": "180aab9a",
   "metadata": {},
   "source": [
    "### https://leetcode.com/problems/search-insert-position/"
   ]
  },
  {
   "cell_type": "code",
   "execution_count": 11,
   "id": "62892fbc",
   "metadata": {},
   "outputs": [],
   "source": [
    "class Solution:\n",
    "    def searchInsert(self, nums, target):\n",
    "        return self.binary_search_insert(nums, target, 0, len(nums)-1)\n",
    "        \n",
    "    def binary_search_insert(self, nums, target, left_index, right_index):\n",
    "        if left_index > right_index:\n",
    "            return left_index\n",
    "        \n",
    "        middle_index = (left_index+right_index)//2\n",
    "        \n",
    "        if nums[middle_index] == target:\n",
    "            return middle_index\n",
    "                \n",
    "        elif nums[middle_index] > target:\n",
    "            # To search the left of array (if target is smaller than middle index)\n",
    "            return self.binary_search_insert(nums, target, left_index, middle_index-1)\n",
    "        else:\n",
    "            # To search the right of array (if target is larger than middle index)\n",
    "            return self.binary_search_insert(nums, target, middle_index + 1, right_index)"
   ]
  },
  {
   "cell_type": "code",
   "execution_count": 12,
   "id": "f82b77b8",
   "metadata": {},
   "outputs": [
    {
     "name": "stdout",
     "output_type": "stream",
     "text": [
      "2\n",
      "--------------------\n",
      "1\n",
      "--------------------\n",
      "4\n"
     ]
    }
   ],
   "source": [
    "nums = [1,3,5,6] \n",
    "target = 5\n",
    "sol = Solution()\n",
    "index = sol.searchInsert(nums, target)\n",
    "print(index)\n",
    "\n",
    "print(\"--------------------\")\n",
    "arr = [1, 3, 5, 6]\n",
    "target = 2\n",
    "sol = Solution()\n",
    "index = sol.searchInsert(arr, target)\n",
    "print(index)\n",
    "\n",
    "\n",
    "print(\"--------------------\")\n",
    "arr = [1, 3, 5, 6]\n",
    "target = 7\n",
    "sol = Solution()\n",
    "index = sol.searchInsert(arr, target)\n",
    "print(index)"
   ]
  },
  {
   "cell_type": "code",
   "execution_count": null,
   "id": "c88eba47",
   "metadata": {},
   "outputs": [],
   "source": []
  },
  {
   "cell_type": "code",
   "execution_count": null,
   "id": "a1e71592",
   "metadata": {},
   "outputs": [],
   "source": []
  }
 ],
 "metadata": {
  "kernelspec": {
   "display_name": "Python 3",
   "language": "python",
   "name": "python3"
  },
  "language_info": {
   "codemirror_mode": {
    "name": "ipython",
    "version": 3
   },
   "file_extension": ".py",
   "mimetype": "text/x-python",
   "name": "python",
   "nbconvert_exporter": "python",
   "pygments_lexer": "ipython3",
   "version": "3.8.8"
  }
 },
 "nbformat": 4,
 "nbformat_minor": 5
}
