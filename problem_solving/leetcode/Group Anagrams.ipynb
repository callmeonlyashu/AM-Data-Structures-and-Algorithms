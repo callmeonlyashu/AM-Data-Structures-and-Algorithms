{
 "cells": [
  {
   "cell_type": "markdown",
   "id": "d175881c",
   "metadata": {},
   "source": [
    "Link: https://leetcode.com/problems/group-anagrams/"
   ]
  },
  {
   "cell_type": "code",
   "execution_count": 15,
   "id": "f79bc7a3",
   "metadata": {},
   "outputs": [],
   "source": [
    "from typing import List\n",
    "class Solution:\n",
    "    def groupAnagrams(self, strs: List[str]) -> List[List[str]]:\n",
    "        grouped_dict = {}\n",
    "        for i in range(len(strs)):\n",
    "            # Sort the str to compare easily like \"eat\" becomes \"aet\", so it will help comparing Anagrams\n",
    "            sorted_str_list = list(strs[i])\n",
    "            sorted_str_list.sort()\n",
    "            sorted_str = ''.join(sorted_str_list)\n",
    "            \n",
    "            # If str exists, then create new key in dict otherwise append it\n",
    "            if sorted_str in grouped_dict:\n",
    "                grouped_dict[sorted_str].append(strs[i])\n",
    "            else:\n",
    "                grouped_dict[sorted_str] = [strs[i]]\n",
    "        \n",
    "        grp_anagrams = grouped_dict.values()\n",
    "        return list(grp_anagrams)"
   ]
  },
  {
   "cell_type": "code",
   "execution_count": 16,
   "id": "35c8924d",
   "metadata": {},
   "outputs": [
    {
     "data": {
      "text/plain": [
       "[['eat', 'tea', 'ate'], ['tan', 'nat'], ['bat']]"
      ]
     },
     "execution_count": 16,
     "metadata": {},
     "output_type": "execute_result"
    }
   ],
   "source": [
    "s = Solution()\n",
    "s.groupAnagrams([\"eat\",\"tea\",\"tan\",\"ate\",\"nat\",\"bat\"])"
   ]
  },
  {
   "cell_type": "code",
   "execution_count": null,
   "id": "8dc62688",
   "metadata": {},
   "outputs": [],
   "source": []
  }
 ],
 "metadata": {
  "kernelspec": {
   "display_name": "Python 3",
   "language": "python",
   "name": "python3"
  },
  "language_info": {
   "codemirror_mode": {
    "name": "ipython",
    "version": 3
   },
   "file_extension": ".py",
   "mimetype": "text/x-python",
   "name": "python",
   "nbconvert_exporter": "python",
   "pygments_lexer": "ipython3",
   "version": "3.8.8"
  }
 },
 "nbformat": 4,
 "nbformat_minor": 5
}
