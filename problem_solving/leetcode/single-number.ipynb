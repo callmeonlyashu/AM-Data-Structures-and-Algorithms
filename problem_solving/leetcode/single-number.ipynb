{
 "cells": [
  {
   "cell_type": "markdown",
   "id": "056c7417",
   "metadata": {},
   "source": [
    "Link: https://leetcode.com/problems/single-number/"
   ]
  },
  {
   "cell_type": "code",
   "execution_count": 1,
   "id": "68bab3da",
   "metadata": {},
   "outputs": [],
   "source": [
    "from typing import List\n",
    "class Solution:\n",
    "    def singleNumber(self, nums: List[int]) -> int:\n",
    "        xor = 0\n",
    "        for n in nums:\n",
    "            xor ^= n\n",
    "        \n",
    "        return xor"
   ]
  },
  {
   "cell_type": "code",
   "execution_count": null,
   "id": "7cdd6dcd",
   "metadata": {},
   "outputs": [],
   "source": []
  }
 ],
 "metadata": {
  "kernelspec": {
   "display_name": "Python 3",
   "language": "python",
   "name": "python3"
  },
  "language_info": {
   "codemirror_mode": {
    "name": "ipython",
    "version": 3
   },
   "file_extension": ".py",
   "mimetype": "text/x-python",
   "name": "python",
   "nbconvert_exporter": "python",
   "pygments_lexer": "ipython3",
   "version": "3.8.8"
  }
 },
 "nbformat": 4,
 "nbformat_minor": 5
}
