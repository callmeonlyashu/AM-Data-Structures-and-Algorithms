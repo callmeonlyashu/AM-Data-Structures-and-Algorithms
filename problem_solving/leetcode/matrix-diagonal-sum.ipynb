{
 "cells": [
  {
   "cell_type": "markdown",
   "id": "352a7b14",
   "metadata": {},
   "source": [
    "Link: https://leetcode.com/problems/matrix-diagonal-sum/"
   ]
  },
  {
   "cell_type": "code",
   "execution_count": null,
   "id": "9f55e19e",
   "metadata": {},
   "outputs": [],
   "source": [
    "from typing import List\n",
    "\n",
    "class Solution:\n",
    "    def diagonalSum(self, mat: List[List[int]]) -> int:\n",
    "        res = 0\n",
    "        i = 0\n",
    "        j = 0\n",
    "        while i < len(mat):\n",
    "            res += mat[i][j]\n",
    "            i +=1\n",
    "            j +=1\n",
    "        \n",
    "        i = 0\n",
    "        j = len(mat)-1\n",
    "        while j >= 0:\n",
    "            if i != j:\n",
    "                res += mat[i][j]\n",
    "            i +=1\n",
    "            j -=1\n",
    "\n",
    "        return res\n"
   ]
  }
 ],
 "metadata": {
  "kernelspec": {
   "display_name": "Python 3",
   "language": "python",
   "name": "python3"
  },
  "language_info": {
   "codemirror_mode": {
    "name": "ipython",
    "version": 3
   },
   "file_extension": ".py",
   "mimetype": "text/x-python",
   "name": "python",
   "nbconvert_exporter": "python",
   "pygments_lexer": "ipython3",
   "version": "3.8.8"
  }
 },
 "nbformat": 4,
 "nbformat_minor": 5
}
