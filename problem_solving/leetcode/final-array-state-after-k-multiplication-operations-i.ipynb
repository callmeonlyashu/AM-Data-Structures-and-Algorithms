{
 "cells": [
  {
   "cell_type": "markdown",
   "id": "1ce7521b",
   "metadata": {},
   "source": [
    "Link: https://leetcode.com/problems/final-array-state-after-k-multiplication-operations-i/submissions/1802316299/"
   ]
  },
  {
   "cell_type": "code",
   "execution_count": 1,
   "id": "084c7ea6",
   "metadata": {},
   "outputs": [],
   "source": [
    "import heapq\n",
    "from typing import List\n",
    "\n",
    "class Solution:\n",
    "    def getFinalState(self, nums: List[int], k: int, multiplier: int) -> List[int]:\n",
    "        new_nums = [(n, idx) for idx, n in enumerate(nums)]\n",
    "        heapq.heapify(new_nums)\n",
    "\n",
    "        res = []\n",
    "        for _ in range(k):\n",
    "            min_element, idx = heapq.heappop(new_nums)\n",
    "            heapq.heappush(new_nums, (min_element*multiplier, idx))\n",
    "        \n",
    "        res = [0] * len(nums)\n",
    "        for i, j in new_nums:\n",
    "            res[j] = i\n",
    "        \n",
    "        return res"
   ]
  },
  {
   "cell_type": "code",
   "execution_count": null,
   "id": "7f94d4b9",
   "metadata": {},
   "outputs": [],
   "source": []
  }
 ],
 "metadata": {
  "kernelspec": {
   "display_name": "Python 3",
   "language": "python",
   "name": "python3"
  },
  "language_info": {
   "codemirror_mode": {
    "name": "ipython",
    "version": 3
   },
   "file_extension": ".py",
   "mimetype": "text/x-python",
   "name": "python",
   "nbconvert_exporter": "python",
   "pygments_lexer": "ipython3",
   "version": "3.8.8"
  }
 },
 "nbformat": 4,
 "nbformat_minor": 5
}
