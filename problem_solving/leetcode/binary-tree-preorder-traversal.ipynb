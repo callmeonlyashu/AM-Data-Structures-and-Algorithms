{
 "cells": [
  {
   "cell_type": "markdown",
   "id": "f7f5810f",
   "metadata": {},
   "source": [
    "Link: https://leetcode.com/problems/binary-tree-preorder-traversal/"
   ]
  },
  {
   "cell_type": "code",
   "execution_count": 2,
   "id": "369a9d8e",
   "metadata": {},
   "outputs": [],
   "source": [
    "from typing import List, Optional\n",
    "# Definition for a binary tree node.\n",
    "class TreeNode:\n",
    "    def __init__(self, val=0, left=None, right=None):\n",
    "        self.val = val\n",
    "        self.left = left\n",
    "        self.right = right\n",
    "class Solution:\n",
    "    def preorderTraversal(self, root: Optional[TreeNode]) -> List[int]:\n",
    "        # Definition for a binary tree node.\n",
    "            res = []\n",
    "            def preorder(node):\n",
    "                if not node:\n",
    "                    return\n",
    "                \n",
    "                res.append(node.val)\n",
    "                preorder(node.left)\n",
    "                preorder(node.right)\n",
    "\n",
    "            preorder(root)\n",
    "            return res\n",
    "        "
   ]
  },
  {
   "cell_type": "code",
   "execution_count": null,
   "id": "94e51b46",
   "metadata": {},
   "outputs": [],
   "source": []
  }
 ],
 "metadata": {
  "kernelspec": {
   "display_name": "Python 3",
   "language": "python",
   "name": "python3"
  },
  "language_info": {
   "codemirror_mode": {
    "name": "ipython",
    "version": 3
   },
   "file_extension": ".py",
   "mimetype": "text/x-python",
   "name": "python",
   "nbconvert_exporter": "python",
   "pygments_lexer": "ipython3",
   "version": "3.8.8"
  }
 },
 "nbformat": 4,
 "nbformat_minor": 5
}
