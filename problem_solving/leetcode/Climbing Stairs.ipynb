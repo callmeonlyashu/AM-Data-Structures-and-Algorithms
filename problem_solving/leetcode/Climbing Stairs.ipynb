{
 "cells": [
  {
   "cell_type": "markdown",
   "id": "05e00f3b",
   "metadata": {},
   "source": [
    "#### https://leetcode.com/problems/climbing-stairs/"
   ]
  },
  {
   "cell_type": "code",
   "execution_count": 15,
   "id": "8c5a3774",
   "metadata": {},
   "outputs": [],
   "source": [
    "class Solution:        \n",
    "    def __init__(self):\n",
    "        self.cache = {}\n",
    "    def climbStairs(self, n: int) -> int:\n",
    "        if n in self.cache:\n",
    "            return self.cache[n]\n",
    "        else:\n",
    "            if n <= 3:\n",
    "                return n\n",
    "            else:\n",
    "                res = self.climbStairs(n-1) + self.climbStairs(n - 2)\n",
    "                self.cache[n] = res\n",
    "                return res"
   ]
  },
  {
   "cell_type": "code",
   "execution_count": 16,
   "id": "2e64ae01",
   "metadata": {},
   "outputs": [
    {
     "name": "stdout",
     "output_type": "stream",
     "text": [
      "1134903170\n"
     ]
    }
   ],
   "source": [
    "s = Solution().climbStairs(44)\n",
    "print(s)"
   ]
  },
  {
   "cell_type": "code",
   "execution_count": null,
   "id": "c6e1df7f",
   "metadata": {},
   "outputs": [],
   "source": []
  }
 ],
 "metadata": {
  "kernelspec": {
   "display_name": "Python 3",
   "language": "python",
   "name": "python3"
  },
  "language_info": {
   "codemirror_mode": {
    "name": "ipython",
    "version": 3
   },
   "file_extension": ".py",
   "mimetype": "text/x-python",
   "name": "python",
   "nbconvert_exporter": "python",
   "pygments_lexer": "ipython3",
   "version": "3.8.8"
  }
 },
 "nbformat": 4,
 "nbformat_minor": 5
}
