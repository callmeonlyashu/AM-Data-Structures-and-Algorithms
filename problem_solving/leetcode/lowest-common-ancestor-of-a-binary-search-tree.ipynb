{
 "cells": [
  {
   "cell_type": "markdown",
   "id": "2e6f1c33",
   "metadata": {},
   "source": [
    "Link: https://leetcode.com/problems/lowest-common-ancestor-of-a-binary-search-tree/"
   ]
  },
  {
   "cell_type": "code",
   "execution_count": null,
   "id": "850f7a2a",
   "metadata": {},
   "outputs": [],
   "source": [
    "# Definition for a binary tree node.\n",
    "# class TreeNode:\n",
    "#     def __init__(self, x):\n",
    "#         self.val = x\n",
    "#         self.left = None\n",
    "#         self.right = None\n",
    "\n",
    "class Solution:\n",
    "    def lowestCommonAncestor(self, root: 'TreeNode', p: 'TreeNode', q: 'TreeNode') -> 'TreeNode':            \n",
    "        if root.val == p.val or root.val == q.val:\n",
    "            return root\n",
    "\n",
    "        if (p.val < root.val) and (q.val < root.val):\n",
    "            # If both are smaller than root, search left\n",
    "            return self.lowestCommonAncestor(root.left, p, q)\n",
    "\n",
    "        elif (p.val > root.val) and (q.val > root.val):\n",
    "            # If both are greater than root, search right\n",
    "            return self.lowestCommonAncestor(root.right, p, q)\n",
    "        \n",
    "        else:\n",
    "            # If root falls between p and q, split occurs\n",
    "            return root\n",
    "\n",
    "        # curr = root\n",
    "\n",
    "        # while curr:\n",
    "        #     if p.val < curr.val and q.val < curr.val:\n",
    "        #         curr = curr.left\n",
    "        #     elif p.val > curr.val and q.val > curr.val:\n",
    "        #         curr = curr.right\n",
    "        #     else: \n",
    "        #         return curr\n",
    "\n",
    "        # return curr"
   ]
  }
 ],
 "metadata": {
  "kernelspec": {
   "display_name": "Python 3",
   "language": "python",
   "name": "python3"
  },
  "language_info": {
   "codemirror_mode": {
    "name": "ipython",
    "version": 3
   },
   "file_extension": ".py",
   "mimetype": "text/x-python",
   "name": "python",
   "nbconvert_exporter": "python",
   "pygments_lexer": "ipython3",
   "version": "3.8.8"
  }
 },
 "nbformat": 4,
 "nbformat_minor": 5
}
