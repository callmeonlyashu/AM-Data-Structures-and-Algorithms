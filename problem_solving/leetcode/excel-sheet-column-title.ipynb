{
 "cells": [
  {
   "cell_type": "markdown",
   "id": "ce8884ac",
   "metadata": {},
   "source": [
    "Link: https://leetcode.com/problems/excel-sheet-column-title/"
   ]
  },
  {
   "cell_type": "code",
   "execution_count": null,
   "id": "8372bca9",
   "metadata": {},
   "outputs": [],
   "source": [
    "class Solution:\n",
    "    def convertToTitle(self, columnNumber: int) -> str:\n",
    "        res = \"\"\n",
    "\n",
    "        while columnNumber != 0:\n",
    "            columnNumber -= 1\n",
    "            offset = columnNumber % 26\n",
    "            res += chr(ord('A') + offset)\n",
    "            columnNumber = columnNumber // 26\n",
    "\n",
    "        return res[::-1]"
   ]
  }
 ],
 "metadata": {
  "kernelspec": {
   "display_name": "Python 3",
   "language": "python",
   "name": "python3"
  },
  "language_info": {
   "codemirror_mode": {
    "name": "ipython",
    "version": 3
   },
   "file_extension": ".py",
   "mimetype": "text/x-python",
   "name": "python",
   "nbconvert_exporter": "python",
   "pygments_lexer": "ipython3",
   "version": "3.8.8"
  }
 },
 "nbformat": 4,
 "nbformat_minor": 5
}
