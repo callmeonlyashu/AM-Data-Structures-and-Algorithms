{
 "cells": [
  {
   "cell_type": "markdown",
   "id": "15a80d67",
   "metadata": {},
   "source": [
    "Link: https://leetcode.com/problems/append-characters-to-string-to-make-subsequence/"
   ]
  },
  {
   "cell_type": "code",
   "execution_count": 1,
   "id": "591612ff",
   "metadata": {},
   "outputs": [],
   "source": [
    "class Solution:\n",
    "    def appendCharacters(self, s: str, t: str) -> int:\n",
    "        i = 0\n",
    "        j = 0\n",
    "\n",
    "        while i < len(s) and j < len(t):\n",
    "            if s[i] == t[j]:\n",
    "                j += 1\n",
    "\n",
    "            i += 1\n",
    "\n",
    "        return (len(t) - j)"
   ]
  },
  {
   "cell_type": "code",
   "execution_count": null,
   "id": "6408ccbf",
   "metadata": {},
   "outputs": [],
   "source": []
  }
 ],
 "metadata": {
  "kernelspec": {
   "display_name": "Python 3",
   "language": "python",
   "name": "python3"
  },
  "language_info": {
   "codemirror_mode": {
    "name": "ipython",
    "version": 3
   },
   "file_extension": ".py",
   "mimetype": "text/x-python",
   "name": "python",
   "nbconvert_exporter": "python",
   "pygments_lexer": "ipython3",
   "version": "3.8.8"
  }
 },
 "nbformat": 4,
 "nbformat_minor": 5
}
