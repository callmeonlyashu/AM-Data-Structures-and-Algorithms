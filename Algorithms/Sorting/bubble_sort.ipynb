{
 "cells": [
  {
   "cell_type": "markdown",
   "id": "e9084d9a",
   "metadata": {},
   "source": [
    "## Bubble Sort"
   ]
  },
  {
   "cell_type": "code",
   "execution_count": 19,
   "id": "debfaa65",
   "metadata": {},
   "outputs": [],
   "source": [
    "def bubble_sort(unsorted):\n",
    "    length = len(unsorted)\n",
    "    for first in range(length):\n",
    "        for second in range(length-first-1):\n",
    "            if unsorted[second+1] < unsorted[second]:\n",
    "                unsorted[second+1], unsorted[second] = unsorted[second], unsorted[second+1]\n",
    "    \n",
    "    return unsorted"
   ]
  },
  {
   "cell_type": "code",
   "execution_count": 20,
   "id": "0309aa14",
   "metadata": {},
   "outputs": [
    {
     "data": {
      "text/plain": [
       "[1, 2, 4, 5, 8]"
      ]
     },
     "execution_count": 20,
     "metadata": {},
     "output_type": "execute_result"
    }
   ],
   "source": [
    "bubble_sort([5,1,4,2,8])"
   ]
  },
  {
   "cell_type": "code",
   "execution_count": null,
   "id": "dc8cce9b",
   "metadata": {},
   "outputs": [],
   "source": []
  }
 ],
 "metadata": {
  "kernelspec": {
   "display_name": "Python 3",
   "language": "python",
   "name": "python3"
  },
  "language_info": {
   "codemirror_mode": {
    "name": "ipython",
    "version": 3
   },
   "file_extension": ".py",
   "mimetype": "text/x-python",
   "name": "python",
   "nbconvert_exporter": "python",
   "pygments_lexer": "ipython3",
   "version": "3.8.8"
  }
 },
 "nbformat": 4,
 "nbformat_minor": 5
}
