{
 "cells": [
  {
   "cell_type": "code",
   "execution_count": 28,
   "id": "5771ddf5",
   "metadata": {},
   "outputs": [
    {
     "name": "stdout",
     "output_type": "stream",
     "text": [
      "{2: 1, 5: 1, 1: 1, 4: 2, 3: 1, 7: 1, 10: 1}\n",
      "4\n"
     ]
    }
   ],
   "source": [
    "lst = [2,5,1,4,3,7,10, 4, 1, 3, 1, 1]\n",
    "\n",
    "repeat = {}\n",
    "count = 1\n",
    "for e in lst:\n",
    "    if e in repeat.keys():\n",
    "        count = repeat[e] + 1\n",
    "        repeat[e] = count\n",
    "        firstchar = e\n",
    "        break\n",
    "    else:\n",
    "        repeat[e] = 1\n",
    "        \n",
    "        \n",
    "print(repeat)\n",
    "print(firstchar)\n",
    "        "
   ]
  },
  {
   "cell_type": "code",
   "execution_count": null,
   "id": "ff50e6b7",
   "metadata": {},
   "outputs": [],
   "source": []
  }
 ],
 "metadata": {
  "kernelspec": {
   "display_name": "Python 3",
   "language": "python",
   "name": "python3"
  },
  "language_info": {
   "codemirror_mode": {
    "name": "ipython",
    "version": 3
   },
   "file_extension": ".py",
   "mimetype": "text/x-python",
   "name": "python",
   "nbconvert_exporter": "python",
   "pygments_lexer": "ipython3",
   "version": "3.8.8"
  }
 },
 "nbformat": 4,
 "nbformat_minor": 5
}
