{
 "cells": [
  {
   "cell_type": "markdown",
   "id": "07f430d7",
   "metadata": {},
   "source": [
    "# Binary Search with recursion"
   ]
  },
  {
   "cell_type": "code",
   "execution_count": 80,
   "id": "d32376a3",
   "metadata": {},
   "outputs": [],
   "source": [
    "def binary_search(input_list, x, low, high):\n",
    "    if high >= low:\n",
    "\n",
    "        mid = low + (high - low)//2\n",
    "        print(f\"low:{low}-high:{high}-mid:{mid}\")\n",
    "\n",
    "        # If found at mid, then return it\n",
    "        if input_list[mid] == x:\n",
    "            return mid\n",
    "\n",
    "        # Search the left half\n",
    "        elif input_list[mid] > x:\n",
    "            return binary_search(input_list, x, low, mid-1)\n",
    "\n",
    "        # Search the right half\n",
    "        else:\n",
    "            return binary_search(input_list, x, mid + 1, high)\n",
    "\n",
    "    else:\n",
    "        return -1"
   ]
  },
  {
   "cell_type": "code",
   "execution_count": 81,
   "id": "5a898785",
   "metadata": {},
   "outputs": [
    {
     "name": "stdout",
     "output_type": "stream",
     "text": [
      "low:0-high:6-mid:3\n",
      "low:0-high:2-mid:1\n",
      "low:2-high:2-mid:2\n"
     ]
    },
    {
     "data": {
      "text/plain": [
       "2"
      ]
     },
     "execution_count": 81,
     "metadata": {},
     "output_type": "execute_result"
    }
   ],
   "source": [
    "input_list = [12, 17, 21, 43, 45, 54, 65]\n",
    "find = 21\n",
    "binary_search(input_list, find, 0, len(input_list)-1)"
   ]
  },
  {
   "cell_type": "code",
   "execution_count": null,
   "id": "0f0e7837",
   "metadata": {},
   "outputs": [],
   "source": []
  },
  {
   "cell_type": "markdown",
   "id": "dc9dc4e6",
   "metadata": {},
   "source": [
    "## Binary Search Without recursion"
   ]
  },
  {
   "cell_type": "code",
   "execution_count": 78,
   "id": "3af14547",
   "metadata": {},
   "outputs": [],
   "source": [
    "def binary_search(array, x, low, high):\n",
    "\n",
    "    # Repeat until the pointers low and high meet each other\n",
    "    while low <= high:\n",
    "\n",
    "        mid = low + (high - low)//2\n",
    "\n",
    "        if array[mid] == x:\n",
    "            return mid\n",
    "\n",
    "        elif array[mid] < x:\n",
    "            low = mid + 1\n",
    "\n",
    "        else:\n",
    "            high = mid - 1\n",
    "\n",
    "    return -1"
   ]
  },
  {
   "cell_type": "code",
   "execution_count": 79,
   "id": "c5961110",
   "metadata": {},
   "outputs": [
    {
     "data": {
      "text/plain": [
       "3"
      ]
     },
     "execution_count": 79,
     "metadata": {},
     "output_type": "execute_result"
    }
   ],
   "source": [
    "input_list = [12, 17, 21, 43, 45, 54, 65]\n",
    "find = 43\n",
    "binary_search(input_list, find, 0, len(input_list)-1)"
   ]
  },
  {
   "cell_type": "code",
   "execution_count": null,
   "id": "698d56e1",
   "metadata": {},
   "outputs": [],
   "source": []
  }
 ],
 "metadata": {
  "kernelspec": {
   "display_name": "Python 3",
   "language": "python",
   "name": "python3"
  },
  "language_info": {
   "codemirror_mode": {
    "name": "ipython",
    "version": 3
   },
   "file_extension": ".py",
   "mimetype": "text/x-python",
   "name": "python",
   "nbconvert_exporter": "python",
   "pygments_lexer": "ipython3",
   "version": "3.8.8"
  }
 },
 "nbformat": 4,
 "nbformat_minor": 5
}
