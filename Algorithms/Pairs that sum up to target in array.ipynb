{
 "cells": [
  {
   "cell_type": "markdown",
   "id": "6e131385",
   "metadata": {},
   "source": [
    "# Find the pairs that sums up to target in an array"
   ]
  },
  {
   "cell_type": "code",
   "execution_count": null,
   "id": "69f05805",
   "metadata": {},
   "outputs": [],
   "source": [
    "arr = [2, 3, 4, 4, 5, 6, 7, 11]\n",
    "target = 9 "
   ]
  },
  {
   "cell_type": "markdown",
   "id": "4f5a5825",
   "metadata": {},
   "source": [
    "#### METHOD 1"
   ]
  },
  {
   "cell_type": "code",
   "execution_count": null,
   "id": "11b0d55e",
   "metadata": {},
   "outputs": [],
   "source": [
    "yu\n",
    "for i in range(len(arr)):\n",
    "    for j in arr[i:]:\n",
    "        if arr[i] + j == target:\n",
    "            print(f'Pairs are {arr[i]} - {j}')"
   ]
  },
  {
   "cell_type": "markdown",
   "id": "12283f21",
   "metadata": {},
   "source": [
    "#### METHOD 2"
   ]
  },
  {
   "cell_type": "code",
   "execution_count": null,
   "id": "eb45d61e",
   "metadata": {},
   "outputs": [],
   "source": [
    "import itertools\n",
    "\n",
    "pairs = list(itertools.combinations(arr, 2))\n",
    "for elements in pairs:\n",
    "    if sum(elements) == target:\n",
    "        print(elements)"
   ]
  },
  {
   "cell_type": "markdown",
   "id": "b7444996",
   "metadata": {},
   "source": [
    "#### METHOD 3"
   ]
  },
  {
   "cell_type": "code",
   "execution_count": null,
   "id": "47273207",
   "metadata": {},
   "outputs": [],
   "source": [
    "def binarySearch(arr, haysack):\n",
    "    mid = len(arr)//2\n",
    "    low = 0\n",
    "    high = len(arr)\n",
    "    if len(arr) != 0:\n",
    "        if haysack == arr[mid]:\n",
    "            return True\n",
    "        elif haysack < arr[mid]:\n",
    "            return binarySearch(arr[low:mid], haysack)\n",
    "        else:\n",
    "            return binarySearch(arr[mid+1:high], haysack)\n",
    "        return False\n",
    "\n",
    "for i in range(len(arr)):\n",
    "    new_target = target - arr[i]\n",
    "    \n",
    "    is_avail = binarySearch(arr[i+1:], new_target)\n",
    "        \n",
    "    if is_avail:\n",
    "        print(f\"Pairs we want is {arr[i]} and {new_target}\")\n",
    "            \n",
    "\n"
   ]
  },
  {
   "cell_type": "markdown",
   "id": "121fcc3d",
   "metadata": {},
   "source": [
    "### Method 4"
   ]
  },
  {
   "cell_type": "code",
   "execution_count": null,
   "id": "84ac6912",
   "metadata": {},
   "outputs": [],
   "source": [
    "for i in range(len(arr)):\n",
    "    new_target = target - arr[i]        \n",
    "    if new_target in arr[i+1:]:\n",
    "        print(f\"Pairs we want is {arr[i]} and {new_target}\")"
   ]
  },
  {
   "cell_type": "markdown",
   "id": "36f695cd",
   "metadata": {},
   "source": [
    "#### METHOD 5"
   ]
  },
  {
   "cell_type": "code",
   "execution_count": null,
   "id": "449f8fb9",
   "metadata": {},
   "outputs": [],
   "source": [
    "i = 0\n",
    "j = len(arr) - 1\n",
    "\n",
    "while i < j:\n",
    "    if arr[i] + arr[j] == target:\n",
    "        print(\"Pairs found\")\n",
    "        break\n",
    "    elif arr[i] + arr[j] < target:\n",
    "        i+=1\n",
    "    else:\n",
    "        j -= 1"
   ]
  }
 ],
 "metadata": {
  "kernelspec": {
   "display_name": "Python 3",
   "language": "python",
   "name": "python3"
  },
  "language_info": {
   "codemirror_mode": {
    "name": "ipython",
    "version": 3
   },
   "file_extension": ".py",
   "mimetype": "text/x-python",
   "name": "python",
   "nbconvert_exporter": "python",
   "pygments_lexer": "ipython3",
   "version": "3.8.8"
  }
 },
 "nbformat": 4,
 "nbformat_minor": 5
}
