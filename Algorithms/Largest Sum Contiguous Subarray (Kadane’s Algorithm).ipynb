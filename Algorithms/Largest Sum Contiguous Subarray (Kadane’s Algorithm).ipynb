{
 "cells": [
  {
   "cell_type": "code",
   "execution_count": 14,
   "id": "3581de2b",
   "metadata": {},
   "outputs": [
    {
     "name": "stdout",
     "output_type": "stream",
     "text": [
      "-2 -- -2\n",
      "-3 -- -3\n",
      "4 -- 4\n",
      "3 -- -1\n",
      "1 -- -2\n",
      "2 -- 1\n",
      "7 -- 5\n",
      "4 -- -3\n",
      "Maximum contiguous sum is 7\n"
     ]
    }
   ],
   "source": [
    "def maxSubArraySum(a, size):\n",
    " \n",
    "    max_so_far = a[0]\n",
    "    max_ending_here = 0\n",
    " \n",
    "    for i in range(0, size):\n",
    "        \n",
    "        max_ending_here = max_ending_here + a[i]\n",
    "        print(f'{max_ending_here} -- {a[i]}')\n",
    "        if (max_so_far < max_ending_here):\n",
    "            max_so_far = max_ending_here\n",
    " \n",
    "        if max_ending_here < 0:\n",
    "            max_ending_here = 0\n",
    "    return max_so_far\n",
    " \n",
    "# Driver function to check the above function\n",
    " \n",
    " \n",
    "a = [-2, -3, 4, -1, -2, 1, 5, -3]\n",
    "\n",
    "print(\"Maximum contiguous sum is\", maxSubArraySum(a, len(a)))"
   ]
  },
  {
   "cell_type": "code",
   "execution_count": null,
   "id": "dda64d4c",
   "metadata": {},
   "outputs": [],
   "source": []
  }
 ],
 "metadata": {
  "kernelspec": {
   "display_name": "Python 3",
   "language": "python",
   "name": "python3"
  },
  "language_info": {
   "codemirror_mode": {
    "name": "ipython",
    "version": 3
   },
   "file_extension": ".py",
   "mimetype": "text/x-python",
   "name": "python",
   "nbconvert_exporter": "python",
   "pygments_lexer": "ipython3",
   "version": "3.8.8"
  }
 },
 "nbformat": 4,
 "nbformat_minor": 5
}
