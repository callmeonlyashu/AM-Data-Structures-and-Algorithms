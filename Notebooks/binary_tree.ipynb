{
 "cells": [
  {
   "cell_type": "code",
   "execution_count": 4,
   "id": "80a74c30",
   "metadata": {},
   "outputs": [
    {
     "name": "stdout",
     "output_type": "stream",
     "text": [
      "7 is not Found\n",
      "14 is found\n",
      "35\n",
      "14\n",
      "27\n",
      "31\n",
      "10\n",
      "19\n"
     ]
    }
   ],
   "source": [
    "class Node:\n",
    "\n",
    "    def __init__(self, root):\n",
    "\n",
    "        self.left = None\n",
    "        self.right = None\n",
    "        self.root = root\n",
    "\n",
    "    def insertLeft(self, data):\n",
    "        if self.left is None:\n",
    "            self.left = Node(data)\n",
    "        else:\n",
    "            self.left.insertLeft(data)\n",
    "            \n",
    "    def insertRight(self, data):\n",
    "        if self.right is None:\n",
    "            self.right = Node(data)\n",
    "        else:\n",
    "            self.right.insertRight(data)\n",
    "            \n",
    "    \n",
    "    def findval(self, lkpval):\n",
    "        if lkpval < self.root:\n",
    "            if self.left is None:\n",
    "                return str(lkpval)+\" is not Found\"\n",
    "            return self.left.findval(lkpval)\n",
    "        elif lkpval > self.root:\n",
    "            if self.right is None:\n",
    "                return str(lkpval)+\" is not Found\"\n",
    "            return self.right.findval(lkpval)\n",
    "        else:\n",
    "            return str(self.root) + \" is found\"\n",
    "\n",
    "    # Print the tree\n",
    "    def PrintTree(self):\n",
    "        if self.left:\n",
    "            self.left.PrintTree()\n",
    "        print( self.root),\n",
    "        if self.right:\n",
    "            self.right.PrintTree()\n",
    "\n",
    "# Use the insert method to add nodes\n",
    "root = Node(27)\n",
    "root.insertLeft(14)\n",
    "root.insertLeft(35)\n",
    "root.insertRight(31)\n",
    "root.insertRight(10)\n",
    "root.insertRight(19)\n",
    "\n",
    "print(root.findval(7))\n",
    "print(root.findval(14))\n",
    "\n",
    "\n",
    "root.PrintTree()\n"
   ]
  },
  {
   "cell_type": "code",
   "execution_count": null,
   "id": "5fd50aa8",
   "metadata": {},
   "outputs": [],
   "source": []
  }
 ],
 "metadata": {
  "kernelspec": {
   "display_name": "Python 3",
   "language": "python",
   "name": "python3"
  },
  "language_info": {
   "codemirror_mode": {
    "name": "ipython",
    "version": 3
   },
   "file_extension": ".py",
   "mimetype": "text/x-python",
   "name": "python",
   "nbconvert_exporter": "python",
   "pygments_lexer": "ipython3",
   "version": "3.8.8"
  }
 },
 "nbformat": 4,
 "nbformat_minor": 5
}
