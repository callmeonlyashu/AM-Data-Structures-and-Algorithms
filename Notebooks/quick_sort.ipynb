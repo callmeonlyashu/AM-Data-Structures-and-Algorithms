{
 "cells": [
  {
   "cell_type": "markdown",
   "id": "12fb8bf1",
   "metadata": {},
   "source": [
    "## Implementation of QuickSort using the last element as a pivot:"
   ]
  },
  {
   "cell_type": "code",
   "execution_count": 22,
   "id": "99e6916f",
   "metadata": {},
   "outputs": [],
   "source": [
    "def quick_sort(unsorted, low, high):\n",
    "    if low < high:\n",
    "        pi = pivot(unsorted, low, high)\n",
    "        print(f'{pi}-{low}-{high}')\n",
    "        quick_sort(unsorted, low, pi-1) # Sort Left array of pivot\n",
    "        quick_sort(unsorted, pi+1, high) # Sort Right array of pivot\n",
    "        return unsorted\n",
    "\n",
    "def pivot(unsorted, low, high):\n",
    "    pivot = unsorted[high]\n",
    "    i = low-1\n",
    "    for j in range(low, high+1):\n",
    "        if unsorted[j] < pivot:\n",
    "            i += 1\n",
    "            unsorted[i], unsorted[j] = unsorted[j], unsorted[i]\n",
    "            \n",
    "    unsorted[i+1], unsorted[high] = unsorted[high], unsorted[i+1]\n",
    "    return i+1"
   ]
  },
  {
   "cell_type": "code",
   "execution_count": 23,
   "id": "d618edbb",
   "metadata": {},
   "outputs": [
    {
     "name": "stdout",
     "output_type": "stream",
     "text": [
      "6-0-6\n",
      "0-0-5\n",
      "5-1-5\n",
      "2-1-4\n",
      "3-3-4\n"
     ]
    },
    {
     "data": {
      "text/plain": [
       "[11, 12, 22, 25, 34, 64, 90]"
      ]
     },
     "execution_count": 23,
     "metadata": {},
     "output_type": "execute_result"
    }
   ],
   "source": [
    "array = [64, 34, 25, 12, 22, 11, 90]\n",
    "quick_sort(array, 0, len(array)-1)"
   ]
  },
  {
   "cell_type": "markdown",
   "id": "5aa1540e",
   "metadata": {},
   "source": [
    "## Implementation of QuickSort using the first element as a pivot:\n"
   ]
  },
  {
   "cell_type": "code",
   "execution_count": 26,
   "id": "dd343718",
   "metadata": {},
   "outputs": [],
   "source": [
    "def partition(arr, l, h):\n",
    "  low, high = l, h\n",
    "  if l != h and l < h:\n",
    "    # Choose the leftmost element as pivot\n",
    "    pivot = arr[l]\n",
    "    low = low+1\n",
    "    # Traverse through all elements\n",
    "    # compare each element with pivot\n",
    "    while low <= high:\n",
    "      if arr[high] < pivot and arr[low] > pivot:\n",
    "        arr[high], arr[low] = arr[low], arr[high]\n",
    "      if not arr[low] > pivot:\n",
    "        low += 1\n",
    "      if not arr[high] < pivot:\n",
    "        high -= 1\n",
    "  arr[l], arr[high] = arr[high], arr[l]\n",
    "  # Return the position from where partition is done\n",
    "  return high\n",
    "  \n",
    "# Function to perform quicksort\n",
    "def quick_sort(array, low, high):\n",
    "  if low < high:\n",
    "  \n",
    "      # Find pivot element such that\n",
    "      # element smaller than pivot are on the left\n",
    "      # element greater than pivot are on the right\n",
    "      pi = partition(array, low, high)\n",
    "  \n",
    "      # Recursive call on the left of pivot\n",
    "      quick_sort(array, low, pi - 1)\n",
    "  \n",
    "      # Recursive call on the right of pivot\n",
    "      quick_sort(array, pi + 1, high)\n",
    "      return array"
   ]
  },
  {
   "cell_type": "code",
   "execution_count": 27,
   "id": "82e8c8e1",
   "metadata": {},
   "outputs": [
    {
     "data": {
      "text/plain": [
       "[1, 1, 2, 7, 8, 9]"
      ]
     },
     "execution_count": 27,
     "metadata": {},
     "output_type": "execute_result"
    }
   ],
   "source": [
    "array = [ 1, 7, 8, 9, 1, 2]\n",
    "quick_sort(array, 0, len(array) - 1)"
   ]
  },
  {
   "cell_type": "code",
   "execution_count": null,
   "id": "d58cb1c3",
   "metadata": {},
   "outputs": [],
   "source": []
  }
 ],
 "metadata": {
  "kernelspec": {
   "display_name": "Python 3",
   "language": "python",
   "name": "python3"
  },
  "language_info": {
   "codemirror_mode": {
    "name": "ipython",
    "version": 3
   },
   "file_extension": ".py",
   "mimetype": "text/x-python",
   "name": "python",
   "nbconvert_exporter": "python",
   "pygments_lexer": "ipython3",
   "version": "3.8.8"
  }
 },
 "nbformat": 4,
 "nbformat_minor": 5
}
