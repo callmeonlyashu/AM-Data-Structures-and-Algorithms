{
 "cells": [
  {
   "cell_type": "code",
   "execution_count": 20,
   "id": "482ed1d8",
   "metadata": {},
   "outputs": [
    {
     "name": "stdout",
     "output_type": "stream",
     "text": [
      "8973737237\n"
     ]
    }
   ],
   "source": [
    "data = \"100klh564abc365bg800sdc761asd324kdhsbds873876sdf dsf sdf 23432 dfs8973737237\"\n",
    "\n",
    "lst = []\n",
    "import re\n",
    "\n",
    "# lst = data.split('[a-z]')\n",
    "\n",
    "alphabet = ['k', 'a', 'b', 's']\n",
    "\n",
    "num = ''\n",
    "\n",
    "for i in data:\n",
    "    if i.isdigit() and i not in alphabet:\n",
    "        num += i\n",
    "    elif i in alphabet:\n",
    "        num += ','\n",
    "\n",
    "result_list = num.split(',')\n",
    "\n",
    "result_list = [int(i) for i in result_list if i != '']\n",
    "\n",
    "print(max(result_list))\n",
    "        \n",
    "        \n",
    "        "
   ]
  },
  {
   "cell_type": "code",
   "execution_count": 26,
   "id": "32295eb5",
   "metadata": {},
   "outputs": [
    {
     "name": "stdout",
     "output_type": "stream",
     "text": [
      "31\n"
     ]
    }
   ],
   "source": [
    "\"\"\"\n",
    "Sum of odd index - Sum of even index\n",
    "\"\"\"\n",
    "data = 83749237490278286968593729362986312312312312\n",
    "data = str(data)\n",
    "\n",
    "odd = 0\n",
    "even = 0\n",
    "for i, j in enumerate(data):\n",
    "    if i%2 == 0:\n",
    "        even += int(j)\n",
    "    else:\n",
    "        odd += int(j)\n",
    "    \n",
    "print(odd-even)"
   ]
  },
  {
   "cell_type": "code",
   "execution_count": 44,
   "id": "5a6ff236",
   "metadata": {},
   "outputs": [
    {
     "name": "stdout",
     "output_type": "stream",
     "text": [
      "['Rahul S', 'Rahul Singh', 'Ravi S', 'Ram Prasad']\n"
     ]
    }
   ],
   "source": [
    "data = [{\"name\": \"Rahul S\", \"age\": 18},\n",
    " {\"name\": \"Rahul Singh\", \"age\": 19},\n",
    " {\"name\": \"Ravi S\", \"age\": 18},\n",
    "{\"name\": \"Prateeek Singh\", \"age\": 14},\n",
    " {\"name\": \"Ram Prasad\", \"age\": 23},\n",
    " {\"name\": \"Rahul Sampal\", \"age\": \"10\"},\n",
    " {\"name\": \"Rahul Sampal\"}\n",
    "]\n",
    "\n",
    "result = []\n",
    "for i in data:\n",
    "    if 'age' in i.keys() and int(i['age']) >= 18:\n",
    "        result.append(i['name'])\n",
    "        \n",
    "print(result)"
   ]
  },
  {
   "cell_type": "code",
   "execution_count": null,
   "id": "ee89dcf1",
   "metadata": {},
   "outputs": [],
   "source": []
  }
 ],
 "metadata": {
  "kernelspec": {
   "display_name": "Python 3",
   "language": "python",
   "name": "python3"
  },
  "language_info": {
   "codemirror_mode": {
    "name": "ipython",
    "version": 3
   },
   "file_extension": ".py",
   "mimetype": "text/x-python",
   "name": "python",
   "nbconvert_exporter": "python",
   "pygments_lexer": "ipython3",
   "version": "3.8.8"
  }
 },
 "nbformat": 4,
 "nbformat_minor": 5
}
