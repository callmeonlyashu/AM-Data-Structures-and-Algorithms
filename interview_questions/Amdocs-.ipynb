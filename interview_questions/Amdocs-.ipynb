{
 "cells": [
  {
   "cell_type": "code",
   "execution_count": 11,
   "metadata": {},
   "outputs": [],
   "source": [
    "string = 'Aa'\n",
    "\n",
    "\n",
    "def countVowels( string ):\n",
    "        \n",
    "    vowels = [ 'a', 'e', 'i', 'o', 'u' ]\n",
    "    \n",
    "    count = 0\n",
    "    for chars in string:\n",
    "        if chars.lower() in vowels:\n",
    "            count += 1\n",
    "    \n",
    "    return count\n",
    "    "
   ]
  },
  {
   "cell_type": "code",
   "execution_count": 12,
   "metadata": {},
   "outputs": [
    {
     "data": {
      "text/plain": [
       "2"
      ]
     },
     "execution_count": 12,
     "metadata": {},
     "output_type": "execute_result"
    }
   ],
   "source": [
    "countVowels(string)"
   ]
  },
  {
   "cell_type": "code",
   "execution_count": 33,
   "metadata": {},
   "outputs": [],
   "source": [
    "string = 'Madam'\n",
    "\n",
    "def checkPalindrom( string ):\n",
    "    \n",
    "    revString = reverse( string )\n",
    "    if string.lower() == revString.lower():\n",
    "        print( 'Is Palindrome' )\n",
    "    else:\n",
    "        print( 'Is not Palindrome' )\n",
    "        \n",
    "def reverse( string ):\n",
    "    \n",
    "    newString = ''\n",
    "    for i in string[-1::-1]:\n",
    "        newString += i\n",
    "  \n",
    "    return newString"
   ]
  },
  {
   "cell_type": "code",
   "execution_count": 34,
   "metadata": {},
   "outputs": [
    {
     "name": "stdout",
     "output_type": "stream",
     "text": [
      "madaM\n",
      "Is Palindrome\n"
     ]
    }
   ],
   "source": [
    "checkPalindrom( string )"
   ]
  },
  {
   "cell_type": "code",
   "execution_count": 70,
   "metadata": {},
   "outputs": [],
   "source": [
    "def drawPyramid():\n",
    "    \n",
    "    for i in range(5):\n",
    "        print( (5-i)*' ' + (i+1)*'*' + i*'*' )\n",
    "    "
   ]
  },
  {
   "cell_type": "code",
   "execution_count": 71,
   "metadata": {},
   "outputs": [
    {
     "name": "stdout",
     "output_type": "stream",
     "text": [
      "     *\n",
      "    ***\n",
      "   *****\n",
      "  *******\n",
      " *********\n"
     ]
    }
   ],
   "source": [
    "drawPyramid()"
   ]
  },
  {
   "cell_type": "code",
   "execution_count": null,
   "metadata": {},
   "outputs": [],
   "source": []
  }
 ],
 "metadata": {
  "kernelspec": {
   "display_name": "Python 3",
   "language": "python",
   "name": "python3"
  },
  "language_info": {
   "codemirror_mode": {
    "name": "ipython",
    "version": 3
   },
   "file_extension": ".py",
   "mimetype": "text/x-python",
   "name": "python",
   "nbconvert_exporter": "python",
   "pygments_lexer": "ipython3",
   "version": "3.7.4"
  }
 },
 "nbformat": 4,
 "nbformat_minor": 2
}
