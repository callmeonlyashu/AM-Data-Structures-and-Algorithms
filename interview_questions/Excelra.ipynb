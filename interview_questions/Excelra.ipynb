{
 "cells": [
  {
   "cell_type": "code",
   "execution_count": 4,
   "id": "4de9d840",
   "metadata": {},
   "outputs": [
    {
     "name": "stdout",
     "output_type": "stream",
     "text": [
      "This is a function inside a class\n",
      "10\n",
      "20\n"
     ]
    }
   ],
   "source": [
    "class Example():\n",
    "    \n",
    "    def __init__(self):\n",
    "        self.a = 10\n",
    "        self.b = 20\n",
    "    \n",
    "    def abc(self):\n",
    "        print(\"This is a function inside a class\")\n",
    "        \n",
    "        print(self.a)\n",
    "        print(self.b)\n",
    "        \n",
    "\n",
    "\n",
    "a = Example()\n",
    "a.abc()"
   ]
  },
  {
   "cell_type": "code",
   "execution_count": 6,
   "id": "2a2eff20",
   "metadata": {},
   "outputs": [],
   "source": [
    "import numpy as np\n",
    "lst = [1,2,3,4,5,6,7,8,8]\n",
    "np  = np.array([1,2,3,4,5,6,6,7,7,8,6,6])"
   ]
  },
  {
   "cell_type": "code",
   "execution_count": 25,
   "id": "e6a8b3ed",
   "metadata": {},
   "outputs": [],
   "source": [
    "def generator(n):\n",
    "    \n",
    "    for i in range(n):\n",
    "        yield i**2\n",
    "    \n",
    "\n",
    "gen = generator(10)"
   ]
  },
  {
   "cell_type": "code",
   "execution_count": 31,
   "id": "a72bfab5",
   "metadata": {},
   "outputs": [
    {
     "data": {
      "text/plain": [
       "25"
      ]
     },
     "execution_count": 31,
     "metadata": {},
     "output_type": "execute_result"
    }
   ],
   "source": [
    "gen.__next__()"
   ]
  },
  {
   "cell_type": "code",
   "execution_count": 32,
   "id": "aa7f0cca",
   "metadata": {},
   "outputs": [],
   "source": [
    "import flask"
   ]
  },
  {
   "cell_type": "code",
   "execution_count": 33,
   "id": "b76b9857",
   "metadata": {},
   "outputs": [
    {
     "data": {
      "text/plain": [
       "'Emp-Name Emp-Id Emp-Salary'"
      ]
     },
     "execution_count": 33,
     "metadata": {},
     "output_type": "execute_result"
    }
   ],
   "source": [
    "\"Emp-Name Emp-Id Emp-Salary\""
   ]
  },
  {
   "cell_type": "code",
   "execution_count": null,
   "id": "b8bac3c7",
   "metadata": {},
   "outputs": [],
   "source": []
  }
 ],
 "metadata": {
  "kernelspec": {
   "display_name": "Python 3",
   "language": "python",
   "name": "python3"
  },
  "language_info": {
   "codemirror_mode": {
    "name": "ipython",
    "version": 3
   },
   "file_extension": ".py",
   "mimetype": "text/x-python",
   "name": "python",
   "nbconvert_exporter": "python",
   "pygments_lexer": "ipython3",
   "version": "3.8.8"
  }
 },
 "nbformat": 4,
 "nbformat_minor": 5
}
