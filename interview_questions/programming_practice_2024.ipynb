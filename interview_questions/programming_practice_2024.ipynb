{
 "cells": [
  {
   "cell_type": "markdown",
   "id": "6b21d658",
   "metadata": {},
   "source": [
    "## Palindrome Number"
   ]
  },
  {
   "cell_type": "code",
   "execution_count": 61,
   "id": "a720d924",
   "metadata": {},
   "outputs": [],
   "source": [
    "def check_palindrome(num):\n",
    "    actual_number = num\n",
    "    reversed_num = 0\n",
    "\n",
    "    while num != 0:\n",
    "        div = num % 10\n",
    "        reversed_num = reversed_num * 10 + div\n",
    "        print(\"div: {}- reversed_num: {}\".format(div, reversed_num))\n",
    "        num = num // 10\n",
    "\n",
    "    if actual_number == reversed_num:\n",
    "        print(\"is palindrome\")\n",
    "    else:\n",
    "        print(\"is not palindrome\")"
   ]
  },
  {
   "cell_type": "code",
   "execution_count": 62,
   "id": "28007760",
   "metadata": {},
   "outputs": [
    {
     "name": "stdout",
     "output_type": "stream",
     "text": [
      "div: 1- reversed_num: 1\n",
      "div: 2- reversed_num: 12\n",
      "div: 3- reversed_num: 123\n",
      "div: 2- reversed_num: 1232\n",
      "div: 1- reversed_num: 12321\n",
      "is palindrome\n"
     ]
    }
   ],
   "source": [
    "a = check_palindrome(12321)"
   ]
  },
  {
   "cell_type": "markdown",
   "id": "443805f8",
   "metadata": {},
   "source": [
    "## Implementation of LRU Cache in Python"
   ]
  },
  {
   "cell_type": "code",
   "execution_count": 89,
   "id": "fa066487",
   "metadata": {},
   "outputs": [],
   "source": [
    "\n",
    "\n",
    "from collections import OrderedDict\n",
    "\n",
    "class LRUCache():\n",
    "    def __init__(self, capacity):\n",
    "        self.cached_data = OrderedDict()\n",
    "        self.capacity = capacity\n",
    "        self.most_recently_used = None\n",
    "    \n",
    "    def get(self, key):\n",
    "        self.most_recently_used = key\n",
    "        if key not in self.cached_data:\n",
    "            return -1\n",
    "        return self.cached_data[key]\n",
    "    \n",
    "    def put(self, key, value):\n",
    "        self.cached_data[key] = value\n",
    "        if len(self.cached_data) > self.capacity:\n",
    "            self.delete()\n",
    "        \n",
    "    def delete(self):\n",
    "        for key, value in self.cached_data.items():\n",
    "            if key != self.most_recently_used:\n",
    "                del self.cached_data[key]\n",
    "                break"
   ]
  },
  {
   "cell_type": "code",
   "execution_count": null,
   "id": "731de43b",
   "metadata": {},
   "outputs": [],
   "source": []
  },
  {
   "cell_type": "code",
   "execution_count": 90,
   "id": "6ec0effb",
   "metadata": {},
   "outputs": [],
   "source": [
    "cache = LRUCache(2)"
   ]
  },
  {
   "cell_type": "code",
   "execution_count": 91,
   "id": "1dfeb00c",
   "metadata": {},
   "outputs": [
    {
     "name": "stdout",
     "output_type": "stream",
     "text": [
      "1\n",
      "-1\n",
      "-1\n",
      "3\n",
      "4\n"
     ]
    }
   ],
   "source": [
    "cache.put(1, 1)        # Cache is {1=1}\n",
    "cache.put(2, 2)        # Cache is {1=1, 2=2}\n",
    "print(cache.get(1))    # Returns 1, Cache is {2=2, 1=1} (1 becomes most recently used)\n",
    "cache.put(3, 3)        # LRU key is 2, evicts key 2, Cache is {1=1, 3=3}\n",
    "print(cache.get(2))    # Returns -1 (key 2 is evicted)\n",
    "cache.put(4, 4)        # LRU key is 1, evicts key 1, Cache is {3=3, 4=4}\n",
    "print(cache.get(1))    # Returns -1 (key 1 is evicted)\n",
    "print(cache.get(3))    # Returns 3, Cache is {4=4, 3=3}\n",
    "print(cache.get(4))    # Returns 4, Cache is {3=3, 4=4}"
   ]
  },
  {
   "cell_type": "markdown",
   "id": "ad0ff7b9",
   "metadata": {},
   "source": [
    "## Vichara Technologies"
   ]
  },
  {
   "cell_type": "code",
   "execution_count": 4,
   "id": "0695fa31",
   "metadata": {},
   "outputs": [],
   "source": [
    "# Filter out None keys from the dict below\n",
    "\n",
    "data = {\n",
    "  \"a\": 12,\n",
    "  \"b\": 55,\n",
    "  \"c\": None,\n",
    "  \"d\": {\n",
    "    \"x\": 23,\n",
    "    \"y\": 89,\n",
    "    \"z\": None\n",
    "  },\n",
    "  \"e\": {\n",
    "    \"p\": None\n",
    "  }\n",
    "}\n",
    "\n"
   ]
  },
  {
   "cell_type": "markdown",
   "id": "0ac106c3",
   "metadata": {},
   "source": [
    "### Loop Approach (limited to two level nesting)"
   ]
  },
  {
   "cell_type": "code",
   "execution_count": 44,
   "id": "37b08e91",
   "metadata": {},
   "outputs": [
    {
     "name": "stdout",
     "output_type": "stream",
     "text": [
      "{'a': 12, 'b': 55, 'd': {'x': 23, 'y': 89}, 'e': {}}\n"
     ]
    }
   ],
   "source": [
    "new_dict = {}\n",
    "for key, value in data.items():\n",
    "    if isinstance(value, dict):\n",
    "        new_dict[key] = {}\n",
    "        for key2, value2 in value.items():\n",
    "            if value2 is not None:                \n",
    "                new_dict[key][key2] = value2\n",
    "    else:\n",
    "        if value is not None:\n",
    "            new_dict[key] = value\n",
    "\n",
    "print(new_dict)"
   ]
  },
  {
   "cell_type": "markdown",
   "id": "33ae880a",
   "metadata": {},
   "source": [
    "### Reccurrsion Approach"
   ]
  },
  {
   "cell_type": "code",
   "execution_count": 45,
   "id": "20e7f669",
   "metadata": {},
   "outputs": [],
   "source": [
    "def rec_approach(data, new_data={}):\n",
    "    for key, value in data.items():\n",
    "        if isinstance(value, dict) and value is not None:\n",
    "            new_data[key] = rec_approach(value, {})\n",
    "            continue\n",
    "        else:\n",
    "            if value is not None:\n",
    "                new_data[key] = value\n",
    "    return new_data\n",
    "    "
   ]
  },
  {
   "cell_type": "code",
   "execution_count": 46,
   "id": "01b51bc8",
   "metadata": {},
   "outputs": [
    {
     "name": "stdout",
     "output_type": "stream",
     "text": [
      "{'a': 12, 'b': 55, 'd': {'x': 23, 'y': 89}, 'e': {}}\n"
     ]
    }
   ],
   "source": [
    "res = rec_approach(data, new_data={})\n",
    "print(res)"
   ]
  },
  {
   "cell_type": "markdown",
   "id": "24e5928c",
   "metadata": {},
   "source": [
    "### Write a Python function to calculate the Nth Fibonacci number using recursion with memoization.\n"
   ]
  },
  {
   "cell_type": "code",
   "execution_count": 17,
   "id": "ac52e85e",
   "metadata": {},
   "outputs": [],
   "source": [
    "cache = {}\n",
    "def factorial(number):\n",
    "    if number in cache:\n",
    "        return cache[number]\n",
    "\n",
    "    if number <= 2:\n",
    "        return number\n",
    "    else:\n",
    "        fact = number*factorial(number-1)\n",
    "        cache[number] = fact\n",
    "        return fact"
   ]
  },
  {
   "cell_type": "code",
   "execution_count": 18,
   "id": "fd76e715",
   "metadata": {},
   "outputs": [
    {
     "name": "stdout",
     "output_type": "stream",
     "text": [
      "120\n"
     ]
    }
   ],
   "source": [
    "fact = factorial(5)\n",
    "print(fact)"
   ]
  },
  {
   "cell_type": "code",
   "execution_count": 20,
   "id": "bccb8923",
   "metadata": {},
   "outputs": [
    {
     "data": {
      "text/plain": [
       "21"
      ]
     },
     "execution_count": 20,
     "metadata": {},
     "output_type": "execute_result"
    }
   ],
   "source": [
    "def func_args_test(*args):\n",
    "\t\tresult = 0\n",
    "\t\tfor i in args:\n",
    "\t\t\tresult += i\n",
    "\t\treturn result\n",
    "\n",
    "\n",
    "func_args_test(1,2,3,4,5,6)"
   ]
  },
  {
   "cell_type": "markdown",
   "id": "a9b90364",
   "metadata": {},
   "source": [
    "### Write a Python function to find the intersection of two lists. The function should return a list of unique elements that are present in both input lists."
   ]
  },
  {
   "cell_type": "code",
   "execution_count": 22,
   "id": "937ed9f2",
   "metadata": {},
   "outputs": [
    {
     "name": "stdout",
     "output_type": "stream",
     "text": [
      "[3, 4, 5]\n"
     ]
    }
   ],
   "source": [
    "lst1 = [1,2,3,4,4,5,5]\n",
    "lst2 = [3,4,5, 17, 12]\n",
    "\n",
    "def find_intersection(lst1, lst2):\n",
    "    result = []\n",
    "    for el in lst1:\n",
    "        if el in lst2 and el not in result:\n",
    "            result.append(el)\n",
    "    \n",
    "    return result\n",
    "\n",
    "inte = find_intersection(lst1, lst2)\n",
    "print(inte)"
   ]
  },
  {
   "cell_type": "markdown",
   "id": "ced6d912",
   "metadata": {},
   "source": [
    "### Write a Python function that takes a string and returns a dictionary with the count of each character in the string. Ignore spaces and consider case sensitivity.\n"
   ]
  },
  {
   "cell_type": "code",
   "execution_count": 31,
   "id": "b848f925",
   "metadata": {},
   "outputs": [],
   "source": [
    "str_params = \"quick brown fox jumps over a lazy dog\"\n",
    "\n",
    "def count_char(x, str_params):\n",
    "    total = 0\n",
    "    for ch in str_params:\n",
    "        if ch == x:\n",
    "            total += 1\n",
    "    \n",
    "    return total\n",
    "\n",
    "def get_dict(str_params):\n",
    "    return {char: count_char(char, str_params) for words in str_params.split(\" \") for char in words}"
   ]
  },
  {
   "cell_type": "code",
   "execution_count": 32,
   "id": "b1ea1089",
   "metadata": {},
   "outputs": [
    {
     "data": {
      "text/plain": [
       "{'q': 1,\n",
       " 'u': 2,\n",
       " 'i': 1,\n",
       " 'c': 1,\n",
       " 'k': 1,\n",
       " 'b': 1,\n",
       " 'r': 2,\n",
       " 'o': 4,\n",
       " 'w': 1,\n",
       " 'n': 1,\n",
       " 'f': 1,\n",
       " 'x': 1,\n",
       " 'j': 1,\n",
       " 'm': 1,\n",
       " 'p': 1,\n",
       " 's': 1,\n",
       " 'v': 1,\n",
       " 'e': 1,\n",
       " 'a': 2,\n",
       " 'l': 1,\n",
       " 'z': 1,\n",
       " 'y': 1,\n",
       " 'd': 1,\n",
       " 'g': 1}"
      ]
     },
     "execution_count": 32,
     "metadata": {},
     "output_type": "execute_result"
    }
   ],
   "source": [
    "get_dict(str_params)"
   ]
  },
  {
   "cell_type": "markdown",
   "id": "7f9e71f7",
   "metadata": {},
   "source": [
    "### Write a Python function that takes a list of numbers and returns the maximum product of any two distinct numbers in the list.\n"
   ]
  },
  {
   "cell_type": "code",
   "execution_count": null,
   "id": "f448c600",
   "metadata": {},
   "outputs": [],
   "source": [
    "def max_product()"
   ]
  }
 ],
 "metadata": {
  "kernelspec": {
   "display_name": "Python 3",
   "language": "python",
   "name": "python3"
  },
  "language_info": {
   "codemirror_mode": {
    "name": "ipython",
    "version": 3
   },
   "file_extension": ".py",
   "mimetype": "text/x-python",
   "name": "python",
   "nbconvert_exporter": "python",
   "pygments_lexer": "ipython3",
   "version": "3.8.8"
  }
 },
 "nbformat": 4,
 "nbformat_minor": 5
}
