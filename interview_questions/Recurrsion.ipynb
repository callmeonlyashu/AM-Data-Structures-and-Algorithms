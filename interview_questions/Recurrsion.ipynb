{
 "cells": [
  {
   "cell_type": "code",
   "execution_count": 58,
   "id": "b54e3808",
   "metadata": {},
   "outputs": [
    {
     "name": "stdout",
     "output_type": "stream",
     "text": [
      "[12, 14, 15, 1, 2, 3, 3, 6, 1, 2, 3, 10, 11]\n"
     ]
    }
   ],
   "source": [
    "\"\"\"\n",
    "Below is interdependent dict. \n",
    "Write a recurrsive function to resolve all dependencies of final element\n",
    "\"\"\"\n",
    "\n",
    "inputDict = {'a': [12,14,15],\n",
    "             'd': [1,2,3], \n",
    "             'e': ['d', 3, 6],\n",
    "             'f': ['e', 7, 8, 9],\n",
    "             'g': ['d'],\n",
    "             'h': ['a', 'e','g', 10, 11]\n",
    "            }\n",
    "\n",
    "\n",
    "def children(node):\n",
    "    \n",
    "    resultDict = []\n",
    "    def dependencies(node):\n",
    "        if node in inputDict.keys():\n",
    "            for n in inputDict[node]:\n",
    "                dependencies(n)\n",
    "        else:\n",
    "            resultDict.append(node)\n",
    "        return resultDict\n",
    "    \n",
    "    return dependencies(node)\n",
    "    \n",
    "    \n",
    "result = children('h')\n",
    "print(result)"
   ]
  },
  {
   "cell_type": "code",
   "execution_count": 59,
   "id": "b5addfe5",
   "metadata": {},
   "outputs": [
    {
     "name": "stdout",
     "output_type": "stream",
     "text": [
      "[2]\n",
      "[2, 3]\n",
      "[2, 3, 4]\n",
      "[2, 3, 4, 1]\n",
      "[2, 3, 4, 1, 2]\n",
      "[2, 3, 4, 1, 2, 4]\n",
      "[2, 3, 4, 1, 2, 4, 5]\n",
      "[3]\n",
      "[3, 4]\n",
      "[3, 4, 1]\n",
      "[3, 4, 1, 2]\n",
      "[3, 4, 1, 2, 4]\n",
      "[3, 4, 1, 2, 4, 5]\n",
      "[4]\n",
      "[4, 1]\n",
      "[4, 1, 2]\n",
      "[4, 1, 2, 4]\n",
      "[4, 1, 2, 4, 5]\n",
      "[1]\n",
      "[1, 2]\n",
      "[1, 2, 4]\n",
      "[1, 2, 4, 5]\n",
      "[2]\n",
      "[2, 4]\n",
      "[2, 4, 5]\n",
      "[4]\n",
      "[4, 5]\n",
      "[5]\n"
     ]
    },
    {
     "data": {
      "text/plain": [
       "[]"
      ]
     },
     "execution_count": 59,
     "metadata": {},
     "output_type": "execute_result"
    }
   ],
   "source": [
    "\"\"\"\n",
    "Find all possible sub-arrays from a list in same order as list\n",
    "\n",
    "Method 1: Without using Python built-in functions\n",
    "\"\"\"\n",
    "\n",
    "arr = [2,3,4,1,2,4,5]\n",
    "\n",
    "\n",
    "def all_subarrays(arr):\n",
    "    final_output = []\n",
    "    def subarray(arr):\n",
    "        result = [arr[0]]\n",
    "        print(result)\n",
    "        for i in range(1, len(arr)):\n",
    "            result.append(arr[i])\n",
    "            print(result)\n",
    "                \n",
    "    subarray(arr)\n",
    "    length = len(arr)\n",
    "    while length != 1:\n",
    "        arr.remove(arr[0])\n",
    "        subarray(arr)\n",
    "        length = len(arr)    \n",
    "    \n",
    "    return final_output\n",
    "        \n",
    "    \n",
    "\n",
    "all_subarrays(arr)"
   ]
  },
  {
   "cell_type": "code",
   "execution_count": null,
   "id": "6fbeafb9",
   "metadata": {},
   "outputs": [],
   "source": []
  },
  {
   "cell_type": "code",
   "execution_count": null,
   "id": "0b293693",
   "metadata": {},
   "outputs": [],
   "source": []
  }
 ],
 "metadata": {
  "kernelspec": {
   "display_name": "Python 3",
   "language": "python",
   "name": "python3"
  },
  "language_info": {
   "codemirror_mode": {
    "name": "ipython",
    "version": 3
   },
   "file_extension": ".py",
   "mimetype": "text/x-python",
   "name": "python",
   "nbconvert_exporter": "python",
   "pygments_lexer": "ipython3",
   "version": "3.8.8"
  }
 },
 "nbformat": 4,
 "nbformat_minor": 5
}
