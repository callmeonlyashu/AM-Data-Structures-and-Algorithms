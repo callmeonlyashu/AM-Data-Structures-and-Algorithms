{
 "cells": [
  {
   "cell_type": "code",
   "execution_count": 10,
   "metadata": {},
   "outputs": [
    {
     "name": "stdout",
     "output_type": "stream",
     "text": [
      "[6, 8, 2, 8, 10]\n"
     ]
    },
    {
     "data": {
      "text/plain": [
       "'SELECT \\n    * \\n    FROM \\n    ( \\n        SELECT \\n            name,\\n            department,\\n            price,\\n            rank() OVER ( PARTITION BY department ORDER BY price DESC ) AS rank\\n         FROM\\n             products\\n    ) \\n    WHERE \\n        rank == 1'"
      ]
     },
     "execution_count": 10,
     "metadata": {},
     "output_type": "execute_result"
    }
   ],
   "source": [
    "lst = [5,6,7,8]\n",
    "\n",
    "idx = len( lst )//2 \n",
    "\n",
    "lst.insert( idx, 0 )\n",
    "\n",
    "def mapping( x ):\n",
    "    if x%2 == 0:\n",
    "        return x+2\n",
    "    else:\n",
    "        return x+1\n",
    "        \n",
    "#connection pooling\n",
    "\n",
    "newLst = list( map( mapping, lst ) )\n",
    "print( newLst )\n",
    "\n",
    "\n",
    "\n",
    "       \n",
    "\n",
    "\"\"\"SELECT \n",
    "    * \n",
    "    FROM \n",
    "    ( \n",
    "        SELECT \n",
    "            name,\n",
    "            department,\n",
    "            price,\n",
    "            rank() OVER ( PARTITION BY department ORDER BY price DESC ) AS rank\n",
    "         FROM\n",
    "             products\n",
    "    ) \n",
    "    WHERE \n",
    "        rank == 1\"\"\"  \n",
    "\n"
   ]
  },
  {
   "cell_type": "code",
   "execution_count": 11,
   "metadata": {},
   "outputs": [
    {
     "name": "stdout",
     "output_type": "stream",
     "text": [
      "Processing CREDIT Card Payment\n",
      "Processing CREDIT Card Payment\n"
     ]
    }
   ],
   "source": [
    "#-----------------Before Code Optimization----------------------------------\n",
    "\n",
    "class PaymentProcess:\n",
    "    def process_payment(self, type):\n",
    "        if type=='credit_card':\n",
    "            self.process_credit_payment()\n",
    "        elif type=='debit_card':\n",
    "            self.process_debit_payment()\n",
    "            \n",
    "    def process_credit_payment(self):\n",
    "        print('Processing CREDIT Card Payment')\n",
    "        \n",
    "    def process_debit_payment(self):\n",
    "        print('Processing DEBIT Card Payment')\n",
    "    \n",
    "p = PaymentProcess()\n",
    "p.process_payment('credit_card')\n",
    "\n",
    "\n",
    "\n",
    "#------------------------After Code Optimization-------------------------------\n",
    "\n",
    "class CreditPayment:\n",
    "    def process_payment(self):\n",
    "        print('Processing CREDIT Card Payment')\n",
    "        \n",
    "class DebitPayment:\n",
    "    def process_payment(self):\n",
    "        print('Processing DEBIT Card Payment')\n",
    "        \n",
    "class FactoryPayment():\n",
    "    def getPaymentObject( self, objPayment ):\n",
    "        return objPayment()\n",
    "        \n",
    "class Payment:\n",
    "    def paymentProcess(self, objPayment):\n",
    "        payment = FactoryPayment()\n",
    "        objPaymentObject = payment.getPaymentObject( objPayment )\n",
    "        objPaymentObject.process_payment()\n",
    "        \n",
    "\n",
    "p = Payment()\n",
    "p.paymentProcess(CreditPayment)\n"
   ]
  },
  {
   "cell_type": "code",
   "execution_count": 12,
   "metadata": {},
   "outputs": [
    {
     "name": "stdout",
     "output_type": "stream",
     "text": [
      "140291563266528\n",
      "True\n"
     ]
    }
   ],
   "source": [
    "a = [4]\n",
    "b = a\n",
    "\n",
    "b.append( 4 )\n",
    "print( id(a) )\n",
    "print( id(a) == id(b) )"
   ]
  },
  {
   "cell_type": "code",
   "execution_count": null,
   "metadata": {},
   "outputs": [],
   "source": []
  }
 ],
 "metadata": {
  "kernelspec": {
   "display_name": "Python 3",
   "language": "python",
   "name": "python3"
  },
  "language_info": {
   "codemirror_mode": {
    "name": "ipython",
    "version": 3
   },
   "file_extension": ".py",
   "mimetype": "text/x-python",
   "name": "python",
   "nbconvert_exporter": "python",
   "pygments_lexer": "ipython3",
   "version": "3.7.4"
  }
 },
 "nbformat": 4,
 "nbformat_minor": 2
}
