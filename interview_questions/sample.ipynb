{
 "cells": [
  {
   "cell_type": "code",
   "execution_count": null,
   "id": "73cf53fb",
   "metadata": {},
   "outputs": [],
   "source": [
    "class Singleton { \n",
    "    private function __construct() {\n",
    "        return $objNew\n",
    "    }\n",
    "    \n",
    "    public function getSingleObject() {\n",
    "        if !isset($objNew) {\n",
    "            $objNew = new Singleton()\n",
    "        }\n",
    "        \n",
    "        return $objNew\n",
    "    }\n",
    "    \n",
    "    public function __clone() {\n",
    "        return $objNew\n",
    "    }\n",
    "}\n",
    "    \n",
    "\n",
    "class Singleton():\n",
    "\n",
    "    def ____init__():\n",
    "        print(\"Private constructor\")\n",
    "        pass\n",
    "    \n",
    "    \n",
    "    def __new__():\n",
    "        if self.objSingle != None:\n",
    "            return self.objSingle\n",
    "\n",
    "    def createObject():\n",
    "        if self.objSingle == None:\n",
    "            self.objSingle = new Singleton()\n",
    "        \n",
    "        return self.objSingle"
   ]
  }
 ],
 "metadata": {
  "kernelspec": {
   "display_name": "Python 3",
   "language": "python",
   "name": "python3"
  },
  "language_info": {
   "codemirror_mode": {
    "name": "ipython",
    "version": 3
   },
   "file_extension": ".py",
   "mimetype": "text/x-python",
   "name": "python",
   "nbconvert_exporter": "python",
   "pygments_lexer": "ipython3",
   "version": "3.8.8"
  }
 },
 "nbformat": 4,
 "nbformat_minor": 5
}
