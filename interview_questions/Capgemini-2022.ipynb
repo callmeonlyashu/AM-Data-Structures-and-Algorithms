{
 "cells": [
  {
   "cell_type": "code",
   "execution_count": 1,
   "id": "2356ce4c",
   "metadata": {},
   "outputs": [
    {
     "data": {
      "text/plain": [
       "'output = {\\n     “name”: “Gaurav”,\\n     “list.0” : 10,\\n     “list.1” : 20,\\n     “list.2” : 30,\\n     “dict.a” : 1,\\n     “dict.b” : 2   }'"
      ]
     },
     "execution_count": 1,
     "metadata": {},
     "output_type": "execute_result"
    }
   ],
   "source": [
    "input1 = {\n",
    "     \"name\": \"Gaurav\",\n",
    "     \"list\": [10, 20, 30],\n",
    "     \"dict\": {\n",
    "                \"a\": 1,\n",
    "                \"b\": 2\n",
    "           }\n",
    "}\n",
    "\n",
    "\"\"\"output = {\n",
    "     “name”: “Gaurav”,\n",
    "     “list.0” : 10,\n",
    "     “list.1” : 20,\n",
    "     “list.2” : 30,\n",
    "     “dict.a” : 1,\n",
    "     “dict.b” : 2   }\"\"\""
   ]
  },
  {
   "cell_type": "code",
   "execution_count": 17,
   "id": "58e94df0",
   "metadata": {},
   "outputs": [
    {
     "name": "stdout",
     "output_type": "stream",
     "text": [
      "{'name': 'Gaurav', 'list.0': 10, 'list.1': 20, 'list.2': 30, 'dict.a': 1, 'dict.b': 2}\n"
     ]
    }
   ],
   "source": [
    "result = {}\n",
    "for i in input1:\n",
    "    if isinstance(input1[i], str):\n",
    "        result[i] = input1[i]\n",
    "    elif isinstance(input1[i], list):\n",
    "        for element in range(len(input1[i])):\n",
    "            result[f'{i}.{element}'] = input1[i][element]\n",
    "    elif isinstance(input1[i], dict):\n",
    "        for element in input1[i]:\n",
    "            result[f'{i}.{element}'] = input1[i][element]\n",
    "            \n",
    "print(result)\n",
    "    "
   ]
  },
  {
   "cell_type": "code",
   "execution_count": 18,
   "id": "150b69f4",
   "metadata": {},
   "outputs": [],
   "source": [
    "import time\n",
    "def decor(func):\n",
    "    def inner():\n",
    "        tic = time.time()\n",
    "        func()\n",
    "        toc = time.time()\n",
    "        print(f\"Time take by this function is {toc-tic}\")\n",
    "        \n",
    "    return inner\n",
    "\n",
    "\n",
    "@decor\n",
    "def myfunction():\n",
    "    a = []\n",
    "    for i in range(1000):\n",
    "        a.append(i**2)"
   ]
  },
  {
   "cell_type": "code",
   "execution_count": 19,
   "id": "15b03d79",
   "metadata": {},
   "outputs": [
    {
     "name": "stdout",
     "output_type": "stream",
     "text": [
      "Time take by this function is 0.0010809898376464844\n"
     ]
    }
   ],
   "source": [
    "myfunction()"
   ]
  },
  {
   "cell_type": "code",
   "execution_count": null,
   "id": "aea86f24",
   "metadata": {},
   "outputs": [],
   "source": []
  }
 ],
 "metadata": {
  "kernelspec": {
   "display_name": "Python 3",
   "language": "python",
   "name": "python3"
  },
  "language_info": {
   "codemirror_mode": {
    "name": "ipython",
    "version": 3
   },
   "file_extension": ".py",
   "mimetype": "text/x-python",
   "name": "python",
   "nbconvert_exporter": "python",
   "pygments_lexer": "ipython3",
   "version": "3.8.8"
  }
 },
 "nbformat": 4,
 "nbformat_minor": 5
}
