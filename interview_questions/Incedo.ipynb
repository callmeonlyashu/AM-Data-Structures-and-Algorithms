{
 "cells": [
  {
   "cell_type": "code",
   "execution_count": 72,
   "metadata": {},
   "outputs": [],
   "source": [
    "\"\"\"\n",
    "listinput = ['lump', 'eat', 'me', 'mar', 'tea', 'em', 'plum', 'ram']\n",
    "output = [['lump', 'plum'], ['eat', 'tea'], ['em', 'me'], ['mar', 'ram']]\n",
    "\"\"\"\n",
    "\n",
    "\n",
    "\n",
    "def group(lst):\n",
    "\n",
    "    result = []\n",
    "\n",
    "    for i,k in enumerate( lst ):\n",
    "        for l,j in enumerate( lst ):\n",
    "            if sorted(k) == sorted(j) and k != j and sorted([ lst[i], lst[l] ]) not in result:\n",
    "                result.append( sorted([ lst[i], lst[l] ]) )\n",
    "\n",
    "    return result"
   ]
  },
  {
   "cell_type": "code",
   "execution_count": 73,
   "metadata": {},
   "outputs": [
    {
     "data": {
      "text/plain": [
       "[['lump', 'plum'], ['eat', 'tea'], ['em', 'me'], ['mar', 'ram']]"
      ]
     },
     "execution_count": 73,
     "metadata": {},
     "output_type": "execute_result"
    }
   ],
   "source": [
    "group(['lump', 'eat', 'me', 'mar', 'tea', 'em', 'plum', 'ram'])"
   ]
  },
  {
   "cell_type": "code",
   "execution_count": 74,
   "metadata": {},
   "outputs": [],
   "source": [
    "\"\"\"\n",
    "input = [0,1,0,3,12]\n",
    "o/p=[1,3,12,0,0]\n",
    "\"\"\"\n",
    "\n",
    "def moveZeros( lst ):\n",
    "\n",
    "    newLst = []\n",
    "    zeroLst = []\n",
    "    count = 0\n",
    "    for i in lst:\n",
    "        if i != 0:\n",
    "            newLst.append( i )\n",
    "        else:\n",
    "            zeroLst.append( 0 )\n",
    "\n",
    "    newLst.extend(zeroLst)\n",
    "    print( newLst )"
   ]
  },
  {
   "cell_type": "code",
   "execution_count": 75,
   "metadata": {},
   "outputs": [
    {
     "name": "stdout",
     "output_type": "stream",
     "text": [
      "[1, 3, 12, 0, 0]\n"
     ]
    }
   ],
   "source": [
    "moveZeros([0,1,0,3,12])"
   ]
  },
  {
   "cell_type": "code",
   "execution_count": 76,
   "metadata": {},
   "outputs": [],
   "source": [
    "def decor1( func ):\n",
    "\n",
    "\tdef decor2( arg1, arg2 ):\n",
    "\n",
    "\t\tprint( \"Decorated\" )\n",
    "\t\tprint( arg1 * arg2 )\n",
    "\t\tfunc( arg1, arg2 )\n",
    "\t\tprint( \"Decorated\" )\n",
    "\treturn decor2\n",
    "\n",
    "\n",
    "@decor1\n",
    "def normalFunction( a, b ):\n",
    "\tprint(a+b)\n",
    "\tprint(\"Text to be decorated\")"
   ]
  },
  {
   "cell_type": "code",
   "execution_count": 77,
   "metadata": {},
   "outputs": [
    {
     "name": "stdout",
     "output_type": "stream",
     "text": [
      "Decorated\n",
      "6\n",
      "5\n",
      "Text to be decorated\n",
      "Decorated\n"
     ]
    }
   ],
   "source": [
    "normalFunction(2,3)"
   ]
  },
  {
   "cell_type": "code",
   "execution_count": null,
   "metadata": {},
   "outputs": [],
   "source": []
  }
 ],
 "metadata": {
  "kernelspec": {
   "display_name": "Python 3",
   "language": "python",
   "name": "python3"
  },
  "language_info": {
   "codemirror_mode": {
    "name": "ipython",
    "version": 3
   },
   "file_extension": ".py",
   "mimetype": "text/x-python",
   "name": "python",
   "nbconvert_exporter": "python",
   "pygments_lexer": "ipython3",
   "version": "3.7.4"
  }
 },
 "nbformat": 4,
 "nbformat_minor": 2
}
