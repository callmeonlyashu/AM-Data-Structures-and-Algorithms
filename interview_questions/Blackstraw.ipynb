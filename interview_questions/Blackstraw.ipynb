{
 "cells": [
  {
   "cell_type": "markdown",
   "id": "20d35148",
   "metadata": {},
   "source": [
    "### Print pascals triangle in Python"
   ]
  },
  {
   "cell_type": "code",
   "execution_count": 92,
   "id": "b56a49aa",
   "metadata": {},
   "outputs": [
    {
     "name": "stdout",
     "output_type": "stream",
     "text": [
      "      \n",
      "     1 \n",
      "    1 1 \n",
      "   1 2 1 \n",
      "  1 3 3 1 \n",
      " 1 4 6 4 1 \n",
      "1 5 10 10 5 1 \n"
     ]
    }
   ],
   "source": [
    "def solve(n):\n",
    "   for i in range(n+1):\n",
    "      for j in range(n-i):\n",
    "         print(' ', end='')\n",
    "\n",
    "      C = 1\n",
    "      for j in range(1, i+1):\n",
    "         print(C, ' ', sep='', end='')\n",
    "         C = C * (i - j) // j\n",
    "      print()\n",
    "\n",
    "n = 6\n",
    "solve(n)"
   ]
  },
  {
   "cell_type": "code",
   "execution_count": null,
   "id": "424df9a1",
   "metadata": {},
   "outputs": [],
   "source": []
  }
 ],
 "metadata": {
  "kernelspec": {
   "display_name": "Python 3",
   "language": "python",
   "name": "python3"
  },
  "language_info": {
   "codemirror_mode": {
    "name": "ipython",
    "version": 3
   },
   "file_extension": ".py",
   "mimetype": "text/x-python",
   "name": "python",
   "nbconvert_exporter": "python",
   "pygments_lexer": "ipython3",
   "version": "3.8.8"
  }
 },
 "nbformat": 4,
 "nbformat_minor": 5
}
