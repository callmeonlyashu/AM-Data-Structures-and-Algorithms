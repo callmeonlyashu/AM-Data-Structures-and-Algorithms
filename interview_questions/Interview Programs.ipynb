{
 "cells": [
  {
   "cell_type": "code",
   "execution_count": 38,
   "metadata": {},
   "outputs": [],
   "source": [
    "\"\"\"\n",
    "Check if number is Palindrome or not.\n",
    "\"\"\"\n",
    "def palindromCheck(num):\n",
    "\n",
    "    numCheck = num\n",
    "    newNum = 0\n",
    "    while num > 0:\n",
    "        \n",
    "        digit = num % 10\n",
    "        num = num//10\n",
    "        \n",
    "        newNum = newNum * 10 + digit\n",
    "    \n",
    "    print(newNum)\n",
    "    if( numCheck == newNum ):\n",
    "        return True\n",
    "    else:\n",
    "        return False"
   ]
  },
  {
   "cell_type": "code",
   "execution_count": 39,
   "metadata": {},
   "outputs": [
    {
     "name": "stdout",
     "output_type": "stream",
     "text": [
      "111\n"
     ]
    },
    {
     "data": {
      "text/plain": [
       "True"
      ]
     },
     "execution_count": 39,
     "metadata": {},
     "output_type": "execute_result"
    }
   ],
   "source": [
    "palindromCheck(111)"
   ]
  },
  {
   "cell_type": "code",
   "execution_count": null,
   "metadata": {},
   "outputs": [],
   "source": []
  },
  {
   "cell_type": "code",
   "execution_count": 41,
   "metadata": {},
   "outputs": [
    {
     "name": "stdout",
     "output_type": "stream",
     "text": [
      "5467\n"
     ]
    }
   ],
   "source": [
    "\"\"\"\n",
    "Convert string to Number without using in-build typecast\n",
    "\"\"\" \n",
    "\n",
    "a = \"5467\"\n",
    "result = 0\n",
    "for digit in a:\n",
    "        result *= 10\n",
    "        for d in '0123456789':\n",
    "            result += (digit > d)\n",
    "print(result)"
   ]
  },
  {
   "cell_type": "code",
   "execution_count": null,
   "metadata": {},
   "outputs": [],
   "source": []
  },
  {
   "cell_type": "code",
   "execution_count": 42,
   "metadata": {},
   "outputs": [],
   "source": [
    "\"\"\"\n",
    "Program to count vowels in String\n",
    "\"\"\"\n",
    "\n",
    "from collections import Counter\n",
    "\n",
    "def countVowels( string = \"America\" ):\n",
    "    \n",
    "    countDict = dict( Counter(string.lower()) )\n",
    "    for keys, values in list( countDict.items() ):\n",
    "        if keys in 'aeiou':\n",
    "            pass\n",
    "        else:\n",
    "            del countDict[keys]\n",
    "    return countDict"
   ]
  },
  {
   "cell_type": "code",
   "execution_count": 43,
   "metadata": {},
   "outputs": [
    {
     "data": {
      "text/plain": [
       "{'a': 2, 'e': 1, 'i': 1}"
      ]
     },
     "execution_count": 43,
     "metadata": {},
     "output_type": "execute_result"
    }
   ],
   "source": [
    "countVowels()"
   ]
  },
  {
   "cell_type": "code",
   "execution_count": null,
   "metadata": {},
   "outputs": [],
   "source": []
  },
  {
   "cell_type": "code",
   "execution_count": 44,
   "metadata": {},
   "outputs": [],
   "source": [
    "\"\"\"Merge Two Lists into one\n",
    "\n",
    "for eg. \n",
    "\n",
    "lst1 = [1,2,3] \n",
    "lst2 = ['a', 'b', 'c']\n",
    "\n",
    "lst1 + lst2 = [ 1,'a',2,'b',3,'c' ]  \"\"\"\n",
    "\n",
    "from itertools import chain\n",
    "def mergeLists( a, b ):\n",
    "    \n",
    "    return list(chain(*zip(a,b)))"
   ]
  },
  {
   "cell_type": "code",
   "execution_count": 45,
   "metadata": {},
   "outputs": [
    {
     "data": {
      "text/plain": [
       "[1, 'a', 2, 'b', 3, 'c']"
      ]
     },
     "execution_count": 45,
     "metadata": {},
     "output_type": "execute_result"
    }
   ],
   "source": [
    "mergeLists( [1,2,3], ['a', 'b', 'c'] )\n"
   ]
  },
  {
   "cell_type": "code",
   "execution_count": null,
   "metadata": {},
   "outputs": [],
   "source": []
  },
  {
   "cell_type": "code",
   "execution_count": 46,
   "metadata": {},
   "outputs": [],
   "source": [
    "\"\"\"\n",
    "Reverse sentence without reversing Characters\n",
    "\n",
    "\"\"\"\n",
    "\n",
    "def reverseSentence( strParams = 'I Like Python' ):\n",
    "\n",
    "    return ' '.join( strParams.split(' ')[::-1] )"
   ]
  },
  {
   "cell_type": "code",
   "execution_count": 47,
   "metadata": {},
   "outputs": [
    {
     "data": {
      "text/plain": [
       "'Python Like I'"
      ]
     },
     "execution_count": 47,
     "metadata": {},
     "output_type": "execute_result"
    }
   ],
   "source": [
    "reverseSentence()"
   ]
  },
  {
   "cell_type": "code",
   "execution_count": null,
   "metadata": {},
   "outputs": [],
   "source": []
  },
  {
   "cell_type": "code",
   "execution_count": 54,
   "metadata": {},
   "outputs": [],
   "source": [
    "\"\"\"\n",
    "Print reminder and quotient for two numbers without using division and multiplication operator\n",
    "\"\"\"\n",
    "\n",
    "def divide( divident, divisor ):\n",
    "    \n",
    "    count = 0\n",
    "    while divident >= divisor:\n",
    "        divident = divident-divisor\n",
    "        count += 1\n",
    "    print( f\"Quotient of the division is {count}\" )\n",
    "    print( f\"Reminder of the disision is {divident}\" )"
   ]
  },
  {
   "cell_type": "code",
   "execution_count": 56,
   "metadata": {},
   "outputs": [
    {
     "name": "stdout",
     "output_type": "stream",
     "text": [
      "Quotient of the division is 3\n",
      "Reminder of the disision is 1\n"
     ]
    }
   ],
   "source": [
    "divide( 13,4 )"
   ]
  },
  {
   "cell_type": "code",
   "execution_count": null,
   "metadata": {},
   "outputs": [],
   "source": []
  },
  {
   "cell_type": "code",
   "execution_count": 10,
   "metadata": {},
   "outputs": [],
   "source": [
    "\"\"\"\n",
    "       1\n",
    "     * 2 *\n",
    "   * * 3 * *\n",
    " * * * 4 * * *   \n",
    "\"\"\"\n",
    "\n",
    "\n",
    "def christmasTree(n):\n",
    "    z=n-1\n",
    "    x=1\n",
    "    count = 0\n",
    "    for i in range(0,n):\n",
    "        for i in range(0,z):\n",
    "            print(' ',end='')\n",
    "        for i in range(0,x):\n",
    "            if count == i:\n",
    "                print(i+1, end='')\n",
    "            else:\n",
    "                print('*', end='')\n",
    "        for i in range(0,z):\n",
    "            print(' ',end='')\n",
    "            \n",
    "        count += 1\n",
    "        x=x+2\n",
    "        z=z-1\n",
    "        print()"
   ]
  },
  {
   "cell_type": "code",
   "execution_count": 11,
   "metadata": {},
   "outputs": [
    {
     "name": "stdout",
     "output_type": "stream",
     "text": [
      "     1     \n",
      "    *2*    \n",
      "   **3**   \n",
      "  ***4***  \n",
      " ****5**** \n",
      "*****6*****\n"
     ]
    }
   ],
   "source": [
    "christmasTree(6)"
   ]
  },
  {
   "cell_type": "code",
   "execution_count": 9,
   "metadata": {},
   "outputs": [],
   "source": []
  },
  {
   "cell_type": "code",
   "execution_count": 36,
   "metadata": {},
   "outputs": [],
   "source": [
    "\"\"\"\n",
    "Function to sort digits of a number\n",
    "\"\"\"\n",
    "\n",
    "def sortDigitsOfNumber( num ):\n",
    "    \n",
    "    # Getting each digits of the number into a list\n",
    "    lstDigits = []\n",
    "    while num > 0:\n",
    "        lstDigits.append( num % 10 )\n",
    "        num = num // 10\n",
    "    \n",
    "    #Sorting the list.\n",
    "    lstDigits.sort()\n",
    "    \n",
    "    #Converting sorted list into number\n",
    "    j = 0\n",
    "    for i in lstDigits:\n",
    "        i = j*10 + i\n",
    "        j = i\n",
    "    \n",
    "    return i"
   ]
  },
  {
   "cell_type": "code",
   "execution_count": 37,
   "metadata": {},
   "outputs": [
    {
     "data": {
      "text/plain": [
       "3446677"
      ]
     },
     "execution_count": 37,
     "metadata": {},
     "output_type": "execute_result"
    }
   ],
   "source": [
    "sortDigitsOfNumber( 6473647 )"
   ]
  },
  {
   "cell_type": "code",
   "execution_count": null,
   "metadata": {},
   "outputs": [],
   "source": []
  }
 ],
 "metadata": {
  "kernelspec": {
   "display_name": "Python 3",
   "language": "python",
   "name": "python3"
  },
  "language_info": {
   "codemirror_mode": {
    "name": "ipython",
    "version": 3
   },
   "file_extension": ".py",
   "mimetype": "text/x-python",
   "name": "python",
   "nbconvert_exporter": "python",
   "pygments_lexer": "ipython3",
   "version": "3.7.4"
  }
 },
 "nbformat": 4,
 "nbformat_minor": 2
}
