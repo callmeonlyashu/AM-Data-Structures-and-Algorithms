{
 "cells": [
  {
   "cell_type": "code",
   "execution_count": 8,
   "metadata": {},
   "outputs": [
    {
     "ename": "SyntaxError",
     "evalue": "invalid syntax (<ipython-input-8-18174154e953>, line 4)",
     "output_type": "error",
     "traceback": [
      "\u001b[0;36m  File \u001b[0;32m\"<ipython-input-8-18174154e953>\"\u001b[0;36m, line \u001b[0;32m4\u001b[0m\n\u001b[0;31m    lst = [ i for i in a if i.isnumeric() i*5 else i + 'M'  ]\u001b[0m\n\u001b[0m                                          ^\u001b[0m\n\u001b[0;31mSyntaxError\u001b[0m\u001b[0;31m:\u001b[0m invalid syntax\n"
     ]
    }
   ],
   "source": [
    "a = [1,2,3,\"Ashutosh\"]\n",
    "#output = [5,10,15,\"AshutoshM\"]\n",
    "\n",
    "lst = [ i for i in a if i.isnumeric() i*5 else i + 'M'  ]"
   ]
  },
  {
   "cell_type": "code",
   "execution_count": 10,
   "metadata": {},
   "outputs": [
    {
     "name": "stdout",
     "output_type": "stream",
     "text": [
      "{'a': {'a': 'a'}, 'b': 2}\n"
     ]
    }
   ],
   "source": [
    "a = {\"a\":1, \"b\":2, \"a\":{\"a\":\"a\"}}\n",
    "print(a)"
   ]
  },
  {
   "cell_type": "code",
   "execution_count": 12,
   "metadata": {},
   "outputs": [
    {
     "name": "stdout",
     "output_type": "stream",
     "text": [
      "{'az': 'a', 'bz': 'b', 'cz': 'c'}\n"
     ]
    }
   ],
   "source": [
    "a = {\"a\":0,\"b\":1,\"c\":2}\n",
    "b = {\"az\":0,\"bz\":1,\"cz\":2}\n",
    "\n",
    "output = {\"az\":{\"a\":0},\"bz\":{\"b\":1},\"cz\":{\"c\":2}}\n",
    "\n",
    "print( dict( zip( b, a ) ) )"
   ]
  },
  {
   "cell_type": "code",
   "execution_count": null,
   "metadata": {},
   "outputs": [],
   "source": []
  }
 ],
 "metadata": {
  "kernelspec": {
   "display_name": "Python 3",
   "language": "python",
   "name": "python3"
  },
  "language_info": {
   "codemirror_mode": {
    "name": "ipython",
    "version": 3
   },
   "file_extension": ".py",
   "mimetype": "text/x-python",
   "name": "python",
   "nbconvert_exporter": "python",
   "pygments_lexer": "ipython3",
   "version": "3.7.4"
  }
 },
 "nbformat": 4,
 "nbformat_minor": 2
}
