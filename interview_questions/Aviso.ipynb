{
 "cells": [
  {
   "cell_type": "code",
   "execution_count": 2,
   "id": "0e0e85ed",
   "metadata": {},
   "outputs": [
    {
     "data": {
      "text/plain": [
       "'\\noutput: [1, 3,5,7,6,9,10]\\n'"
      ]
     },
     "execution_count": 2,
     "metadata": {},
     "output_type": "execute_result"
    }
   ],
   "source": [
    "\n",
    "input = [1, 3, 5, 5, 7, 1, 6, 9, 10]\n",
    "\n",
    "\"\"\"\n",
    "output: [1, 3,5,7,6,9,10]\n",
    "\"\"\""
   ]
  },
  {
   "cell_type": "code",
   "execution_count": 6,
   "id": "535c853a",
   "metadata": {},
   "outputs": [
    {
     "name": "stdout",
     "output_type": "stream",
     "text": [
      "[1, 3, 5, 6, 7, 9, 10]\n"
     ]
    }
   ],
   "source": [
    "non_repeated = set(input)\n",
    "result = list(non_repeated)\n",
    "print(result)"
   ]
  },
  {
   "cell_type": "code",
   "execution_count": 11,
   "id": "f493a289",
   "metadata": {},
   "outputs": [
    {
     "name": "stdout",
     "output_type": "stream",
     "text": [
      "[1, 3, 5, 7, 6, 9, 10]\n"
     ]
    }
   ],
   "source": [
    "from collections import Counter\n",
    "\n",
    "result = dict(Counter(input))\n",
    "print(list(result.keys()))"
   ]
  },
  {
   "cell_type": "code",
   "execution_count": 14,
   "id": "c708fe5c",
   "metadata": {},
   "outputs": [
    {
     "name": "stdout",
     "output_type": "stream",
     "text": [
      "[1, 3, 5, 7, 6, 9, 10]\n"
     ]
    }
   ],
   "source": [
    "result = []\n",
    "for i in input:\n",
    "    if i not in result:\n",
    "        result.append(i)\n",
    "        \n",
    "\n",
    "print(result)"
   ]
  },
  {
   "cell_type": "code",
   "execution_count": null,
   "id": "598ccba6",
   "metadata": {},
   "outputs": [],
   "source": []
  },
  {
   "cell_type": "code",
   "execution_count": 32,
   "id": "5e30b7f2",
   "metadata": {},
   "outputs": [],
   "source": [
    "def search_binary(lst, keyword):\n",
    "    \n",
    "    root = len(lst)//2\n",
    "    print(lst[root])\n",
    "    \n",
    "    if keyword == lst[root]:\n",
    "        return root\n",
    "    elif keyword < lst[root]:\n",
    "        search_binary(lst[:root], keyword)\n",
    "    else:\n",
    "        search_binary(lst[root+1:], keyword)"
   ]
  },
  {
   "cell_type": "code",
   "execution_count": 33,
   "id": "75021dfd",
   "metadata": {},
   "outputs": [
    {
     "name": "stdout",
     "output_type": "stream",
     "text": [
      "6\n"
     ]
    },
    {
     "data": {
      "text/plain": [
       "3"
      ]
     },
     "execution_count": 33,
     "metadata": {},
     "output_type": "execute_result"
    }
   ],
   "source": [
    "search_binary([1, 3, 5, 6, 7, 9, 10], 6)"
   ]
  },
  {
   "cell_type": "code",
   "execution_count": null,
   "id": "b45e487c",
   "metadata": {},
   "outputs": [],
   "source": []
  }
 ],
 "metadata": {
  "kernelspec": {
   "display_name": "Python 3",
   "language": "python",
   "name": "python3"
  },
  "language_info": {
   "codemirror_mode": {
    "name": "ipython",
    "version": 3
   },
   "file_extension": ".py",
   "mimetype": "text/x-python",
   "name": "python",
   "nbconvert_exporter": "python",
   "pygments_lexer": "ipython3",
   "version": "3.8.8"
  }
 },
 "nbformat": 4,
 "nbformat_minor": 5
}
