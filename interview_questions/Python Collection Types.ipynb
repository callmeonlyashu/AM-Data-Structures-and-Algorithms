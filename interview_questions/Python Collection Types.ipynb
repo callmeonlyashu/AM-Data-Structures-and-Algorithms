{
 "cells": [
  {
   "cell_type": "code",
   "execution_count": 11,
   "metadata": {},
   "outputs": [
    {
     "name": "stdout",
     "output_type": "stream",
     "text": [
      "notPresent\n"
     ]
    }
   ],
   "source": [
    "# Default Dict - Doesn't throw error if dict key is not present.\n",
    "\n",
    "import collections\n",
    "\n",
    "d = collections.defaultdict(lambda: 'notPresent')\n",
    "\n",
    "d1 = {}\n",
    "\n",
    "#print( d1[3] )\n",
    "print(d[3])"
   ]
  },
  {
   "cell_type": "code",
   "execution_count": 15,
   "metadata": {},
   "outputs": [
    {
     "name": "stdout",
     "output_type": "stream",
     "text": [
      "odict_items([('a', 1), ('b', 2), ('c', 3)])\n"
     ]
    }
   ],
   "source": [
    "# OrderedDict - Stores element in same order as inserted.\n",
    "\n",
    "d = collections.OrderedDict()\n",
    "d['a'] = 1\n",
    "d['b'] = 2\n",
    "d['c'] = 3\n",
    "\n",
    "print( d.items() )"
   ]
  },
  {
   "cell_type": "code",
   "execution_count": 19,
   "metadata": {},
   "outputs": [
    {
     "name": "stdout",
     "output_type": "stream",
     "text": [
      "frozenset({1, 2, 3, 4, 5, 6, 7, 8})\n"
     ]
    }
   ],
   "source": [
    "# Frozenset - Are Immutable unlike sets\n",
    "\n",
    "l = [1,2,3,4,5,6,7,8]\n",
    "s = frozenset( l )\n",
    "print(s)"
   ]
  },
  {
   "cell_type": "code",
   "execution_count": 22,
   "metadata": {},
   "outputs": [
    {
     "name": "stdout",
     "output_type": "stream",
     "text": [
      "19\n",
      "19\n"
     ]
    }
   ],
   "source": [
    "# NamedTuple - Is accessible using keyname and index both\n",
    "\n",
    "Student = collections.namedtuple('Student',['name','age','DOB'])  \n",
    "      \n",
    " \n",
    "S = Student('Nandini','19','2541997')  \n",
    "\n",
    "print( S[1] ) # Also print 19\n",
    "print( S.age ) # Also print 19"
   ]
  },
  {
   "cell_type": "code",
   "execution_count": null,
   "metadata": {},
   "outputs": [],
   "source": []
  }
 ],
 "metadata": {
  "kernelspec": {
   "display_name": "Python 3",
   "language": "python",
   "name": "python3"
  },
  "language_info": {
   "codemirror_mode": {
    "name": "ipython",
    "version": 3
   },
   "file_extension": ".py",
   "mimetype": "text/x-python",
   "name": "python",
   "nbconvert_exporter": "python",
   "pygments_lexer": "ipython3",
   "version": "3.7.4"
  }
 },
 "nbformat": 4,
 "nbformat_minor": 2
}
