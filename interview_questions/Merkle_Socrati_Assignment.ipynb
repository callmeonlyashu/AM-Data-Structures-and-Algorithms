{
 "cells": [
  {
   "cell_type": "code",
   "execution_count": 1,
   "metadata": {},
   "outputs": [],
   "source": [
    "# Given a binary tree, find the horizontal distance between 2 nodes at the same level, also\n",
    "#counting the position where the node is not present."
   ]
  },
  {
   "cell_type": "code",
   "execution_count": 30,
   "metadata": {},
   "outputs": [
    {
     "name": "stdout",
     "output_type": "stream",
     "text": [
      "{5: '', 2: '0', 7: '00', 9: '000', 3: '1', 1: '11', 4: '110', 6: '111'}\n",
      "5\n"
     ]
    }
   ],
   "source": [
    "class Node:\n",
    "    def __init__(self, data, left=None, right=None):\n",
    "        self.data = data\n",
    "        self.left = left\n",
    "        self.right = right\n",
    "\n",
    "# Create a binary tree with the nodes\n",
    "def createBinaryTree():\n",
    "    root = Node(5)\n",
    "    root.left = Node(2)\n",
    "    root.right = Node(3)\n",
    "    root.left.left = Node(7)\n",
    "    root.left.left.left = Node(9)\n",
    "    root.right.right = Node(1)\n",
    "    root.right.right.right = Node(6)\n",
    "    root.right.right.left = Node(4)\n",
    "\n",
    "createBinaryTree()\n",
    "\n",
    "# create a dictionary of with binary values.\n",
    "\n",
    "def binaryDict(root, d={}, path=\"\"):\n",
    "    if root:\n",
    "        d[root.data] = path\n",
    "        binaryDict(root.left, d, path+\"0\")\n",
    "        binaryDict(root.right, d, path+\"1\")\n",
    "    return d\n",
    "\n",
    "d = binaryDict(root)\n",
    "\n",
    "print(d)\n",
    "\n",
    "val1, val2 = 9, 4\n",
    "\n",
    "# convert the numbers to the corresponding paths:\n",
    "node1 = d.get(val1, None)\n",
    "node2 = d.get(val2, None)\n",
    "\n",
    "# check whether these nodes actually exist\n",
    "if node1 is None or node2 is None:\n",
    "    print(\"At least one value is invalid or not found\")\n",
    "    exit()\n",
    "\n",
    "# If the paths have different lengths, the nodes are not on the same level\n",
    "if len(node1) != len(node2):\n",
    "    print(\"Nodes are not on the same level\")\n",
    "    exit()\n",
    "\n",
    "# Use the magic of binary numbers:\n",
    "\n",
    "dist = abs(int(node1, 2) - int(node2, 2)) - 1\n",
    "print(dist)"
   ]
  },
  {
   "cell_type": "code",
   "execution_count": null,
   "metadata": {},
   "outputs": [],
   "source": []
  },
  {
   "cell_type": "code",
   "execution_count": null,
   "metadata": {},
   "outputs": [],
   "source": []
  }
 ],
 "metadata": {
  "kernelspec": {
   "display_name": "Python 3",
   "language": "python",
   "name": "python3"
  },
  "language_info": {
   "codemirror_mode": {
    "name": "ipython",
    "version": 3
   },
   "file_extension": ".py",
   "mimetype": "text/x-python",
   "name": "python",
   "nbconvert_exporter": "python",
   "pygments_lexer": "ipython3",
   "version": "3.8.8"
  }
 },
 "nbformat": 4,
 "nbformat_minor": 2
}
