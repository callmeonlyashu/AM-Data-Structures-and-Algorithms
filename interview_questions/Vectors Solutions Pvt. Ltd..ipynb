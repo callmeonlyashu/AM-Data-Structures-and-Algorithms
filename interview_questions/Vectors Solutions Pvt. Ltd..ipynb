{
 "cells": [
  {
   "cell_type": "code",
   "execution_count": 1,
   "metadata": {},
   "outputs": [],
   "source": [
    "a = ( i for i in range(11) )"
   ]
  },
  {
   "cell_type": "code",
   "execution_count": 3,
   "metadata": {},
   "outputs": [
    {
     "name": "stdout",
     "output_type": "stream",
     "text": [
      "(0, 1, 2, 3, 4, 5, 6, 7, 8, 9, 10)\n"
     ]
    }
   ],
   "source": [
    "print(tuple(a))"
   ]
  },
  {
   "cell_type": "code",
   "execution_count": 5,
   "metadata": {},
   "outputs": [],
   "source": [
    "#@dec_name1\n",
    "#@dec_name2\n",
    "def abc():\n",
    "    pass\n",
    "\n"
   ]
  },
  {
   "cell_type": "code",
   "execution_count": 9,
   "metadata": {},
   "outputs": [
    {
     "name": "stdout",
     "output_type": "stream",
     "text": [
      "[('a', 'f'), ('b', 'g'), ('c', 'h'), ('d', 'i'), ('e', 'j')]\n",
      "['af', 'bg', 'ch', 'di', 'ej']\n"
     ]
    }
   ],
   "source": [
    "a = ['a', 'b', 'c', 'd', 'e']\n",
    "b = ['f', 'g', 'h', 'i', 'j' ]\n",
    "\n",
    "c = []\n",
    "\n",
    "for i, j in enumerate(a):\n",
    "    for k, l in enumerate(b):\n",
    "        if i == k:\n",
    "            c.append( j + l )\n",
    "            \n",
    "print(c)"
   ]
  },
  {
   "cell_type": "code",
   "execution_count": 10,
   "metadata": {},
   "outputs": [],
   "source": [
    "def pyramid(n):\n",
    "    \n",
    "    for i in range(n):\n",
    "        print( '*'*i )"
   ]
  },
  {
   "cell_type": "code",
   "execution_count": 12,
   "metadata": {},
   "outputs": [
    {
     "name": "stdout",
     "output_type": "stream",
     "text": [
      "\n",
      "*\n",
      "**\n",
      "***\n",
      "****\n",
      "*****\n",
      "******\n"
     ]
    }
   ],
   "source": [
    "pyramid(7)"
   ]
  },
  {
   "cell_type": "code",
   "execution_count": 17,
   "metadata": {},
   "outputs": [
    {
     "name": "stdout",
     "output_type": "stream",
     "text": [
      "a3b4c5\n"
     ]
    }
   ],
   "source": [
    "#'aaabbbbcccc'\n",
    "#'a3b4c5'\n",
    "\n",
    "from collections import Counter\n",
    "s = 'aaabbbbccccc'\n",
    "\n",
    "dct = Counter(s)\n",
    "\n",
    "newS =''\n",
    "for i, j in dct.items():\n",
    "    newS  += i + str(j)\n",
    "\n",
    "print( newS )"
   ]
  },
  {
   "cell_type": "code",
   "execution_count": null,
   "metadata": {},
   "outputs": [],
   "source": []
  },
  {
   "cell_type": "code",
   "execution_count": null,
   "metadata": {},
   "outputs": [],
   "source": []
  }
 ],
 "metadata": {
  "kernelspec": {
   "display_name": "Python 3",
   "language": "python",
   "name": "python3"
  },
  "language_info": {
   "codemirror_mode": {
    "name": "ipython",
    "version": 3
   },
   "file_extension": ".py",
   "mimetype": "text/x-python",
   "name": "python",
   "nbconvert_exporter": "python",
   "pygments_lexer": "ipython3",
   "version": "3.7.4"
  }
 },
 "nbformat": 4,
 "nbformat_minor": 2
}
