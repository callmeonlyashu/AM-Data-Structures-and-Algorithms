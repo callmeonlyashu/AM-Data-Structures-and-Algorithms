{
 "cells": [
  {
   "cell_type": "code",
   "execution_count": 1,
   "id": "10ebe375",
   "metadata": {},
   "outputs": [
    {
     "name": "stdout",
     "output_type": "stream",
     "text": [
      "1\n",
      "2\n",
      "3\n"
     ]
    }
   ],
   "source": [
    "# 1,1,2,3,5,8,13\n",
    "\n",
    "\n",
    "def generate_fibonnaci():\n",
    "    prev = 0\n",
    "    nxt = 1\n",
    "    for i in range(10):\n",
    "        yield prev+nxt\n",
    "        temp = nxt\n",
    "        nxt = prev+nxt\n",
    "        prev = temp\n",
    "    \n",
    "fib = generate_fibonnaci()\n",
    "\n",
    "print(fib.__next__())\n",
    "print(fib.__next__())\n",
    "print(fib.__next__())\n",
    "\n",
    "\n",
    "\n"
   ]
  },
  {
   "cell_type": "code",
   "execution_count": 2,
   "id": "5490ff19",
   "metadata": {},
   "outputs": [
    {
     "name": "stdout",
     "output_type": "stream",
     "text": [
      "47\n",
      "45\n"
     ]
    }
   ],
   "source": [
    "# Online Python compiler (interpreter) to run Python online.\n",
    "# Write Python 3 code in this online editor and run it.\n",
    " \n",
    "lst = [47, 24,12,45,23,1,4,2]\n",
    "length = len(lst)\n",
    "\n",
    "\n",
    "first = lst[0]\n",
    "second = 0\n",
    "for i in lst:\n",
    "    if i > first:\n",
    "        second = first\n",
    "        first = i\n",
    "    \n",
    "    if i > second and i < first:\n",
    "        second = i\n",
    "        \n",
    "\n",
    "print(first)\n",
    "print(second)\n",
    "    \n"
   ]
  },
  {
   "cell_type": "code",
   "execution_count": null,
   "id": "3a07a99c",
   "metadata": {},
   "outputs": [],
   "source": []
  }
 ],
 "metadata": {
  "kernelspec": {
   "display_name": "Python 3",
   "language": "python",
   "name": "python3"
  },
  "language_info": {
   "codemirror_mode": {
    "name": "ipython",
    "version": 3
   },
   "file_extension": ".py",
   "mimetype": "text/x-python",
   "name": "python",
   "nbconvert_exporter": "python",
   "pygments_lexer": "ipython3",
   "version": "3.8.8"
  }
 },
 "nbformat": 4,
 "nbformat_minor": 5
}
