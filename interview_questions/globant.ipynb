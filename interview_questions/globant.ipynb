{
 "cells": [
  {
   "cell_type": "code",
   "execution_count": 1,
   "id": "05e24641",
   "metadata": {},
   "outputs": [],
   "source": [
    "# 192.168.2.50 - 192.168.2.150 \n",
    "def generator():\n",
    "    pass"
   ]
  },
  {
   "cell_type": "code",
   "execution_count": 9,
   "id": "6b0d0dc4",
   "metadata": {},
   "outputs": [],
   "source": [
    "import time\n",
    "def decorator(func):\n",
    "    def inside():\n",
    "        tic = time.time()\n",
    "        func()\n",
    "        toc = time.time()\n",
    "        print(f\"Time taken by the function is {toc-tic} ms\")\n",
    "    return inside\n",
    "        \n",
    "@decorator\n",
    "def func():\n",
    "    a = []\n",
    "    for i in range(0,100):\n",
    "        a.append(i**i)\n",
    "    \n",
    "    return a\n"
   ]
  },
  {
   "cell_type": "code",
   "execution_count": 10,
   "id": "42f14665",
   "metadata": {},
   "outputs": [
    {
     "name": "stdout",
     "output_type": "stream",
     "text": [
      "Time taken by the function is 0.00031304359436035156 ms\n"
     ]
    }
   ],
   "source": [
    "func()"
   ]
  },
  {
   "cell_type": "code",
   "execution_count": 14,
   "id": "766b29cb",
   "metadata": {},
   "outputs": [
    {
     "name": "stdout",
     "output_type": "stream",
     "text": [
      "[0, 4, 16, 36, 64]\n"
     ]
    }
   ],
   "source": [
    "a = [i**2 for i in range(0,10) if i %2 == 0  ]\n",
    "print(a)"
   ]
  },
  {
   "cell_type": "code",
   "execution_count": null,
   "id": "6fb8f725",
   "metadata": {},
   "outputs": [],
   "source": [
    "\"\"\"\n",
    "SELECT max(salary) FROM employees WHERE salary < (SELECT max(salary) FROM employees)\n",
    "\"\"\""
   ]
  }
 ],
 "metadata": {
  "kernelspec": {
   "display_name": "Python 3",
   "language": "python",
   "name": "python3"
  },
  "language_info": {
   "codemirror_mode": {
    "name": "ipython",
    "version": 3
   },
   "file_extension": ".py",
   "mimetype": "text/x-python",
   "name": "python",
   "nbconvert_exporter": "python",
   "pygments_lexer": "ipython3",
   "version": "3.8.8"
  }
 },
 "nbformat": 4,
 "nbformat_minor": 5
}
