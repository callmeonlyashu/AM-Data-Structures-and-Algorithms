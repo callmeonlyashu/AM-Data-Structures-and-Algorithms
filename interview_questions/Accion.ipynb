{
 "cells": [
  {
   "cell_type": "code",
   "execution_count": 19,
   "metadata": {},
   "outputs": [
    {
     "name": "stdout",
     "output_type": "stream",
     "text": [
      "-1\n"
     ]
    }
   ],
   "source": [
    "l1 = []\n",
    "\n",
    "def getPosition( lst, element ):\n",
    "    if element in lst:\n",
    "        for i, j in enumerate( lst ):\n",
    "            if lst[i] == element:\n",
    "                return i\n",
    "    else:\n",
    "       return -1\n",
    "        \n",
    "print( getPosition( l1, 6 ) )"
   ]
  },
  {
   "cell_type": "code",
   "execution_count": 20,
   "metadata": {},
   "outputs": [],
   "source": [
    "# Student ---\n",
    "\n",
    "/student/<id>/"
   ]
  },
  {
   "cell_type": "code",
   "execution_count": 2,
   "metadata": {},
   "outputs": [
    {
     "data": {
      "text/plain": [
       "'Table A --> Column ID --> Values (1,1,1)\\nTable B --> Column ID --> Values (1,1,1,1)\\n\\nabc.py \\n\\ndev >> '"
      ]
     },
     "execution_count": 2,
     "metadata": {},
     "output_type": "execute_result"
    }
   ],
   "source": [
    "\"\"\"Table A --> Column ID --> Values (1,1,1)\n",
    "Table B --> Column ID --> Values (1,1,1,1)\n",
    "\n",
    "abc.py \n",
    "\n",
    "dev >> \"\"\""
   ]
  },
  {
   "cell_type": "code",
   "execution_count": 28,
   "metadata": {},
   "outputs": [
    {
     "name": "stdout",
     "output_type": "stream",
     "text": [
      "7--8\n",
      "8--15\n",
      "15--16\n",
      "[2]\n"
     ]
    }
   ],
   "source": [
    "#lst = [7,8,9,1,2,3,10,11,12]\n",
    "\n",
    "lst = [7,8,15,16]\n",
    "\n",
    "prv = lst[0]\n",
    "sm = 1\n",
    "lst1 = []\n",
    "for i in lst[1:]:\n",
    "    print( str( prv ) + '--' + str( i ) )\n",
    "    \n",
    "    if prv+1 == i:\n",
    "        sm += 1\n",
    "    else:\n",
    "        lst1.append( sm )\n",
    "        sm = 1\n",
    "    prv = i\n",
    "    \n",
    "print( lst1 )"
   ]
  },
  {
   "cell_type": "code",
   "execution_count": null,
   "metadata": {},
   "outputs": [],
   "source": []
  }
 ],
 "metadata": {
  "kernelspec": {
   "display_name": "Python 3",
   "language": "python",
   "name": "python3"
  },
  "language_info": {
   "codemirror_mode": {
    "name": "ipython",
    "version": 3
   },
   "file_extension": ".py",
   "mimetype": "text/x-python",
   "name": "python",
   "nbconvert_exporter": "python",
   "pygments_lexer": "ipython3",
   "version": "3.7.4"
  }
 },
 "nbformat": 4,
 "nbformat_minor": 2
}
