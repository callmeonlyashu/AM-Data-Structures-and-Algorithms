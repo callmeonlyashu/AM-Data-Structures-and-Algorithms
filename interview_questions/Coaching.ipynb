{
 "cells": [
  {
   "cell_type": "code",
   "execution_count": 11,
   "metadata": {},
   "outputs": [],
   "source": [
    "# Programming Langugage:- Language Language to interact with Computers"
   ]
  },
  {
   "cell_type": "code",
   "execution_count": 12,
   "metadata": {},
   "outputs": [],
   "source": [
    "#1. Low Level - Machine Language( 0, 1 ), Assembly Language( SUM, SUB ), Assembler, ( Architecture Dependent, Hard to read and write ) )"
   ]
  },
  {
   "cell_type": "code",
   "execution_count": 13,
   "metadata": {},
   "outputs": [],
   "source": [
    "#2. Middle Level language - C Language ( Architecture Dependent ) Compiler, Functional Programming."
   ]
  },
  {
   "cell_type": "code",
   "execution_count": 6,
   "metadata": {},
   "outputs": [],
   "source": [
    "#3. High Level Language - C++, Java, Python, PHP ( Intrepreter, Compiler ), Object Oriented Programming OOPs"
   ]
  },
  {
   "cell_type": "code",
   "execution_count": 14,
   "metadata": {},
   "outputs": [],
   "source": [
    "###################################\n",
    "# Python\n",
    "###################################"
   ]
  },
  {
   "cell_type": "code",
   "execution_count": 15,
   "metadata": {},
   "outputs": [],
   "source": [
    "#1. Download Python3 \n",
    "#2. Download IDE, Sublime, Atom, VS Code, NotePad++"
   ]
  },
  {
   "cell_type": "code",
   "execution_count": 17,
   "metadata": {},
   "outputs": [],
   "source": [
    "# HOW TO RUN PYTHON CODE\n",
    "#1. Create a file with .py extension.\n",
    "#2. Save it in a directory\n",
    "#3. Navigate through that directory \n",
    "#4. Open CMD and run python3 <file_name>"
   ]
  },
  {
   "cell_type": "code",
   "execution_count": null,
   "metadata": {},
   "outputs": [],
   "source": [
    "#1. HomeWork - Write a program to print your name 10 times"
   ]
  },
  {
   "cell_type": "code",
   "execution_count": null,
   "metadata": {},
   "outputs": [],
   "source": []
  }
 ],
 "metadata": {
  "kernelspec": {
   "display_name": "Python 3",
   "language": "python",
   "name": "python3"
  },
  "language_info": {
   "codemirror_mode": {
    "name": "ipython",
    "version": 3
   },
   "file_extension": ".py",
   "mimetype": "text/x-python",
   "name": "python",
   "nbconvert_exporter": "python",
   "pygments_lexer": "ipython3",
   "version": "3.7.4"
  }
 },
 "nbformat": 4,
 "nbformat_minor": 2
}
