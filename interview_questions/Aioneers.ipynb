{
 "cells": [
  {
   "cell_type": "code",
   "execution_count": 1,
   "id": "2b8780ec",
   "metadata": {},
   "outputs": [
    {
     "data": {
      "text/plain": [
       "'\\nDivide Array in Sets of K Consecutive Numbers\\nGiven an array of integers nums and a positive integer k, check whether it is possible to divide this array into sets of k consecutive numbers\\nReturn true if it is possible. Otherwise, return false\\nExample:\\nInput: nums = [1,2,7,3,4,4,5,6], k = 4\\nOutput: true\\nExplanation: Array can be divided into [1,2,7,3] and [4,4,5,6]\\n\\n'"
      ]
     },
     "execution_count": 1,
     "metadata": {},
     "output_type": "execute_result"
    }
   ],
   "source": [
    "\"\"\"\n",
    "Divide Array in Sets of K Consecutive Numbers\n",
    "Given an array of integers nums and a positive integer k, check whether it is possible to divide this array into sets of k consecutive numbers\n",
    "Return true if it is possible. Otherwise, return false\n",
    "Example:\n",
    "Input: nums = [1,2,7,3,4,4,5,6], k = 4\n",
    "Output: true\n",
    "Explanation: Array can be divided into [1,2,7,3] and [4,4,5,6]\n",
    "\n",
    "\"\"\""
   ]
  },
  {
   "cell_type": "code",
   "execution_count": 9,
   "id": "c04201eb",
   "metadata": {},
   "outputs": [
    {
     "name": "stdout",
     "output_type": "stream",
     "text": [
      "9\n"
     ]
    }
   ],
   "source": [
    "nums = [1,2,7,3,4,4,5,6,8]\n",
    "k = 4\n",
    "length = len(nums)\n",
    "print(length)"
   ]
  },
  {
   "cell_type": "code",
   "execution_count": 10,
   "id": "77d8e83a",
   "metadata": {},
   "outputs": [
    {
     "name": "stdout",
     "output_type": "stream",
     "text": [
      "False\n"
     ]
    }
   ],
   "source": [
    "result = length%k\n",
    "if result!=0:\n",
    "    print(False)\n",
    "else:\n",
    "    print(True)"
   ]
  },
  {
   "cell_type": "code",
   "execution_count": 12,
   "id": "8cf9d298",
   "metadata": {},
   "outputs": [
    {
     "data": {
      "text/plain": [
       "[1, 2, 7, 3]"
      ]
     },
     "execution_count": 12,
     "metadata": {},
     "output_type": "execute_result"
    }
   ],
   "source": [
    "nums[:k]"
   ]
  },
  {
   "cell_type": "code",
   "execution_count": 15,
   "id": "e9561e01",
   "metadata": {},
   "outputs": [
    {
     "data": {
      "text/plain": [
       "[4, 5, 6, 8]"
      ]
     },
     "execution_count": 15,
     "metadata": {},
     "output_type": "execute_result"
    }
   ],
   "source": [
    "nums[k+1:]"
   ]
  },
  {
   "cell_type": "code",
   "execution_count": 19,
   "id": "290c2f48",
   "metadata": {},
   "outputs": [],
   "source": [
    "parts = length//k"
   ]
  },
  {
   "cell_type": "code",
   "execution_count": 26,
   "id": "a879c461",
   "metadata": {},
   "outputs": [
    {
     "name": "stdout",
     "output_type": "stream",
     "text": [
      "[1, 2, 7, 3, 4, 4, 5, 6, 8]\n",
      "[1, 2, 7, 3, 4, 4, 5, 6, 8]\n",
      "[1, 2, 7, 3, 4, 4, 5, 6, 8]\n"
     ]
    }
   ],
   "source": [
    "print(nums[:k])\n",
    "for i in range(parts):\n",
    "    k = k*\n",
    "    print(nums[k:])\n",
    "    "
   ]
  },
  {
   "cell_type": "code",
   "execution_count": 33,
   "id": "2da6cb53",
   "metadata": {},
   "outputs": [
    {
     "name": "stdout",
     "output_type": "stream",
     "text": [
      "[1, 2, 7, 3, 4, 4, 5, 6, 8]\n",
      "0\n",
      "0\n",
      "0\n",
      "0\n",
      "0\n",
      "0\n",
      "0\n",
      "0\n",
      "0\n"
     ]
    }
   ],
   "source": [
    "arr1 = []\n",
    "print(nums)\n",
    "for i in nums:\n",
    "    if len(arr1) != k:\n",
    "        arr1.append(i)\n",
    "        print(arr1)\n",
    "    "
   ]
  },
  {
   "cell_type": "code",
   "execution_count": null,
   "id": "37c92296",
   "metadata": {},
   "outputs": [],
   "source": []
  }
 ],
 "metadata": {
  "kernelspec": {
   "display_name": "Python 3",
   "language": "python",
   "name": "python3"
  },
  "language_info": {
   "codemirror_mode": {
    "name": "ipython",
    "version": 3
   },
   "file_extension": ".py",
   "mimetype": "text/x-python",
   "name": "python",
   "nbconvert_exporter": "python",
   "pygments_lexer": "ipython3",
   "version": "3.8.8"
  }
 },
 "nbformat": 4,
 "nbformat_minor": 5
}
