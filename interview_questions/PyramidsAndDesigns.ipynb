{
 "cells": [
  {
   "cell_type": "code",
   "execution_count": 109,
   "metadata": {},
   "outputs": [],
   "source": [
    "\"\"\"\n",
    "Write a Program to print\n",
    "*\n",
    "**\n",
    "***\n",
    "****\n",
    "*****\n",
    "\"\"\"\n",
    "\n",
    "def starPyramidLeft(n):\n",
    "    \n",
    "    for i in range(n):\n",
    "            print( (i+1)*'*' )"
   ]
  },
  {
   "cell_type": "code",
   "execution_count": 110,
   "metadata": {},
   "outputs": [
    {
     "name": "stdout",
     "output_type": "stream",
     "text": [
      "*\n",
      "**\n",
      "***\n",
      "****\n",
      "*****\n",
      "******\n"
     ]
    }
   ],
   "source": [
    "starPyramidLeft(6)"
   ]
  },
  {
   "cell_type": "code",
   "execution_count": 103,
   "metadata": {
    "collapsed": true
   },
   "outputs": [],
   "source": [
    "\"\"\"\n",
    "Write a Program to print\n",
    "*****\n",
    "****\n",
    "***\n",
    "**\n",
    "*\n",
    "\"\"\"\n",
    "\n",
    "def starPyramidLeftReverse(n):\n",
    "    \n",
    "    for i in range(n):\n",
    "            print( (n-i)*'*' )"
   ]
  },
  {
   "cell_type": "code",
   "execution_count": 104,
   "metadata": {},
   "outputs": [
    {
     "name": "stdout",
     "output_type": "stream",
     "text": [
      "******\n",
      "*****\n",
      "****\n",
      "***\n",
      "**\n",
      "*\n"
     ]
    }
   ],
   "source": [
    "starPyramidLeftReverse(6)"
   ]
  },
  {
   "cell_type": "code",
   "execution_count": 105,
   "metadata": {},
   "outputs": [],
   "source": [
    "\"\"\"\n",
    "Write a Program to print\n",
    "     *\n",
    "    **\n",
    "   ***\n",
    "  ****\n",
    " *****\n",
    "\"\"\"\n",
    "\n",
    "\n",
    "def starPyramidRight(n):\n",
    "    for i in range(n):\n",
    "            print( (n-i)*' ' + (i)*'*' )"
   ]
  },
  {
   "cell_type": "code",
   "execution_count": 106,
   "metadata": {},
   "outputs": [
    {
     "name": "stdout",
     "output_type": "stream",
     "text": [
      "      \n",
      "     *\n",
      "    **\n",
      "   ***\n",
      "  ****\n",
      " *****\n"
     ]
    }
   ],
   "source": [
    "starPyramidRight(6)"
   ]
  },
  {
   "cell_type": "code",
   "execution_count": 99,
   "metadata": {},
   "outputs": [],
   "source": [
    "\"\"\"\n",
    "Write a Program to print\n",
    "      *\n",
    "     ***\n",
    "    *****\n",
    "   *******\n",
    "  *********\n",
    " ***********\n",
    "\"\"\"\n",
    "\n",
    "def starTriangle(n):\n",
    "    for i in range(n):\n",
    "            print( (n-i)*' ' + (i)*'*' + (i+1)*'*' + '' )"
   ]
  },
  {
   "cell_type": "code",
   "execution_count": 100,
   "metadata": {},
   "outputs": [
    {
     "name": "stdout",
     "output_type": "stream",
     "text": [
      "      *\n",
      "     ***\n",
      "    *****\n",
      "   *******\n",
      "  *********\n",
      " ***********\n"
     ]
    }
   ],
   "source": [
    "starTriangle(6)"
   ]
  },
  {
   "cell_type": "code",
   "execution_count": 111,
   "metadata": {},
   "outputs": [],
   "source": [
    "\"\"\"\n",
    "Program to print middle element as number in Christmas Tree\n",
    "\n",
    "                  1                   \n",
    "                * 2 *                 \n",
    "              * * 3 * *               \n",
    "            * * * 4 * * *             \n",
    "          * * * * 5 * * * *           \n",
    "        * * * * * 6 * * * * *         \n",
    "      * * * * * * 7 * * * * * *       \n",
    "    * * * * * * * 8 * * * * * * *     \n",
    "  * * * * * * * * 9 * * * * * * * *   \n",
    "* * * * * * * * * 10 * * * * * * * * * \n",
    "\"\"\"\n",
    "\n",
    "def christmasTree(n):\n",
    "    z=n-1\n",
    "    x=1\n",
    "    count = 0\n",
    "    for i in range(0,n):\n",
    "        for i in range(0,z):\n",
    "            print(' ',end=' ')\n",
    "        for i in range(0,x):\n",
    "            if count == i:\n",
    "                print(str(i+1), end=' ')\n",
    "            else:\n",
    "                print('*', end=' ')\n",
    "        for i in range(0,z):\n",
    "            print(' ',end=' ')\n",
    "            \n",
    "        count += 1\n",
    "        x=x+2\n",
    "        z=z-1\n",
    "        print()"
   ]
  },
  {
   "cell_type": "code",
   "execution_count": 112,
   "metadata": {},
   "outputs": [
    {
     "name": "stdout",
     "output_type": "stream",
     "text": [
      "                  1                   \n",
      "                * 2 *                 \n",
      "              * * 3 * *               \n",
      "            * * * 4 * * *             \n",
      "          * * * * 5 * * * *           \n",
      "        * * * * * 6 * * * * *         \n",
      "      * * * * * * 7 * * * * * *       \n",
      "    * * * * * * * 8 * * * * * * *     \n",
      "  * * * * * * * * 9 * * * * * * * *   \n",
      "* * * * * * * * * 10 * * * * * * * * * \n"
     ]
    }
   ],
   "source": [
    "christmasTree(10)"
   ]
  },
  {
   "cell_type": "code",
   "execution_count": null,
   "metadata": {},
   "outputs": [],
   "source": []
  }
 ],
 "metadata": {
  "kernelspec": {
   "display_name": "Python 3",
   "language": "python",
   "name": "python3"
  },
  "language_info": {
   "codemirror_mode": {
    "name": "ipython",
    "version": 3
   },
   "file_extension": ".py",
   "mimetype": "text/x-python",
   "name": "python",
   "nbconvert_exporter": "python",
   "pygments_lexer": "ipython3",
   "version": "3.7.4"
  }
 },
 "nbformat": 4,
 "nbformat_minor": 2
}
