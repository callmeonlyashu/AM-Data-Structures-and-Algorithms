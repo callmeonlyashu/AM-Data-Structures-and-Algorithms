{
 "cells": [
  {
   "cell_type": "code",
   "execution_count": 5,
   "id": "5a013725",
   "metadata": {},
   "outputs": [],
   "source": [
    "def decor(func):\n",
    "    def inner(arg1, arg2):\n",
    "        print(f'{arg1 * arg2}')\n",
    "        print(\"Function has been decorated\")\n",
    "        func(arg1, arg2)\n",
    "        print(\"Function decorated\")\n",
    "        \n",
    "    return inner"
   ]
  },
  {
   "cell_type": "code",
   "execution_count": 6,
   "id": "4a1e1f99",
   "metadata": {},
   "outputs": [],
   "source": [
    "@decor\n",
    "def to_be_decor(arg1, arg2):\n",
    "    print(f'Sum is {arg1 + arg2}')"
   ]
  },
  {
   "cell_type": "code",
   "execution_count": 7,
   "id": "972a55f8",
   "metadata": {},
   "outputs": [
    {
     "name": "stdout",
     "output_type": "stream",
     "text": [
      "15\n",
      "Function has been decorated\n",
      "Sum is 8\n",
      "Function decorated\n"
     ]
    }
   ],
   "source": [
    "to_be_decor(5, 3)"
   ]
  },
  {
   "cell_type": "code",
   "execution_count": 46,
   "id": "706fe9f9",
   "metadata": {},
   "outputs": [
    {
     "name": "stdout",
     "output_type": "stream",
     "text": [
      "[2, 5, 6]\n",
      "[4, 9]\n",
      "[7, 6]\n"
     ]
    }
   ],
   "source": [
    "lst = [2, 5, 6, 4, 9, 12, 7, 6]\n",
    "target = 13\n",
    "\n",
    "\n",
    "def generate_subarrays(lst, target):\n",
    "    for i in range(len(lst)):\n",
    "        if sum(lst[0:i+1]) == target:\n",
    "            print(f'{lst[0:i+1]}')\n",
    "    \n",
    "    if len(lst) != 1:\n",
    "        generate_subarrays(lst[1:], target)\n",
    "        \n",
    "        \n",
    "generate_subarrays(lst, target)\n"
   ]
  },
  {
   "cell_type": "code",
   "execution_count": null,
   "id": "ad7d1e95",
   "metadata": {},
   "outputs": [],
   "source": []
  }
 ],
 "metadata": {
  "kernelspec": {
   "display_name": "Python 3",
   "language": "python",
   "name": "python3"
  },
  "language_info": {
   "codemirror_mode": {
    "name": "ipython",
    "version": 3
   },
   "file_extension": ".py",
   "mimetype": "text/x-python",
   "name": "python",
   "nbconvert_exporter": "python",
   "pygments_lexer": "ipython3",
   "version": "3.8.8"
  }
 },
 "nbformat": 4,
 "nbformat_minor": 5
}
