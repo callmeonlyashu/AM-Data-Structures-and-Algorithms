{
 "cells": [
  {
   "cell_type": "code",
   "execution_count": 1,
   "id": "8a960de3",
   "metadata": {},
   "outputs": [],
   "source": [
    "lst = [10, 9, 5, 4, 2, 1]\n",
    "element = 4\n",
    "\n",
    "def binary_search(lst, element):\n",
    "    \n",
    "    root = len(lst)//2\n",
    "    \n",
    "    if element == lst[root]:\n",
    "        return root\n",
    "    elif element < lst[root]:\n",
    "        binary_search(lst[:root], element) # Left search \n",
    "    else:\n",
    "        binary_search(lst[root:], element) # right search"
   ]
  },
  {
   "cell_type": "code",
   "execution_count": 2,
   "id": "c0fa489b",
   "metadata": {},
   "outputs": [
    {
     "data": {
      "text/plain": [
       "3"
      ]
     },
     "execution_count": 2,
     "metadata": {},
     "output_type": "execute_result"
    }
   ],
   "source": [
    "binary_search(lst, element)"
   ]
  },
  {
   "cell_type": "code",
   "execution_count": 3,
   "id": "b047acd8",
   "metadata": {},
   "outputs": [],
   "source": [
    "def decor(func):\n",
    "    def inner():\n",
    "        print(\"Function has been decorated now\")\n",
    "        func()\n",
    "        print(\"Function decoration ends here\")\n",
    "        \n",
    "    return inner"
   ]
  },
  {
   "cell_type": "code",
   "execution_count": 4,
   "id": "f028efed",
   "metadata": {},
   "outputs": [],
   "source": [
    "@decor\n",
    "def to_be_decor():\n",
    "    print(\"Function to be decorated\")"
   ]
  },
  {
   "cell_type": "code",
   "execution_count": 5,
   "id": "7b1387d3",
   "metadata": {},
   "outputs": [
    {
     "name": "stdout",
     "output_type": "stream",
     "text": [
      "Function has been decorated now\n",
      "Function to be decorated\n",
      "Function decoration ends here\n"
     ]
    }
   ],
   "source": [
    "to_be_decor()"
   ]
  },
  {
   "cell_type": "code",
   "execution_count": 7,
   "id": "eba2a34e",
   "metadata": {},
   "outputs": [
    {
     "name": "stdout",
     "output_type": "stream",
     "text": [
      "[1, 23, 4, 4, 5, 1, 2, 3]\n"
     ]
    }
   ],
   "source": [
    "a = [1,23,4,4,5]\n",
    "b = [1,2,3]\n",
    "\n",
    "a.extend(b)\n",
    "print(a)"
   ]
  },
  {
   "cell_type": "code",
   "execution_count": 16,
   "id": "bf67d624",
   "metadata": {},
   "outputs": [
    {
     "name": "stdout",
     "output_type": "stream",
     "text": [
      "Invalid String\n"
     ]
    }
   ],
   "source": [
    "string = \"({[]})\"\n",
    "\n",
    "from collections import Counter\n",
    "def valid_parentheses(string):\n",
    "    lst = list(string)\n",
    "    result_dict = dict(Counter(lst))\n",
    "\n",
    "    if result_dict['('] == result_dict[')'] and result_dict['{'] == result_dict['}'] and result_dict['['] == result_dict[']']:\n",
    "        print(\"Valid String\")\n",
    "    else:\n",
    "        print(\"Invalid String\")\n",
    "        \n",
    "valid_parentheses(string)"
   ]
  },
  {
   "cell_type": "code",
   "execution_count": null,
   "id": "29639ed1",
   "metadata": {},
   "outputs": [],
   "source": []
  }
 ],
 "metadata": {
  "kernelspec": {
   "display_name": "Python 3",
   "language": "python",
   "name": "python3"
  },
  "language_info": {
   "codemirror_mode": {
    "name": "ipython",
    "version": 3
   },
   "file_extension": ".py",
   "mimetype": "text/x-python",
   "name": "python",
   "nbconvert_exporter": "python",
   "pygments_lexer": "ipython3",
   "version": "3.8.8"
  }
 },
 "nbformat": 4,
 "nbformat_minor": 5
}
