{
 "cells": [
  {
   "cell_type": "code",
   "execution_count": null,
   "id": "76915bf9",
   "metadata": {},
   "outputs": [],
   "source": [
    "\"\"\"\n",
    "Merge all overlapping intervals from a given list.\n",
    "Sample Input: [[1,3],[2,6],[7,9],[10,12],[11,18],[19,22]]\n",
    "Output: [[1,6],[7,9],[10,18],[19,22]]\n",
    "\"\"\""
   ]
  },
  {
   "cell_type": "code",
   "execution_count": 10,
   "id": "a79b6730",
   "metadata": {},
   "outputs": [
    {
     "name": "stdout",
     "output_type": "stream",
     "text": [
      "[[1, 6], [7, 9], [10, 18], [19, 22]]\n"
     ]
    }
   ],
   "source": [
    "arr = [[1,3],[2,6],[7,9],[10,12],[11,18],[19,22]]\n",
    "\n",
    "start, end = arr[0]\n",
    "\n",
    "res = []\n",
    "for i in range(1, len(arr)):\n",
    "    if arr[i][0] <= end:\n",
    "        end = max(arr[i][1], end)\n",
    "    else:\n",
    "        res.append([start, end])\n",
    "        start, end = arr[i]\n",
    "        \n",
    "res.append(arr[i])\n",
    "\n",
    "print(res)"
   ]
  },
  {
   "cell_type": "code",
   "execution_count": null,
   "id": "1004b948",
   "metadata": {},
   "outputs": [],
   "source": []
  },
  {
   "cell_type": "code",
   "execution_count": 11,
   "id": "750bf10a",
   "metadata": {},
   "outputs": [
    {
     "data": {
      "text/plain": [
       "'\\nGiven a list of integers, return all unique subsets that sum to K.\\n# Input: [2, 3, 5, 7], k=7\\n# Output: [[2, 5], [7]]\\n# Input: [1, 2, 2, 3], k=4\\n# Output: [[1, 3], [2, 2]]\\n'"
      ]
     },
     "execution_count": 11,
     "metadata": {},
     "output_type": "execute_result"
    }
   ],
   "source": [
    "\"\"\"\n",
    "Given a list of integers, return all unique subsets that sum to K.\n",
    "# Input: [2, 3, 5, 7], k=7\n",
    "# Output: [[2, 5], [7]]\n",
    "# Input: [1, 2, 2, 3], k=4\n",
    "# Output: [[1, 3], [2, 2]]\n",
    "\"\"\""
   ]
  },
  {
   "cell_type": "code",
   "execution_count": 25,
   "id": "b69fa4ce",
   "metadata": {},
   "outputs": [
    {
     "name": "stdout",
     "output_type": "stream",
     "text": [
      "[[2, 5], [7]]\n"
     ]
    }
   ],
   "source": [
    "res = []\n",
    "\n",
    "arr = [2, 3, 5, 7]\n",
    "k = 7\n",
    "\n",
    "final_subsets = []\n",
    "def subsets(i, res):\n",
    "    if i >= len(arr):\n",
    "        return\n",
    "    \n",
    "    res.append(arr[i])\n",
    "    if sum(res.copy()) == k:\n",
    "        final_subsets.append(res.copy())\n",
    "    subsets(i+1, res)\n",
    "    \n",
    "    res.pop()\n",
    "    subsets(i+1, res)\n",
    "\n",
    "subsets(0, [])\n",
    "print(final_subsets)"
   ]
  },
  {
   "cell_type": "code",
   "execution_count": null,
   "id": "ba6cc14b",
   "metadata": {},
   "outputs": [],
   "source": []
  }
 ],
 "metadata": {
  "kernelspec": {
   "display_name": "Python 3",
   "language": "python",
   "name": "python3"
  },
  "language_info": {
   "codemirror_mode": {
    "name": "ipython",
    "version": 3
   },
   "file_extension": ".py",
   "mimetype": "text/x-python",
   "name": "python",
   "nbconvert_exporter": "python",
   "pygments_lexer": "ipython3",
   "version": "3.8.8"
  }
 },
 "nbformat": 4,
 "nbformat_minor": 5
}
