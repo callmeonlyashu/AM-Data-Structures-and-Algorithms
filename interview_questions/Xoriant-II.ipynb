{
 "cells": [
  {
   "cell_type": "code",
   "execution_count": 1,
   "metadata": {},
   "outputs": [],
   "source": [
    "\"\"\"\n",
    "Write a decorator for div(a, b): \n",
    "return a/b, to handle division by zero , \n",
    "and print \"B Cannot be zero\" else print the result.\n",
    "\n",
    "\"\"\"\n",
    "\n",
    "def validDecor( func ):\n",
    "    def innerFunc( arg1, arg2 ):\n",
    "        \n",
    "        if arg2 == 0:\n",
    "            print( \"B Cannot be zero\" )\n",
    "        else:\n",
    "            func( arg1, arg2 )\n",
    "            \n",
    "    return innerFunc\n",
    "\n"
   ]
  },
  {
   "cell_type": "code",
   "execution_count": 2,
   "metadata": {},
   "outputs": [],
   "source": [
    "@validDecor\n",
    "def divByZero( arg1, arg2 ):\n",
    "    \n",
    "    print( arg1/arg2 )"
   ]
  },
  {
   "cell_type": "code",
   "execution_count": 4,
   "metadata": {},
   "outputs": [
    {
     "name": "stdout",
     "output_type": "stream",
     "text": [
      "4.0\n"
     ]
    }
   ],
   "source": [
    "divByZero( 12, 3 )"
   ]
  },
  {
   "cell_type": "code",
   "execution_count": 19,
   "metadata": {},
   "outputs": [],
   "source": [
    "l1 = [1, 2, [3,5], 4]\n",
    "l2 = l1.copy()\n",
    "l1[1] = 7\n",
    "l2[2][0] = 6\n"
   ]
  },
  {
   "cell_type": "code",
   "execution_count": 20,
   "metadata": {},
   "outputs": [
    {
     "name": "stdout",
     "output_type": "stream",
     "text": [
      "[1, 7, [6, 5], 4]\n",
      "[1, 2, [6, 5], 4]\n"
     ]
    }
   ],
   "source": [
    "print( l1 )\n",
    "print( l2 )"
   ]
  },
  {
   "cell_type": "code",
   "execution_count": 25,
   "metadata": {},
   "outputs": [],
   "source": [
    "# find a,b,c and d such as a + b = c + d\n",
    "\n",
    "lst = [3, 4, 7, 1, 2, 9, 8]\n",
    "\n"
   ]
  },
  {
   "cell_type": "code",
   "execution_count": 70,
   "metadata": {},
   "outputs": [
    {
     "name": "stdout",
     "output_type": "stream",
     "text": [
      "(10, 12)\n"
     ]
    }
   ],
   "source": [
    "s = \"hello world 55 test 75\"\n",
    "\n",
    "sumOfDigit = 0 \n",
    "lst = []\n",
    "lst2 = []\n",
    "for i in s:\n",
    "    \n",
    "    if i.isdigit():\n",
    "        lst.append( int(i) )\n",
    "    \n",
    "    if len( lst ) > 1:\n",
    "        lst2.append( sum( lst ) )\n",
    "        lst = []\n",
    "\n",
    "print( tuple( lst2 ) )\n"
   ]
  },
  {
   "cell_type": "code",
   "execution_count": null,
   "metadata": {},
   "outputs": [],
   "source": []
  }
 ],
 "metadata": {
  "kernelspec": {
   "display_name": "Python 3",
   "language": "python",
   "name": "python3"
  },
  "language_info": {
   "codemirror_mode": {
    "name": "ipython",
    "version": 3
   },
   "file_extension": ".py",
   "mimetype": "text/x-python",
   "name": "python",
   "nbconvert_exporter": "python",
   "pygments_lexer": "ipython3",
   "version": "3.7.4"
  }
 },
 "nbformat": 4,
 "nbformat_minor": 2
}
