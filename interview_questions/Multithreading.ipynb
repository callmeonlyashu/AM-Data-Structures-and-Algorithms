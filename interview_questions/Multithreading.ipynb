{
 "cells": [
  {
   "cell_type": "code",
   "execution_count": 14,
   "metadata": {},
   "outputs": [
    {
     "name": "stdout",
     "output_type": "stream",
     "text": [
      "452.15999999999997\n",
      "End of Thread 1\n",
      "75.36\n",
      "End of Thread 2\n",
      "Multi Threading Program Execution Completed\n"
     ]
    }
   ],
   "source": [
    "import threading\n",
    "\n",
    "def areaOfCircle( radius ):    \n",
    "    print( 3.14 * radius * radius )\n",
    "    print( 'End of Thread 1' )\n",
    "\n",
    "def circumferenceOfCircle( radius ):    \n",
    "    print( 2 * 3.14 * radius )\n",
    "    print( 'End of Thread 2' )\n",
    "    \n",
    "t1 = threading.Thread( target = areaOfCircle, args=( 12, ) )\n",
    "t2 = threading.Thread( target = circumferenceOfCircle, args=( 12, ) )\n",
    "\n",
    "t1.start() # Start Thread 1\n",
    "t2.start() # Start Thread 2\n",
    "\n",
    "t1.join() # Stops Execution of main program till t1 threads completed\n",
    "t2.join() # Stops Execution of main program till t2 threads completed\n",
    "\n",
    "print( \"Multi Threading Program Execution Completed\" )"
   ]
  },
  {
   "cell_type": "code",
   "execution_count": null,
   "metadata": {},
   "outputs": [],
   "source": []
  }
 ],
 "metadata": {
  "kernelspec": {
   "display_name": "Python 3",
   "language": "python",
   "name": "python3"
  },
  "language_info": {
   "codemirror_mode": {
    "name": "ipython",
    "version": 3
   },
   "file_extension": ".py",
   "mimetype": "text/x-python",
   "name": "python",
   "nbconvert_exporter": "python",
   "pygments_lexer": "ipython3",
   "version": "3.7.4"
  }
 },
 "nbformat": 4,
 "nbformat_minor": 2
}
