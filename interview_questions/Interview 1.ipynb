{
 "cells": [
  {
   "cell_type": "code",
   "execution_count": 1,
   "id": "3ab6ddaf",
   "metadata": {},
   "outputs": [
    {
     "data": {
      "text/plain": [
       "'\\noutput = {\\n    500: 1,\\n    100: 1,\\n    20: 2,\\n    5: 1,\\n    2: 1,\\n    1:1\\n}\\n'"
      ]
     },
     "execution_count": 1,
     "metadata": {},
     "output_type": "execute_result"
    }
   ],
   "source": [
    "\n",
    "\n",
    "amount = 648\n",
    "curr_notes = [500, 100, 50, 20, 10, 5, 2, 1]\n",
    "\n",
    "\"\"\"\n",
    "output = {\n",
    "    500: 1,\n",
    "    100: 1,\n",
    "    20: 2,\n",
    "    5: 1,\n",
    "    2: 1,\n",
    "    1:1\n",
    "}\n",
    "\"\"\""
   ]
  },
  {
   "cell_type": "code",
   "execution_count": 21,
   "id": "d7782e91",
   "metadata": {},
   "outputs": [
    {
     "name": "stdout",
     "output_type": "stream",
     "text": [
      "{500: 1, 100: 1, 20: 2, 5: 1, 2: 1}\n"
     ]
    }
   ],
   "source": [
    "amount = 648\n",
    "curr_notes = [500, 100, 50, 20, 10, 5, 2, 1]\n",
    "result_dict = {}\n",
    "for notes in curr_notes:\n",
    "    remaining_amount = amount%notes\n",
    "    no_of_notes = amount//notes\n",
    "    if remaining_amount != 0:\n",
    "        result_dict[notes] = no_of_notes\n",
    "        amount = remaining_amount\n",
    "\n",
    "\n",
    "result = {x:y for x, y in result_dict.items() if y!=0}\n",
    "print(result)"
   ]
  },
  {
   "cell_type": "code",
   "execution_count": null,
   "id": "d08a80b6",
   "metadata": {},
   "outputs": [],
   "source": []
  },
  {
   "cell_type": "code",
   "execution_count": 22,
   "id": "d5078c8a",
   "metadata": {},
   "outputs": [],
   "source": [
    "a = 'str'\n",
    "b = a"
   ]
  },
  {
   "cell_type": "code",
   "execution_count": 25,
   "id": "254d512d",
   "metadata": {},
   "outputs": [
    {
     "name": "stdout",
     "output_type": "stream",
     "text": [
      "str1\n",
      "str\n"
     ]
    }
   ],
   "source": [
    "print(a)\n",
    "print(b)"
   ]
  },
  {
   "cell_type": "code",
   "execution_count": 24,
   "id": "30943ba6",
   "metadata": {},
   "outputs": [],
   "source": [
    "a = 'str1'"
   ]
  },
  {
   "cell_type": "code",
   "execution_count": 26,
   "id": "98cbdf5f",
   "metadata": {},
   "outputs": [
    {
     "data": {
      "text/plain": [
       "str"
      ]
     },
     "execution_count": 26,
     "metadata": {},
     "output_type": "execute_result"
    }
   ],
   "source": [
    "type(a)"
   ]
  },
  {
   "cell_type": "code",
   "execution_count": 27,
   "id": "12f34cf3",
   "metadata": {},
   "outputs": [],
   "source": [
    "# user\n",
    "\n",
    "# /api/v1/user/insert POST\n",
    "# /api/v1/user/get GET\n",
    "# /api/v1/user/update PUT\n",
    "# /api/v1/user/update DELETE"
   ]
  },
  {
   "cell_type": "code",
   "execution_count": 28,
   "id": "8ff618c9",
   "metadata": {},
   "outputs": [
    {
     "name": "stdout",
     "output_type": "stream",
     "text": [
      "(2, 3.0, ['name'], {'hobby': 'code'})\n"
     ]
    }
   ],
   "source": [
    "test=(2, 3.0, [], {})\n",
    "test[2].append('name')\n",
    "test[3]['hobby'] = 'code'\n",
    "print(test)\n"
   ]
  },
  {
   "cell_type": "code",
   "execution_count": null,
   "id": "69fa3241",
   "metadata": {},
   "outputs": [],
   "source": []
  }
 ],
 "metadata": {
  "kernelspec": {
   "display_name": "Python 3",
   "language": "python",
   "name": "python3"
  },
  "language_info": {
   "codemirror_mode": {
    "name": "ipython",
    "version": 3
   },
   "file_extension": ".py",
   "mimetype": "text/x-python",
   "name": "python",
   "nbconvert_exporter": "python",
   "pygments_lexer": "ipython3",
   "version": "3.8.8"
  }
 },
 "nbformat": 4,
 "nbformat_minor": 5
}
