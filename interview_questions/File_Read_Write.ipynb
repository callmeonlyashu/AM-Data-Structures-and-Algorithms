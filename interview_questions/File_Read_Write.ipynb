{
 "cells": [
  {
   "cell_type": "code",
   "execution_count": 24,
   "metadata": {},
   "outputs": [],
   "source": [
    "file = open( \"file_to_write.txt\", \"w\" ) #W is write mode. Overwrite existing file or create new if not there.\n",
    "file.write( \"\"\"Pug\n",
    "Jack Russell Terrier\n",
    "English Springer Spaniel\n",
    "German Shepherd\n",
    "Staffordshire Bull Terrier\n",
    "Cavalier King Charles Spaniel\n",
    "Golden Retriever\n",
    "West Highland White Terrier\n",
    "Boxer\n",
    "Border Terrier\"\"\" )\n",
    "file.close()"
   ]
  },
  {
   "cell_type": "code",
   "execution_count": 14,
   "metadata": {},
   "outputs": [],
   "source": [
    "file = open( \"file_to_append.txt\", \"a\" ) #a is write mode. append in a new file or create new if not there.\n",
    "file.write( \"File has been created or appended in existing file.\" )\n",
    "file.close()"
   ]
  },
  {
   "cell_type": "code",
   "execution_count": 55,
   "metadata": {},
   "outputs": [],
   "source": [
    "a = [\"I \", \"Will \", \"Be \", \"Written \", \"Line \", \"by \", \"Line\"]\n",
    "with open( \"file_to_writeline.txt\", \"w\" ) as writer:\n",
    "    writer.writelines(a) #using write will throw error here as write accepts string as a argument, not a list or tuple"
   ]
  },
  {
   "cell_type": "code",
   "execution_count": 42,
   "metadata": {},
   "outputs": [
    {
     "name": "stdout",
     "output_type": "stream",
     "text": [
      "Pug\n",
      "Jack Russell Terrier\n",
      "English Springer Spaniel\n",
      "German Shepherd\n",
      "Staffordshire Bull Terrier\n",
      "Cavalier King Charles Spaniel\n",
      "Golden Retriever\n",
      "West Highland White Terrier\n",
      "Boxer\n",
      "Border Terrier\n"
     ]
    }
   ],
   "source": [
    "file = open( \"file_to_write.txt\", \"r\" ) #r is for read mode and used to read the contents of a file.\n",
    "file_content = file.read()\n",
    "file.close()\n",
    "print(file_content)"
   ]
  },
  {
   "cell_type": "code",
   "execution_count": 15,
   "metadata": {},
   "outputs": [
    {
     "name": "stdout",
     "output_type": "stream",
     "text": [
      "File has been created or appended.File has been created or appended in existing file.\n"
     ]
    }
   ],
   "source": [
    "with open( \"file_to_append.txt\", \"r\" ) as reader:\n",
    "    print(reader.read())"
   ]
  },
  {
   "cell_type": "code",
   "execution_count": 28,
   "metadata": {},
   "outputs": [
    {
     "name": "stdout",
     "output_type": "stream",
     "text": [
      "Pug\n",
      "\n",
      "Jack Russell Terrier\n",
      "\n",
      "English Springer Spaniel\n",
      "\n",
      "German Shepherd\n",
      "\n",
      "Staffordshire Bull Terrier\n",
      "\n",
      "Cavalier King Charles Spaniel\n",
      "\n",
      "Golden Retriever\n",
      "\n",
      "West Highland White Terrier\n",
      "\n",
      "Boxer\n",
      "\n",
      "Border Terrier\n"
     ]
    }
   ],
   "source": [
    "with open( \"file_to_write.txt\", \"r\" ) as reader:\n",
    "    line = reader.readline()\n",
    "    while line != '':\n",
    "        print(line)\n",
    "        line = reader.readline()"
   ]
  },
  {
   "cell_type": "code",
   "execution_count": null,
   "metadata": {},
   "outputs": [],
   "source": []
  }
 ],
 "metadata": {
  "kernelspec": {
   "display_name": "Python 3",
   "language": "python",
   "name": "python3"
  },
  "language_info": {
   "codemirror_mode": {
    "name": "ipython",
    "version": 3
   },
   "file_extension": ".py",
   "mimetype": "text/x-python",
   "name": "python",
   "nbconvert_exporter": "python",
   "pygments_lexer": "ipython3",
   "version": "3.7.4"
  }
 },
 "nbformat": 4,
 "nbformat_minor": 2
}
