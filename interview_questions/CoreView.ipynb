{
 "cells": [
  {
   "cell_type": "code",
   "execution_count": 104,
   "metadata": {},
   "outputs": [
    {
     "name": "stdout",
     "output_type": "stream",
     "text": [
      "7\n"
     ]
    }
   ],
   "source": [
    "lst = [1,1,1,0,0,1,1,1,1,1,1,1,0,1,1,1,1,1]\n",
    "\n",
    "lstCount = []\n",
    "count = 0\n",
    "for i in lst:\n",
    "    if i == 1:\n",
    "        count += 1\n",
    "    else:\n",
    "        count = 0\n",
    "    lstCount.append( count )\n",
    "print( max( lstCount ) )"
   ]
  },
  {
   "cell_type": "code",
   "execution_count": 11,
   "metadata": {},
   "outputs": [
    {
     "name": "stdout",
     "output_type": "stream",
     "text": [
      "List is incrementing\n"
     ]
    }
   ],
   "source": [
    "lst = [5, 10, 11, 14, 16, 20]\n",
    "\n",
    "newLst = lst\n",
    "newLst.sort()\n",
    "if newLst == lst:\n",
    "    print( \"List is incrementing\" )\n",
    "else:\n",
    "    print( \"List is random\" )"
   ]
  },
  {
   "cell_type": "code",
   "execution_count": 105,
   "metadata": {},
   "outputs": [],
   "source": [
    "def formWord( container, words ):\n",
    "    \n",
    "    usedCharacters = []\n",
    "    boolList = []\n",
    "    \n",
    "    for word in words:\n",
    "        for i in word:\n",
    "            if i in container and i not in usedCharacters:\n",
    "                usedCharacters.append( i )\n",
    "            else:\n",
    "                usedCharacters = []\n",
    "         \n",
    "        if len( usedCharacters ) > 0:\n",
    "            boolList.append( True )\n",
    "        else:\n",
    "            boolList.append( False )\n",
    "            \n",
    "    return boolList"
   ]
  },
  {
   "cell_type": "code",
   "execution_count": 106,
   "metadata": {},
   "outputs": [
    {
     "name": "stdout",
     "output_type": "stream",
     "text": [
      "[False]\n"
     ]
    }
   ],
   "source": [
    "container = ['a', 'b', 'g', 'e', 'l', 'm', 'n', 'e', 'k', 's', 'g', 'g']\n",
    "words = ['egg']\n",
    "\n",
    "print( formWord( container, words ) )"
   ]
  },
  {
   "cell_type": "code",
   "execution_count": 53,
   "metadata": {},
   "outputs": [],
   "source": [
    "lst = [1,2,3]\n",
    "\n",
    "a= iter( lst )"
   ]
  },
  {
   "cell_type": "code",
   "execution_count": 56,
   "metadata": {},
   "outputs": [
    {
     "data": {
      "text/plain": [
       "3"
      ]
     },
     "execution_count": 56,
     "metadata": {},
     "output_type": "execute_result"
    }
   ],
   "source": [
    "a.__next__()"
   ]
  },
  {
   "cell_type": "code",
   "execution_count": 57,
   "metadata": {},
   "outputs": [],
   "source": [
    "def decor( func ):\n",
    "    \n",
    "    def decor1():\n",
    "        try_catch\n",
    "        func()"
   ]
  },
  {
   "cell_type": "code",
   "execution_count": 60,
   "metadata": {},
   "outputs": [],
   "source": [
    "@decor\n",
    "def func():\n",
    "    pass"
   ]
  },
  {
   "cell_type": "code",
   "execution_count": 61,
   "metadata": {},
   "outputs": [],
   "source": [
    "from operator import itemgetter\n",
    "from collections import OrderedDict\n",
    "y = {10:22, 31:42, 42:33, 22:122, 110:1228}\n",
    "\n",
    "sorted_x = OrderedDict(sorted( y.items(), key=itemgetter(1) ))"
   ]
  },
  {
   "cell_type": "code",
   "execution_count": 62,
   "metadata": {},
   "outputs": [
    {
     "name": "stdout",
     "output_type": "stream",
     "text": [
      "10 22\n",
      "42 33\n",
      "31 42\n",
      "22 122\n",
      "110 1228\n"
     ]
    }
   ],
   "source": [
    "for k,v in sorted_x.items():\n",
    "    print( k,v )"
   ]
  },
  {
   "cell_type": "code",
   "execution_count": 64,
   "metadata": {},
   "outputs": [],
   "source": [
    "num = [1,4,-5,10,-7,2,3,-1 ]\n",
    "fsq = map( lambda x:x**2, filter( lambda x: x>0, num ) )"
   ]
  },
  {
   "cell_type": "code",
   "execution_count": 67,
   "metadata": {},
   "outputs": [
    {
     "name": "stdout",
     "output_type": "stream",
     "text": [
      "[1, 16, 100, 4, 9]\n"
     ]
    }
   ],
   "source": [
    "print(list(fsq))"
   ]
  },
  {
   "cell_type": "code",
   "execution_count": 81,
   "metadata": {},
   "outputs": [
    {
     "name": "stdout",
     "output_type": "stream",
     "text": [
      "<zip object at 0x7fcaa55690f0>\n"
     ]
    }
   ],
   "source": [
    "a = [1,2,3,4,5,6,7,8,9,10]\n",
    "print( zip([a.__iter__()]*3) )\n",
    "\n",
    "b = zip([a.__iter__()]*3)\n"
   ]
  },
  {
   "cell_type": "code",
   "execution_count": 87,
   "metadata": {},
   "outputs": [
    {
     "data": {
      "text/plain": [
       "{}"
      ]
     },
     "execution_count": 87,
     "metadata": {},
     "output_type": "execute_result"
    }
   ],
   "source": [
    "dict( b )"
   ]
  },
  {
   "cell_type": "code",
   "execution_count": 111,
   "metadata": {},
   "outputs": [],
   "source": [
    "a = [23,43,65,81,25,87]\n",
    "\n",
    "def getSecondHighest(a):\n",
    "    \n",
    "    a.remove( max(a) )\n",
    "    \n",
    "    return max(a)\n",
    "    \n",
    "    "
   ]
  },
  {
   "cell_type": "code",
   "execution_count": 112,
   "metadata": {},
   "outputs": [
    {
     "data": {
      "text/plain": [
       "81"
      ]
     },
     "execution_count": 112,
     "metadata": {},
     "output_type": "execute_result"
    }
   ],
   "source": [
    "getSecondHighest(a)"
   ]
  },
  {
   "cell_type": "code",
   "execution_count": null,
   "metadata": {},
   "outputs": [],
   "source": []
  }
 ],
 "metadata": {
  "kernelspec": {
   "display_name": "Python 3",
   "language": "python",
   "name": "python3"
  },
  "language_info": {
   "codemirror_mode": {
    "name": "ipython",
    "version": 3
   },
   "file_extension": ".py",
   "mimetype": "text/x-python",
   "name": "python",
   "nbconvert_exporter": "python",
   "pygments_lexer": "ipython3",
   "version": "3.7.4"
  }
 },
 "nbformat": 4,
 "nbformat_minor": 2
}
