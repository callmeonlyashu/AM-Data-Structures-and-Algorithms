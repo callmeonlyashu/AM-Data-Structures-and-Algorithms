{
 "cells": [
  {
   "cell_type": "code",
   "execution_count": 6,
   "id": "f024c75a",
   "metadata": {},
   "outputs": [
    {
     "name": "stdout",
     "output_type": "stream",
     "text": [
      "abcd\n",
      "bacd\n",
      "cabd\n",
      "dabc\n",
      "adbc\n",
      "adbc\n",
      "abdc\n",
      "acdb\n",
      "dcab\n",
      "dacb\n",
      "dacb\n",
      "dabc\n",
      "cabd\n",
      "cdba\n",
      "cdab\n",
      "cdab\n"
     ]
    }
   ],
   "source": [
    "string = \"abcd\"\n",
    "\n",
    "lst = list(string)\n",
    "\n",
    "# print(lst)\n",
    "\n",
    "for i in range(len(lst)):\n",
    "    for j in range(len(lst)):\n",
    "        lst[j], lst[i] = lst[i], lst[j]\n",
    "        print(''.join(lst))"
   ]
  },
  {
   "cell_type": "code",
   "execution_count": 19,
   "id": "21796585",
   "metadata": {},
   "outputs": [
    {
     "name": "stdout",
     "output_type": "stream",
     "text": [
      "1\n",
      "1\n",
      "2\n",
      "3\n",
      "4\n",
      "21\n",
      "13\n",
      "15\n",
      "16\n",
      "20\n",
      "18\n",
      "[1, 2, 3, 4, 13, 15, 16, 18]\n"
     ]
    }
   ],
   "source": [
    "inputs = [1,2,3,4,21,13,15, 16, 20, 18, 21, 8]\n",
    "output = [1,2,3,4,21,21]\n",
    "\n",
    "\n",
    "max_n = inputs[0]\n",
    "result = []\n",
    "for i in range(len(inputs[1:])):\n",
    "    if inputs[i] - max_n > 0:\n",
    "        result.append(max_n)\n",
    "#     else:\n",
    "#         break\n",
    "    \n",
    "    print(max_n)\n",
    "    max_n = inputs[i]\n",
    "    \n",
    "print(result)\n",
    "\n",
    "# def find_longest_sequence(inputs, max_n, i):\n",
    "    \n",
    "#     result = []\n",
    "#     if inputs[i] - max_n:\n",
    "#         result.append(max_n)\n",
    "#         max_n = inputs[i]\n",
    "#     else:\n",
    "#         i += 1\n",
    "#         find_longest_sequence(inputs[i:], max_n, i)\n",
    "        \n",
    "# find_longest_sequence(inputs, inputs[0], 0)"
   ]
  },
  {
   "cell_type": "code",
   "execution_count": null,
   "id": "2b859348",
   "metadata": {},
   "outputs": [],
   "source": []
  }
 ],
 "metadata": {
  "kernelspec": {
   "display_name": "Python 3",
   "language": "python",
   "name": "python3"
  },
  "language_info": {
   "codemirror_mode": {
    "name": "ipython",
    "version": 3
   },
   "file_extension": ".py",
   "mimetype": "text/x-python",
   "name": "python",
   "nbconvert_exporter": "python",
   "pygments_lexer": "ipython3",
   "version": "3.8.8"
  }
 },
 "nbformat": 4,
 "nbformat_minor": 5
}
